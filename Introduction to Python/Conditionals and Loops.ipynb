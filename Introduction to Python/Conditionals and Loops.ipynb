{
 "cells": [
  {
   "cell_type": "markdown",
   "metadata": {},
   "source": [
    "### Boolean Operators, Relational Operators, Logical Operators"
   ]
  },
  {
   "cell_type": "code",
   "execution_count": 2,
   "metadata": {},
   "outputs": [
    {
     "name": "stdout",
     "output_type": "stream",
     "text": [
      "False\n",
      "False\n",
      "True\n"
     ]
    }
   ],
   "source": [
    "a = 10\n",
    "b = 20\n",
    "c1 = a>10\n",
    "c2 = b>20\n",
    "r1 = c1 and c2\n",
    "r2 = c1 or c2\n",
    "r3 = not(r1)\n",
    "\n",
    "print(r1)\n",
    "print(r2)\n",
    "print(r3)"
   ]
  },
  {
   "cell_type": "code",
   "execution_count": 5,
   "metadata": {},
   "outputs": [
    {
     "name": "stdout",
     "output_type": "stream",
     "text": [
      "4\n",
      "n is even\n"
     ]
    }
   ],
   "source": [
    "#check if number is even or odd\n",
    "\n",
    "n=int(input())\n",
    "\n",
    "if n%2==0:\n",
    "    print(\"n is even\")\n",
    "else:\n",
    "    print(\"n is odd\")"
   ]
  },
  {
   "cell_type": "code",
   "execution_count": 7,
   "metadata": {},
   "outputs": [
    {
     "name": "stdout",
     "output_type": "stream",
     "text": [
      "low\n"
     ]
    }
   ],
   "source": [
    "#check if number is b/w\n",
    "\n",
    "n=10\n",
    "\n",
    "if n>=1 and n<=10:\n",
    "    print(\"low\")\n",
    "elif n>=10 and n<=20:\n",
    "    print(\"medium\")\n",
    "elif n>=20 and n<=30:\n",
    "    print(\"high\")"
   ]
  },
  {
   "cell_type": "markdown",
   "metadata": {},
   "source": [
    "### USING ELIF"
   ]
  },
  {
   "cell_type": "code",
   "execution_count": 9,
   "metadata": {},
   "outputs": [
    {
     "name": "stdout",
     "output_type": "stream",
     "text": [
      "2\n",
      "2\n",
      "1\n",
      "2\n"
     ]
    }
   ],
   "source": [
    "a = int(input())\n",
    "b = int (input())\n",
    "c = int(input())\n",
    "\n",
    "if a>= b and a>=c:\n",
    "    print(a)\n",
    "elif b>=a and b>=c:\n",
    "    print(b)\n",
    "else:\n",
    "    print(c)"
   ]
  },
  {
   "cell_type": "code",
   "execution_count": 12,
   "metadata": {},
   "outputs": [
    {
     "name": "stdout",
     "output_type": "stream",
     "text": [
      "0\n",
      "Zero\n"
     ]
    }
   ],
   "source": [
    "#Q: check if n is positive negative or zero\n",
    "\n",
    "n = int(input())\n",
    "\n",
    "if n>0:\n",
    "    print(\"Positive\")\n",
    "elif n<0:\n",
    "    print(\"Negative\")\n",
    "else:\n",
    "    print(\"Zero\")"
   ]
  },
  {
   "cell_type": "code",
   "execution_count": 13,
   "metadata": {},
   "outputs": [
    {
     "name": "stdout",
     "output_type": "stream",
     "text": [
      "B\n"
     ]
    }
   ],
   "source": [
    "if True or True:\n",
    "    if False and True or False:\n",
    "        print('A')\n",
    "    elif False and False or True and True:\n",
    "        print('B')\n",
    "    else:\n",
    "        print('C')\n",
    "else:\n",
    "     print('D')"
   ]
  },
  {
   "cell_type": "code",
   "execution_count": 14,
   "metadata": {},
   "outputs": [
    {
     "name": "stdout",
     "output_type": "stream",
     "text": [
      "b\n"
     ]
    }
   ],
   "source": [
    "if False:\n",
    "    print(\"a\")\n",
    "else:\n",
    "    print(\"b\")"
   ]
  },
  {
   "cell_type": "markdown",
   "metadata": {},
   "source": [
    "### While Loop"
   ]
  },
  {
   "cell_type": "code",
   "execution_count": 16,
   "metadata": {},
   "outputs": [
    {
     "name": "stdout",
     "output_type": "stream",
     "text": [
      "5\n",
      "1\n",
      "2\n",
      "3\n",
      "4\n",
      "5\n"
     ]
    }
   ],
   "source": [
    "n = int(input())\n",
    "i = 1\n",
    "while i<=n:\n",
    "    print(i)\n",
    "    i=i+1\n",
    "    "
   ]
  },
  {
   "cell_type": "code",
   "execution_count": 18,
   "metadata": {},
   "outputs": [
    {
     "name": "stdout",
     "output_type": "stream",
     "text": [
      "10\n",
      "55\n"
     ]
    }
   ],
   "source": [
    "#Print sum of all numbers from 1 to n\n",
    "n = int(input())\n",
    "i = 1\n",
    "sum = 0\n",
    "while i<=n:\n",
    "    sum = sum+i\n",
    "    i = i+1\n",
    "print(sum)"
   ]
  },
  {
   "cell_type": "code",
   "execution_count": 20,
   "metadata": {},
   "outputs": [
    {
     "name": "stdout",
     "output_type": "stream",
     "text": [
      "6\n",
      "12\n"
     ]
    }
   ],
   "source": [
    "#Print sum of all even numbers from 1 to n\n",
    "\n",
    "n = int(input())\n",
    "i=1\n",
    "sum = 0\n",
    "while i<=n:\n",
    "    if i%2==0:\n",
    "        sum= sum+i\n",
    "    i = i+1\n",
    "print(sum)"
   ]
  },
  {
   "cell_type": "markdown",
   "metadata": {},
   "source": [
    "### Primality Checking"
   ]
  },
  {
   "cell_type": "code",
   "execution_count": 6,
   "metadata": {},
   "outputs": [
    {
     "name": "stdout",
     "output_type": "stream",
     "text": [
      "4\n",
      "Not prime\n"
     ]
    }
   ],
   "source": [
    "#Given a number check whether prime or not\n",
    "\n",
    "n= int(input())\n",
    "i =2\n",
    "is_prime = True\n",
    "while i<=int(n/2):\n",
    "    if(n%i==0):\n",
    "        is_prime = False\n",
    "        print(\"Not prime\")\n",
    "        break\n",
    "    i=i+1\n",
    "if is_prime:\n",
    "    print(\"Prime\")\n",
    "    "
   ]
  },
  {
   "cell_type": "code",
   "execution_count": 9,
   "metadata": {},
   "outputs": [
    {
     "name": "stdout",
     "output_type": "stream",
     "text": [
      "5\n",
      "2\n",
      "3\n",
      "5\n"
     ]
    }
   ],
   "source": [
    "# Print all prime numbers between 2 to n\n",
    "n = int(input())\n",
    "i = 2 \n",
    "\n",
    "while i<=n:\n",
    "    j=2\n",
    "    is_prime = True\n",
    "    while j<=int(i/2):\n",
    "        if(i%j==0):\n",
    "            is_prime = False\n",
    "            break\n",
    "        j=j+1\n",
    "    if is_prime:\n",
    "        print(i)\n",
    "    i=i+1\n"
   ]
  },
  {
   "cell_type": "code",
   "execution_count": 12,
   "metadata": {},
   "outputs": [
    {
     "name": "stdout",
     "output_type": "stream",
     "text": [
      "0\n",
      "100\n",
      "20\n",
      "0   -17\n",
      "20   -6\n",
      "40   4\n",
      "60   15\n",
      "80   26\n",
      "100   37\n"
     ]
    }
   ],
   "source": [
    "#Q Convert all fahrenheit values to celcius give initial final and step size\n",
    "\n",
    "S = int(input())\n",
    "E = int(input())\n",
    "W = int(input())\n",
    "\n",
    "while S<=E:\n",
    "    C = int((S -32)*5/9)\n",
    "    print(S, \" \", C)\n",
    "    S=S+W\n"
   ]
  },
  {
   "cell_type": "code",
   "execution_count": 6,
   "metadata": {},
   "outputs": [
    {
     "name": "stdout",
     "output_type": "stream",
     "text": [
      "6\n"
     ]
    }
   ],
   "source": [
    "# Simple Calculator\n",
    "n = int(input())\n",
    "\n",
    "while n!=6:\n",
    "\n",
    "    if n==1:\n",
    "        a = int(input())\n",
    "        b = int(input())\n",
    "        print(a+b)\n",
    "    elif n==2:\n",
    "        a = int(input())\n",
    "        b = int(input())\n",
    "        print(a-b)\n",
    "    elif n==3:\n",
    "        a = int(input())\n",
    "        b = int(input())\n",
    "        print(a*b)\n",
    "    elif n==4:\n",
    "        a = int(input())\n",
    "        b = int(input())\n",
    "        print(a//b)\n",
    "    elif n==5:\n",
    "        a = int(input())\n",
    "        b = int(input())\n",
    "        print(a%b)\n",
    "    else:\n",
    "        print(\"Invalid Operation\")\n",
    "    n = int(input())"
   ]
  },
  {
   "cell_type": "code",
   "execution_count": 23,
   "metadata": {},
   "outputs": [
    {
     "name": "stdout",
     "output_type": "stream",
     "text": [
      "12321\n",
      "12321\n"
     ]
    }
   ],
   "source": [
    "#Q Reverse of a number\n",
    "def reverse(n):\n",
    "#Implement Your Code Here\n",
    "    result = 0\n",
    "    while n!=0:\n",
    "        result = result *10\n",
    "        result = result + n%10\n",
    "        n = n//10\n",
    "    return(result)\n",
    "\n",
    "n=int(input())\n",
    "result = reverse(n)\n",
    "print(result)"
   ]
  },
  {
   "cell_type": "code",
   "execution_count": 28,
   "metadata": {},
   "outputs": [
    {
     "name": "stdout",
     "output_type": "stream",
     "text": [
      "12321\n",
      "true\n"
     ]
    }
   ],
   "source": [
    "def checkPalindrome(num):\n",
    "\trev = 0\n",
    "    numc = num\n",
    "    while num!=0:\n",
    "        rev = rev *10\n",
    "        rev = rev + num%10\n",
    "        num = num//10\n",
    "    if rev==numc:\n",
    "        return True\n",
    "    else:\n",
    "        return False\n",
    "\n",
    "\n",
    "num = int(input())\n",
    "isPalindrome = checkPalindrome(num)\n",
    "if(isPalindrome):\n",
    "    print('true')\n",
    "else:\n",
    "    print('false')\n"
   ]
  },
  {
   "cell_type": "code",
   "execution_count": 29,
   "metadata": {},
   "outputs": [
    {
     "name": "stdout",
     "output_type": "stream",
     "text": [
      "1234\n",
      "6   4\n"
     ]
    }
   ],
   "source": [
    "#Q sum of even and odd digits of a number\n",
    "\n",
    "sum_e = 0\n",
    "sum_o = 0\n",
    "\n",
    "n=int(input())\n",
    "\n",
    "while n!=0:\n",
    "    d= n%10\n",
    "    if d%2==0:\n",
    "        sum_e = sum_e+d\n",
    "    else:\n",
    "        sum_o = sum_o+d\n",
    "    n = n//10\n",
    "\n",
    "print(sum_e, \" \", sum_o)\n",
    "        "
   ]
  },
  {
   "cell_type": "code",
   "execution_count": 9,
   "metadata": {},
   "outputs": [
    {
     "name": "stdout",
     "output_type": "stream",
     "text": [
      "6\n",
      "8\n"
     ]
    }
   ],
   "source": [
    "#Q Nth term of fibonnaci\n",
    "\n",
    "f1 = 1\n",
    "f2 = 1\n",
    "i=3\n",
    "\n",
    "n = int(input())\n",
    "\n",
    "while i<=n:\n",
    "    next = f1 +f2\n",
    "    f1 = f2\n",
    "    f2 = next\n",
    "    i=i+1\n",
    "print(f2)"
   ]
  }
 ],
 "metadata": {
  "kernelspec": {
   "display_name": "Python 3",
   "language": "python",
   "name": "python3"
  },
  "language_info": {
   "codemirror_mode": {
    "name": "ipython",
    "version": 3
   },
   "file_extension": ".py",
   "mimetype": "text/x-python",
   "name": "python",
   "nbconvert_exporter": "python",
   "pygments_lexer": "ipython3",
   "version": "3.7.4"
  }
 },
 "nbformat": 4,
 "nbformat_minor": 2
}
