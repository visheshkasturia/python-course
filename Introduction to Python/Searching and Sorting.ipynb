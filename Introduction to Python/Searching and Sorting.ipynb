{
 "cells": [
  {
   "cell_type": "markdown",
   "metadata": {},
   "source": [
    "### Binary Search"
   ]
  },
  {
   "cell_type": "code",
   "execution_count": 8,
   "metadata": {},
   "outputs": [
    {
     "name": "stdout",
     "output_type": "stream",
     "text": [
      "7\n",
      "1 2 3 4 5 6 7\n",
      "9\n",
      "-1\n"
     ]
    }
   ],
   "source": [
    "def BinarySearch(li,x,s,e):\n",
    "    while s<=e:\n",
    "        mid = (s+e)//2\n",
    "        if li[mid]==x:\n",
    "            return mid\n",
    "        elif li[mid]<x:\n",
    "            return BinarySearch(li,x,mid+1,e)\n",
    "        else:\n",
    "            return BinarySearch(li,x,s,mid-1)\n",
    "    else:\n",
    "        return -1\n",
    "\n",
    "N = int(input())\n",
    "li=[int(x) for x in input().split()]\n",
    "x=int(input())\n",
    "s=0\n",
    "e=len(li)-1\n",
    "index=BinarySearch(li,x,s,e)\n",
    "print(index)"
   ]
  },
  {
   "cell_type": "markdown",
   "metadata": {},
   "source": [
    "### SelectionSort"
   ]
  },
  {
   "cell_type": "code",
   "execution_count": 18,
   "metadata": {},
   "outputs": [
    {
     "name": "stdout",
     "output_type": "stream",
     "text": [
      "8 10 9 2 4 3 7\n",
      "[2, 3, 4, 7, 8, 9, 10]\n"
     ]
    }
   ],
   "source": [
    "def selectionSort(li):\n",
    "    for i in range(len(li)):\n",
    "        mini = i\n",
    "        for j in range(i+1,len(li)):\n",
    "            if li[j]<li[mini]:\n",
    "                mini=j\n",
    "        temp = li[mini]\n",
    "        li[mini]=li[i]\n",
    "        li[i]=temp\n",
    "    \n",
    "    return li\n",
    "li=[int(x) for x in input().split()]\n",
    "li=selectionSort(li)\n",
    "print(li)\n",
    "\n",
    "        \n"
   ]
  },
  {
   "cell_type": "markdown",
   "metadata": {},
   "source": [
    "### Bubble Sort"
   ]
  },
  {
   "cell_type": "code",
   "execution_count": 23,
   "metadata": {},
   "outputs": [
    {
     "name": "stdout",
     "output_type": "stream",
     "text": [
      "7\n",
      "1 8 5 9 2 3 6\n",
      "[1, 2, 3, 5, 6, 8, 9]\n"
     ]
    }
   ],
   "source": [
    "def bubbleSort(li):\n",
    "    for i in range(len(li)-1):\n",
    "        for j in range(len(li)-1-i):\n",
    "            if li[j]>li[j+1]:\n",
    "                li[j],li[j+1]=li[j+1],li[j]\n",
    "    return\n",
    "\n",
    "N = int(input())\n",
    "li=[int(x) for x in input().split()]\n",
    "bubbleSort(li)\n",
    "print(li)"
   ]
  },
  {
   "cell_type": "markdown",
   "metadata": {},
   "source": [
    "### Insertion Sort"
   ]
  },
  {
   "cell_type": "code",
   "execution_count": 44,
   "metadata": {},
   "outputs": [
    {
     "name": "stdout",
     "output_type": "stream",
     "text": [
      "3\n",
      "3 2 3\n",
      "2 3 3 "
     ]
    }
   ],
   "source": [
    "# def insertionSort(li):\n",
    "#     for i in range(1,len(li)):\n",
    "#         temp=li[i]\n",
    "#         for j in range(i-1,-1,-1):\n",
    "#             if li[j]>temp:\n",
    "#                 if j==0:\n",
    "#                     li[j+1]=li[j]\n",
    "#                     li[0]= temp\n",
    "#                 else:\n",
    "#                     li[j+1]=li[j]\n",
    "#             elif li[j]<=temp:\n",
    "#                 li[j+1]=temp\n",
    "#                 break\n",
    "#     return\n",
    "\n",
    "# N = int(input())\n",
    "# li=[int(x) for x in input().split()]\n",
    "# insertionSort(li)\n",
    "# for i in range(len(li)):\n",
    "#     print(li[i], end=\" \")"
   ]
  },
  {
   "cell_type": "markdown",
   "metadata": {},
   "source": [
    "### Insertion Sort Better Code"
   ]
  },
  {
   "cell_type": "code",
   "execution_count": 45,
   "metadata": {},
   "outputs": [
    {
     "name": "stdout",
     "output_type": "stream",
     "text": [
      "1 8 7 2 3 4 81 192 8 2 3\n",
      "1 2 2 3 4 7 8 8 81 192 3 "
     ]
    }
   ],
   "source": [
    "def insertionSort(li):\n",
    "    for i in range(1,len(li)):\n",
    "        j=i-1\n",
    "        temp=li[i]\n",
    "        while j>=0 and li[j]>temp:\n",
    "            li[j+1]=li[j]\n",
    "            j=j-1\n",
    "        li[j+1] = temp\n",
    "        \n",
    "li=[int(x) for x in input().split()]\n",
    "insertionSort(li)\n",
    "for i in range(len(li)):\n",
    "    print(li[i], end=\" \")"
   ]
  },
  {
   "cell_type": "markdown",
   "metadata": {},
   "source": [
    "### Merge Two Sorted Arrays"
   ]
  },
  {
   "cell_type": "code",
   "execution_count": 48,
   "metadata": {},
   "outputs": [
    {
     "name": "stdout",
     "output_type": "stream",
     "text": [
      "5\n",
      "1 4 9 10 12\n",
      "4\n",
      "2 3 6 7\n",
      "1 2 3 4 6 7 9 10 12 "
     ]
    }
   ],
   "source": [
    "def Merge(li1,li2):\n",
    "    li=[]\n",
    "    i=0\n",
    "    j=0\n",
    "    while i<len(li1) and j<len(li2):\n",
    "        if li1[i]<=li2[j]:\n",
    "            li.append(li1[i])\n",
    "            i=i+1\n",
    "        else:\n",
    "            li.append(li2[j])\n",
    "            j=j+1\n",
    "    if i==len(li1):\n",
    "        while j<len(li2):\n",
    "            li.append(li2[j])\n",
    "            j=j+1\n",
    "    else:\n",
    "        while i<(len(li1)):\n",
    "            li.append(li1[i])\n",
    "            i=i+1\n",
    "    return li\n",
    "\n",
    "N = int(input())\n",
    "li1=[int(x) for x in input().split()]\n",
    "N = int(input())\n",
    "li2=[int(x) for x in input().split()]\n",
    "li = Merge(li1,li2)\n",
    "for i in range(len(li)):\n",
    "    print(li[i], end=\" \")"
   ]
  },
  {
   "cell_type": "markdown",
   "metadata": {},
   "source": [
    "### Push Zeroes to the end in one scan"
   ]
  },
  {
   "cell_type": "code",
   "execution_count": 56,
   "metadata": {},
   "outputs": [
    {
     "name": "stdout",
     "output_type": "stream",
     "text": [
      "5\n",
      "0 2 3 1 0 0 0 2 24 0 1 0 2 3 0 1 1 0 3 2 0\n",
      "2 2 3 1 3 1 1 2 24 3 1 2 0 0 0 0 0 0 0 0 0 "
     ]
    }
   ],
   "source": [
    "# def pushZeroes(li):\n",
    "#     i=0\n",
    "#     j=len(li)-1\n",
    "#     while i<j:\n",
    "#         if li[i]==0:\n",
    "#             while j>i and li[j]==0:\n",
    "#                 j=j-1\n",
    "#             li[i],li[j]=li[j],li[i]\n",
    "#         i=i+1\n",
    "#     return\n",
    "\n",
    "# N = int(input())\n",
    "# li=[int(x) for x in input().split()]\n",
    "# pushZeroes(li)\n",
    "# for i in range(len(li)):\n",
    "#     print(li[i], end=\" \")\n"
   ]
  },
  {
   "cell_type": "code",
   "execution_count": 67,
   "metadata": {},
   "outputs": [
    {
     "name": "stdout",
     "output_type": "stream",
     "text": [
      "5\n",
      "0 2 3 1 0 0 0 2 24 0 1 0 2 3 0 1 1 0 3 2 0\n",
      "2 3 1 2 24 1 2 3 1 1 3 2 0 0 0 0 0 0 0 0 0 "
     ]
    }
   ],
   "source": [
    "def pushZeroes(li):\n",
    "    i=0\n",
    "    j=0\n",
    "    while i<len(li):\n",
    "        if li[i]!=0:\n",
    "            li[i],li[j]=li[j],li[i]\n",
    "            j=j+1\n",
    "        i=i+1\n",
    "    return\n",
    "\n",
    "N = int(input())\n",
    "li=[int(x) for x in input().split()]\n",
    "pushZeroes(li)\n",
    "for i in range(len(li)):\n",
    "    print(li[i], end=\" \")\n",
    "\n",
    "        "
   ]
  },
  {
   "cell_type": "markdown",
   "metadata": {},
   "source": [
    "### rotate by d elements towards left"
   ]
  },
  {
   "cell_type": "code",
   "execution_count": 81,
   "metadata": {},
   "outputs": [
    {
     "name": "stdout",
     "output_type": "stream",
     "text": [
      "7\n",
      "1 2 3 4 5 6 7\n",
      "2\n",
      "3 4 5 6 7 1 2\n"
     ]
    }
   ],
   "source": [
    "def Rotate(arr, d):\n",
    "    for i in range(d):\n",
    "        arr.append(arr.pop(0))\n",
    "    return\n",
    "\n",
    "# Main\n",
    "n=int(input())\n",
    "arr=list(int(i) for i in input().strip().split(' '))\n",
    "d=int(input())\n",
    "Rotate(arr, d)\n",
    "print(*arr)\n"
   ]
  },
  {
   "cell_type": "markdown",
   "metadata": {},
   "source": [
    "### Rotating d elements towards left using reversing"
   ]
  },
  {
   "cell_type": "code",
   "execution_count": 82,
   "metadata": {},
   "outputs": [
    {
     "name": "stdout",
     "output_type": "stream",
     "text": [
      "7\n",
      "1 2 3 4 5 6 7\n",
      "3\n",
      "4 5 6 7 1 2 3\n"
     ]
    }
   ],
   "source": [
    "def reverse(li):\n",
    "    for i in range(len(li)//2):\n",
    "        j=len(li)-1-i\n",
    "        li[i],li[j]=li[j],li[i]\n",
    "    return\n",
    "\n",
    "def rotate(li,d):\n",
    "    reverse(li)\n",
    "    reverse(li[:n-d+1:])\n",
    "    reverse(li[-1,-d-1,-1])\n",
    "    return\n",
    "\n",
    "n=int(input())\n",
    "li=list(int(i) for i in input().strip().split(' '))\n",
    "d=int(input())\n",
    "Rotate(li, d)\n",
    "print(*li)"
   ]
  },
  {
   "cell_type": "markdown",
   "metadata": {},
   "source": [
    "### Finding 2nd Largest element in array"
   ]
  },
  {
   "cell_type": "code",
   "execution_count": 99,
   "metadata": {},
   "outputs": [
    {
     "name": "stdout",
     "output_type": "stream",
     "text": [
      "5\n",
      "9 3 6 2 9\n",
      "6\n"
     ]
    }
   ],
   "source": [
    "def secondLargest(li):\n",
    "    first=li[0]\n",
    "    second=-2*31\n",
    "    same=True\n",
    "    \n",
    "    if len(li)<=1:\n",
    "        return -2**31\n",
    "    \n",
    "    for i in range(1,len(li)):\n",
    "        if li[i]>first:\n",
    "            second=first\n",
    "            first=li[i]\n",
    "        if li[i]>second and li[i]<first:\n",
    "            second = li[i]\n",
    "        if same:\n",
    "            if li[i]!=li[i-1]:\n",
    "                same=False\n",
    "    if same:\n",
    "        return -2**31\n",
    "    else:\n",
    "        return second\n",
    "\n",
    "n=int(input())\n",
    "li=list(int(i) for i in input().strip().split(' '))\n",
    "x=secondLargest(li)\n",
    "print(x)\n",
    "    "
   ]
  },
  {
   "cell_type": "markdown",
   "metadata": {},
   "source": [
    "### Check and return rotation of increasing sorted array:"
   ]
  },
  {
   "cell_type": "code",
   "execution_count": 2,
   "metadata": {},
   "outputs": [
    {
     "name": "stdout",
     "output_type": "stream",
     "text": [
      "3\n",
      "3 4 5 6 7\n",
      "0\n"
     ]
    }
   ],
   "source": [
    "def checkRotation(li):\n",
    "    i=1\n",
    "    count=1\n",
    "    while i<len(li):\n",
    "        if li[i]<li[i-1]:\n",
    "            break\n",
    "        count=count+1\n",
    "        i=i+1\n",
    "    if i==len(li):\n",
    "        return 0\n",
    "    else:\n",
    "        return count\n",
    "    \n",
    "n=int(input())\n",
    "li=list(int(i) for i in input().strip().split(' '))\n",
    "k=checkRotation(li)\n",
    "print(k)"
   ]
  },
  {
   "cell_type": "markdown",
   "metadata": {},
   "source": [
    "### Sort 0 1 2"
   ]
  },
  {
   "cell_type": "code",
   "execution_count": 29,
   "metadata": {},
   "outputs": [
    {
     "name": "stdout",
     "output_type": "stream",
     "text": [
      "3\n",
      "2 0 1\n",
      "1 0 2 "
     ]
    }
   ],
   "source": [
    "def sort012(li):\n",
    "    i=0\n",
    "    nz=0\n",
    "    nt=len(li)-1\n",
    "    \n",
    "    while i<nt:\n",
    "        if li[i]==0:\n",
    "            if li[nz]==1 or li[nz]==0:\n",
    "                li[i],li[nz]=li[nz],li[i]\n",
    "                nz=nz+1\n",
    "                i=i+1\n",
    "            else:\n",
    "                li[i],li[nz]=li[nz],li[i]\n",
    "                nz=nz+1\n",
    "        if li[i]==2:\n",
    "            if li[nt]==1:\n",
    "                li[i],li[nt]=li[nt],li[i]\n",
    "                nt=nt-1\n",
    "                i=i+1\n",
    "            else:\n",
    "                li[i],li[nt]=li[nt],li[i]\n",
    "                nt=nt-1\n",
    "        if li[i]==1:\n",
    "            i=i+1\n",
    "    return\n",
    "\n",
    "n=int(input())\n",
    "li=list(int(i) for i in input().strip().split(' '))\n",
    "sort012(li)\n",
    "for i in range(len(li)):\n",
    "    print(li[i], end=\" \")\n",
    "    \n",
    "    "
   ]
  },
  {
   "cell_type": "code",
   "execution_count": 88,
   "metadata": {},
   "outputs": [
    {
     "name": "stdout",
     "output_type": "stream",
     "text": [
      "4\n",
      "9 9 9 9\n",
      "1\n",
      "1\n",
      "1 0 0 0 0 "
     ]
    }
   ],
   "source": [
    "def arraySum(li1,li2):\n",
    "    li_sum = [0 for i in range(len(li1)+1)]\n",
    "    k=len(li1)\n",
    "    i=len(li1)-1\n",
    "    j=len(li2)-1\n",
    "    while j>=0:\n",
    "        carry=False\n",
    "        \n",
    "        x= li1[i]+li2[j]\n",
    "        \n",
    "        if x>9:\n",
    "            carry=True\n",
    "            x = x-10 \n",
    "        li_sum[k]=x\n",
    "        \n",
    "        \n",
    "        if carry and (i-1)>=0:\n",
    "            li1[i-1]=li1[i-1]+1\n",
    "        elif carry:\n",
    "            li[i]=li1[i]+1\n",
    "        k=k-1\n",
    "        j=j-1\n",
    "        i=i-1\n",
    "        \n",
    "    while i>=0:\n",
    "        if i==0 and li1[i]>9:\n",
    "            li_sum[k]=li1[i]-10\n",
    "            li_sum[k-1]=1\n",
    "        elif li1[i]>9:\n",
    "            li_sum[k]=li1[i]-10\n",
    "            li1[i-1]=li1[i-1]+1\n",
    "        else:\n",
    "            li_sum[k]=li1[i]\n",
    "        k=k-1\n",
    "        i=i-1      \n",
    "    \n",
    "    return li_sum\n",
    "\n",
    "n1=int(input())\n",
    "li1=list(int(i) for i in input().strip().split(' '))\n",
    "n2=int(input())\n",
    "li2=list(int(i) for i in input().strip().split(' '))\n",
    "\n",
    "li_sum=[]\n",
    "if len(li1)>=len(li2):\n",
    "    li_sum=arraySum(li1,li2)\n",
    "else:\n",
    "    li_sum=arraySum(li2,li1)\n",
    "    \n",
    "for i in range(len(li_sum)):\n",
    "    print(li_sum[i], end=\" \")"
   ]
  },
  {
   "cell_type": "markdown",
   "metadata": {},
   "source": [
    "### ARRAY SUM TIME LIMIT EXCEEDED"
   ]
  },
  {
   "cell_type": "code",
   "execution_count": 46,
   "metadata": {},
   "outputs": [
    {
     "name": "stdout",
     "output_type": "stream",
     "text": [
      "3\n",
      "2 4 5\n",
      "5\n",
      "8 5 2 3 9\n",
      "85484\n",
      "8 5 4 8 4 "
     ]
    }
   ],
   "source": [
    "# def calculateNumber(li):\n",
    "#     num=0\n",
    "#     for i in range(len(li)):\n",
    "#         num=num*10 + li[i]\n",
    "#     return num\n",
    "\n",
    "# def arraySum(a,b):\n",
    "#     li_sum=[]\n",
    "#     x= a+b\n",
    "#     while x>0:\n",
    "#         li_sum.insert(0,x%10)\n",
    "#         x=x//10\n",
    "#     return li_sum\n",
    "\n",
    "# n1=int(input())\n",
    "# li1=list(int(i) for i in input().strip().split(' '))\n",
    "# n2=int(input())\n",
    "# li2=list(int(i) for i in input().strip().split(' '))\n",
    "\n",
    "# a=calculateNumber(li1)\n",
    "# b=calculateNumber(li2)\n",
    "# li_sum=arraySum(a,b)\n",
    "# for i in range(len(li_sum)):\n",
    "#     print(li_sum[i], end=\" \")"
   ]
  },
  {
   "cell_type": "code",
   "execution_count": null,
   "metadata": {},
   "outputs": [],
   "source": []
  }
 ],
 "metadata": {
  "kernelspec": {
   "display_name": "Python 3",
   "language": "python",
   "name": "python3"
  },
  "language_info": {
   "codemirror_mode": {
    "name": "ipython",
    "version": 3
   },
   "file_extension": ".py",
   "mimetype": "text/x-python",
   "name": "python",
   "nbconvert_exporter": "python",
   "pygments_lexer": "ipython3",
   "version": "3.7.4"
  }
 },
 "nbformat": 4,
 "nbformat_minor": 2
}
