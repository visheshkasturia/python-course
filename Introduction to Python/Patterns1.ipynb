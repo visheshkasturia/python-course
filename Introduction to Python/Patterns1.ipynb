{
 "cells": [
  {
   "cell_type": "markdown",
   "metadata": {},
   "source": [
    "### ****\n",
    "### ****\n",
    "### ****\n",
    "### ****"
   ]
  },
  {
   "cell_type": "code",
   "execution_count": 4,
   "metadata": {},
   "outputs": [
    {
     "name": "stdout",
     "output_type": "stream",
     "text": [
      "4\n",
      "****\n",
      "****\n",
      "****\n",
      "****\n"
     ]
    }
   ],
   "source": [
    "n=int(input())\n",
    "i=1\n",
    "\n",
    "while i<=n:\n",
    "    j=1\n",
    "    while j<=n:\n",
    "        print(\"*\",end=\"\")\n",
    "        j=j+1\n",
    "    print()\n",
    "    i=i+1"
   ]
  },
  {
   "cell_type": "markdown",
   "metadata": {},
   "source": [
    "4444\n",
    "4444\n",
    "4444\n",
    "4444"
   ]
  },
  {
   "cell_type": "code",
   "execution_count": 6,
   "metadata": {},
   "outputs": [
    {
     "name": "stdout",
     "output_type": "stream",
     "text": [
      "7\n",
      "7777777\n",
      "7777777\n",
      "7777777\n",
      "7777777\n",
      "7777777\n",
      "7777777\n",
      "7777777\n"
     ]
    }
   ],
   "source": [
    "n= int(input())\n",
    "i=1\n",
    "while i<=n:\n",
    "    j=1\n",
    "    while j<=n:\n",
    "        print(n,end=\"\")\n",
    "        j=j+1\n",
    "    print()\n",
    "    i=i+1"
   ]
  },
  {
   "cell_type": "markdown",
   "metadata": {},
   "source": [
    "4321\n",
    "4321\n",
    "4321\n",
    "4321"
   ]
  },
  {
   "cell_type": "code",
   "execution_count": 9,
   "metadata": {},
   "outputs": [
    {
     "name": "stdout",
     "output_type": "stream",
     "text": [
      "4\n",
      "4321\n",
      "4321\n",
      "4321\n",
      "4321\n"
     ]
    }
   ],
   "source": [
    "n=int(input())\n",
    "i=1\n",
    "while i<=n:\n",
    "    j=1\n",
    "    while j<=n:\n",
    "        print(n-j+1,end=\"\")\n",
    "        j=j+1\n",
    "    print()\n",
    "    i=i+1"
   ]
  },
  {
   "cell_type": "markdown",
   "metadata": {},
   "source": [
    "1\n",
    "12\n",
    "123\n",
    "1234"
   ]
  },
  {
   "cell_type": "code",
   "execution_count": 10,
   "metadata": {},
   "outputs": [
    {
     "name": "stdout",
     "output_type": "stream",
     "text": [
      "4\n",
      "1\n",
      "12\n",
      "123\n",
      "1234\n"
     ]
    }
   ],
   "source": [
    "n=int(input())\n",
    "i=1\n",
    "while i<=n:\n",
    "    j=1\n",
    "    while j<=i:\n",
    "        print(j,end=\"\")\n",
    "        j=j+1\n",
    "    print()\n",
    "    i=i+1"
   ]
  },
  {
   "cell_type": "markdown",
   "metadata": {},
   "source": [
    "1\n",
    "23\n",
    "345\n",
    "4567"
   ]
  },
  {
   "cell_type": "code",
   "execution_count": 13,
   "metadata": {},
   "outputs": [
    {
     "name": "stdout",
     "output_type": "stream",
     "text": [
      "5\n",
      "1\n",
      "23\n",
      "345\n",
      "4567\n",
      "56789\n"
     ]
    }
   ],
   "source": [
    "n=int(input())\n",
    "i=1\n",
    "while i<=n:\n",
    "    j=1\n",
    "    k=i\n",
    "    while j<=i:\n",
    "        print(k,end=\"\")\n",
    "        k=k+1\n",
    "        j=j+1\n",
    "    print()\n",
    "    i=i+1"
   ]
  },
  {
   "cell_type": "markdown",
   "metadata": {},
   "source": [
    "1\n",
    "23\n",
    "456\n",
    "78910"
   ]
  },
  {
   "cell_type": "code",
   "execution_count": 15,
   "metadata": {},
   "outputs": [
    {
     "name": "stdout",
     "output_type": "stream",
     "text": [
      "3\n",
      "1\n",
      "23\n",
      "456\n"
     ]
    }
   ],
   "source": [
    "n=int(input())\n",
    "i=1\n",
    "k=1\n",
    "while i<=n:\n",
    "    j=1\n",
    "    while j<=i:\n",
    "        print(k,end=\"\")\n",
    "        k=k+1\n",
    "        j=j+1\n",
    "    print()\n",
    "    i=i+1"
   ]
  },
  {
   "cell_type": "markdown",
   "metadata": {},
   "source": [
    "### Print kth alphabet"
   ]
  },
  {
   "cell_type": "code",
   "execution_count": 17,
   "metadata": {},
   "outputs": [
    {
     "name": "stdout",
     "output_type": "stream",
     "text": [
      "2\n",
      "B\n"
     ]
    }
   ],
   "source": [
    "k = int(input())\n",
    "x = ord('A')\n",
    "asciiTarget = x+k-1\n",
    "targetChar = chr(asciiTarget)\n",
    "print(targetChar)"
   ]
  },
  {
   "cell_type": "markdown",
   "metadata": {},
   "source": [
    "ABCD\n",
    "ABCD\n",
    "ABCD\n",
    "ABCD"
   ]
  },
  {
   "cell_type": "code",
   "execution_count": 18,
   "metadata": {},
   "outputs": [
    {
     "name": "stdout",
     "output_type": "stream",
     "text": [
      "4\n",
      "ABCD\n",
      "ABCD\n",
      "ABCD\n",
      "ABCD\n"
     ]
    }
   ],
   "source": [
    "n=int(input())\n",
    "i=1\n",
    "while i<=n:\n",
    "    j=1\n",
    "    while j<=n:\n",
    "        charP = chr(ord('A')+j-1)\n",
    "        print(charP,end=\"\")\n",
    "        j=j+1\n",
    "    print()\n",
    "    i=i+1"
   ]
  },
  {
   "cell_type": "markdown",
   "metadata": {},
   "source": [
    "ABCD\n",
    "BCDE\n",
    "CDEF\n",
    "DEFG"
   ]
  },
  {
   "cell_type": "code",
   "execution_count": 20,
   "metadata": {},
   "outputs": [
    {
     "name": "stdout",
     "output_type": "stream",
     "text": [
      "4\n",
      "ABCD\n",
      "BCDE\n",
      "CDEF\n",
      "DEFG\n"
     ]
    }
   ],
   "source": [
    "n=int(input())\n",
    "i=1\n",
    "while i<=n:\n",
    "    j=1\n",
    "    while j<=n:\n",
    "        x= ord(chr(ord('A')+i-1))\n",
    "        charP = chr(x+j-1)\n",
    "        print(charP,end=\"\")\n",
    "        j=j+1\n",
    "    print()\n",
    "    i=i+1"
   ]
  },
  {
   "cell_type": "markdown",
   "metadata": {},
   "source": [
    "A\n",
    "BC\n",
    "CDE\n",
    "DEFG"
   ]
  },
  {
   "cell_type": "code",
   "execution_count": 21,
   "metadata": {},
   "outputs": [
    {
     "name": "stdout",
     "output_type": "stream",
     "text": [
      "3\n",
      "A\n",
      "BC\n",
      "CDE\n"
     ]
    }
   ],
   "source": [
    "n=int(input())\n",
    "i=1\n",
    "while i<=n:\n",
    "    j=1\n",
    "    start_char=chr(ord('A')+i-1)\n",
    "    while j<=i:\n",
    "        charP=chr(ord(start_char)+j-1)\n",
    "        print(charP,end=\"\")\n",
    "        j=j+1\n",
    "    print()\n",
    "    i=i+1"
   ]
  },
  {
   "cell_type": "markdown",
   "metadata": {},
   "source": [
    "E\n",
    "DE\n",
    "CDE\n",
    "BCDE\n",
    "ABCDE"
   ]
  },
  {
   "cell_type": "code",
   "execution_count": 25,
   "metadata": {},
   "outputs": [
    {
     "name": "stdout",
     "output_type": "stream",
     "text": [
      "5\n",
      "E\n",
      "DE\n",
      "CDE\n",
      "BCDE\n",
      "ABCDE\n"
     ]
    }
   ],
   "source": [
    "n=int(input())\n",
    "i=1\n",
    "x=chr(ord('A')+n-1)\n",
    "while i<=n:\n",
    "    j=1\n",
    "    start_char=chr(ord(x)-i+1)\n",
    "    while j<=i:\n",
    "        charP=chr(ord(start_char)+j-1)\n",
    "        print(charP,end=\"\")\n",
    "        j=j+1\n",
    "    print()\n",
    "    i=i+1"
   ]
  },
  {
   "cell_type": "markdown",
   "metadata": {},
   "source": [
    "1\n",
    "11\n",
    "202\n",
    "3003\n",
    "40004"
   ]
  },
  {
   "cell_type": "code",
   "execution_count": 28,
   "metadata": {},
   "outputs": [
    {
     "name": "stdout",
     "output_type": "stream",
     "text": [
      "5\n",
      "1\n",
      "11\n",
      "202\n",
      "3003\n",
      "40004\n"
     ]
    }
   ],
   "source": [
    "n = int(input())\n",
    "i=1\n",
    "while i<=n:\n",
    "    if i==1:\n",
    "        print(\"1\",end=\"\")\n",
    "    else:\n",
    "        j=1\n",
    "        while j<=i:\n",
    "            if j==1 or j==i:\n",
    "                print(i-1,end=\"\")\n",
    "            else:\n",
    "                print(\"0\",end=\"\")\n",
    "            j=j+1\n",
    "    print()\n",
    "    i=i+1"
   ]
  },
  {
   "cell_type": "code",
   "execution_count": 32,
   "metadata": {},
   "outputs": [
    {
     "name": "stdout",
     "output_type": "stream",
     "text": [
      "5\n",
      "1\n",
      "11\n",
      "121\n",
      "1221\n",
      "12221\n"
     ]
    }
   ],
   "source": [
    "n = int(input())\n",
    "i=1\n",
    "while i<=n:\n",
    "    j=1\n",
    "    while j<=i:\n",
    "        if j==1 or j==i:\n",
    "            print(\"1\",end=\"\")\n",
    "        else:\n",
    "            print(\"2\",end=\"\")\n",
    "        j=j+1\n",
    "    print()\n",
    "    i=i+1"
   ]
  },
  {
   "cell_type": "code",
   "execution_count": 33,
   "metadata": {},
   "outputs": [
    {
     "name": "stdout",
     "output_type": "stream",
     "text": [
      "4\n",
      "1234\n",
      "123\n",
      "12\n",
      "1\n"
     ]
    }
   ],
   "source": [
    "n = int(input())\n",
    "k=n\n",
    "i=1\n",
    "while i<=n:\n",
    "    j=1\n",
    "    while j<=k:\n",
    "        print(j,end=\"\")\n",
    "        j=j+1\n",
    "    print()\n",
    "    k=k-1\n",
    "    i=i+1\n"
   ]
  },
  {
   "cell_type": "code",
   "execution_count": 35,
   "metadata": {},
   "outputs": [
    {
     "name": "stdout",
     "output_type": "stream",
     "text": [
      "4\n",
      "4321\n",
      "321\n",
      "21\n",
      "1\n"
     ]
    }
   ],
   "source": [
    "n = int(input())\n",
    "k=n\n",
    "i=1\n",
    "while i<=n:\n",
    "    j=1\n",
    "    while j<=k:\n",
    "        print(k-j+1,end=\"\")\n",
    "        j=j+1\n",
    "    print()\n",
    "    k=k-1\n",
    "    i=i+1\n"
   ]
  }
 ],
 "metadata": {
  "kernelspec": {
   "display_name": "Python 3",
   "language": "python",
   "name": "python3"
  },
  "language_info": {
   "codemirror_mode": {
    "name": "ipython",
    "version": 3
   },
   "file_extension": ".py",
   "mimetype": "text/x-python",
   "name": "python",
   "nbconvert_exporter": "python",
   "pygments_lexer": "ipython3",
   "version": "3.7.4"
  }
 },
 "nbformat": 4,
 "nbformat_minor": 2
}
