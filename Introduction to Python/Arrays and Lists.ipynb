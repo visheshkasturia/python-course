{
 "cells": [
  {
   "cell_type": "code",
   "execution_count": 2,
   "metadata": {},
   "outputs": [
    {
     "data": {
      "text/plain": [
       "['Vishesh', 5, 3.4, 'DumDum', 11]"
      ]
     },
     "execution_count": 2,
     "metadata": {},
     "output_type": "execute_result"
    }
   ],
   "source": [
    "#Creating a list\n",
    "li=[\"Vishesh\", 5, 3.4, \"DumDum\", 11]\n",
    "li\n"
   ]
  },
  {
   "cell_type": "code",
   "execution_count": 3,
   "metadata": {},
   "outputs": [
    {
     "data": {
      "text/plain": [
       "list"
      ]
     },
     "execution_count": 3,
     "metadata": {},
     "output_type": "execute_result"
    }
   ],
   "source": [
    "type(li)"
   ]
  },
  {
   "cell_type": "code",
   "execution_count": 5,
   "metadata": {},
   "outputs": [
    {
     "data": {
      "text/plain": [
       "[5, 3.4]"
      ]
     },
     "execution_count": 5,
     "metadata": {},
     "output_type": "execute_result"
    }
   ],
   "source": [
    "#Slicing a list\n",
    "li[1:3]"
   ]
  },
  {
   "cell_type": "code",
   "execution_count": 6,
   "metadata": {},
   "outputs": [
    {
     "data": {
      "text/plain": [
       "[5, 3.4, 'DumDum', 11]"
      ]
     },
     "execution_count": 6,
     "metadata": {},
     "output_type": "execute_result"
    }
   ],
   "source": [
    "li[1:] "
   ]
  },
  {
   "cell_type": "code",
   "execution_count": 7,
   "metadata": {},
   "outputs": [
    {
     "data": {
      "text/plain": [
       "['Vishesh', 5, 3.4, 'DumDum', 11]"
      ]
     },
     "execution_count": 7,
     "metadata": {},
     "output_type": "execute_result"
    }
   ],
   "source": [
    "li[:]"
   ]
  },
  {
   "cell_type": "code",
   "execution_count": 8,
   "metadata": {},
   "outputs": [
    {
     "data": {
      "text/plain": [
       "[5, 3.4, 'DumDum', 11]"
      ]
     },
     "execution_count": 8,
     "metadata": {},
     "output_type": "execute_result"
    }
   ],
   "source": [
    "li[1:10] #doesnt give error prints till last"
   ]
  },
  {
   "cell_type": "code",
   "execution_count": 26,
   "metadata": {},
   "outputs": [
    {
     "name": "stdout",
     "output_type": "stream",
     "text": [
      "['Vishesh', 5, 3.4, 'DumDum', 11, 'Kasturia']\n"
     ]
    }
   ],
   "source": [
    "#Inserting and appending in a list\n",
    "li.append(\"Kasturia\")\n",
    "print(li)"
   ]
  },
  {
   "cell_type": "code",
   "execution_count": 27,
   "metadata": {},
   "outputs": [
    {
     "data": {
      "text/plain": [
       "['Vishesh', 'Inserted at 1', 5, 3.4, 'DumDum', 11, 'Kasturia']"
      ]
     },
     "execution_count": 27,
     "metadata": {},
     "output_type": "execute_result"
    }
   ],
   "source": [
    "li.insert(1,\"Inserted at 1\")\n",
    "li"
   ]
  },
  {
   "cell_type": "code",
   "execution_count": 30,
   "metadata": {},
   "outputs": [
    {
     "name": "stdout",
     "output_type": "stream",
     "text": [
      "['Vishesh', 'Inserted at 1', 5, 3.4, 'DumDum', 11, 'Kasturia', [9, 10, 11], 'Since 15 index is not present inserted here']\n"
     ]
    }
   ],
   "source": [
    "li.insert(15,'Since 15 index is not present inserted here')\n",
    "print(li)"
   ]
  },
  {
   "cell_type": "code",
   "execution_count": 29,
   "metadata": {},
   "outputs": [
    {
     "name": "stdout",
     "output_type": "stream",
     "text": [
      "['Vishesh', 'Inserted at 1', 5, 3.4, 'DumDum', 11, 'Kasturia', [9, 10, 11]]\n"
     ]
    }
   ],
   "source": [
    "li.append([9,10,11])\n",
    "print(li)\n",
    "#append list in list"
   ]
  },
  {
   "cell_type": "code",
   "execution_count": 32,
   "metadata": {},
   "outputs": [
    {
     "name": "stdout",
     "output_type": "stream",
     "text": [
      "['Vishesh', 'Inserted at 1', 5, 3.4, 'DumDum', 11, 'Kasturia', [9, 10, 11], 'Since 15 index is not present inserted here', 9, 10, 11]\n"
     ]
    }
   ],
   "source": [
    "#So how to append multiple:\n",
    "li.extend([9,10,11])\n",
    "print(li)"
   ]
  },
  {
   "cell_type": "code",
   "execution_count": 33,
   "metadata": {},
   "outputs": [
    {
     "name": "stdout",
     "output_type": "stream",
     "text": [
      "['Vishesh', 'Inserted at 1', 5, 'DumDum', 11, 'Kasturia', [9, 10, 11], 'Since 15 index is not present inserted here', 9, 10, 11]\n"
     ]
    }
   ],
   "source": [
    "li.remove(3.4)\n",
    "print(li)"
   ]
  },
  {
   "cell_type": "code",
   "execution_count": 34,
   "metadata": {},
   "outputs": [
    {
     "name": "stdout",
     "output_type": "stream",
     "text": [
      "['Vishesh', 'Inserted at 1', 5, 'DumDum', 11, 'Kasturia', [9, 10, 11], 'Since 15 index is not present inserted here', 9, 10]\n"
     ]
    }
   ],
   "source": [
    "li.pop()\n",
    "print(li)"
   ]
  },
  {
   "cell_type": "code",
   "execution_count": 35,
   "metadata": {},
   "outputs": [
    {
     "data": {
      "text/plain": [
       "'Since 15 index is not present inserted here'"
      ]
     },
     "execution_count": 35,
     "metadata": {},
     "output_type": "execute_result"
    }
   ],
   "source": [
    "li.pop(7)"
   ]
  },
  {
   "cell_type": "code",
   "execution_count": 36,
   "metadata": {},
   "outputs": [
    {
     "data": {
      "text/plain": [
       "9"
      ]
     },
     "execution_count": 36,
     "metadata": {},
     "output_type": "execute_result"
    }
   ],
   "source": [
    "len(li)"
   ]
  },
  {
   "cell_type": "markdown",
   "metadata": {},
   "source": [
    "## Array Sum with User Input"
   ]
  },
  {
   "cell_type": "code",
   "execution_count": 42,
   "metadata": {},
   "outputs": [
    {
     "name": "stdout",
     "output_type": "stream",
     "text": [
      "3\n",
      "9 8 9\n",
      "26\n"
     ]
    }
   ],
   "source": [
    "\n",
    "N= int(input())\n",
    "li=input().split()\n",
    "\n",
    "sum =0\n",
    "\n",
    "for i in range(len(li)):\n",
    "    li[i]=int(li[i])\n",
    "    sum= sum +li[i]\n",
    "\n",
    "print(sum)"
   ]
  },
  {
   "cell_type": "markdown",
   "metadata": {},
   "source": [
    "### Taking Space Separated User Input"
   ]
  },
  {
   "cell_type": "code",
   "execution_count": 44,
   "metadata": {},
   "outputs": [
    {
     "name": "stdout",
     "output_type": "stream",
     "text": [
      "1 3 4 2 5\n"
     ]
    },
    {
     "data": {
      "text/plain": [
       "[1, 3, 4, 2, 5]"
      ]
     },
     "execution_count": 44,
     "metadata": {},
     "output_type": "execute_result"
    }
   ],
   "source": [
    "li = [int(x) for x in input().split()]\n",
    "li"
   ]
  },
  {
   "cell_type": "markdown",
   "metadata": {},
   "source": [
    "### Linear Search"
   ]
  },
  {
   "cell_type": "code",
   "execution_count": 49,
   "metadata": {},
   "outputs": [
    {
     "name": "stdout",
     "output_type": "stream",
     "text": [
      "2 5 17 18\n",
      "5\n",
      "1\n"
     ]
    }
   ],
   "source": [
    "li=[int(x) for x in input().split()]\n",
    "ele=int(input())\n",
    "isFound = False\n",
    "for i in range(len(li)):\n",
    "    if li[i]==ele:\n",
    "        print(i)\n",
    "        isFound= True\n",
    "\n",
    "if not(isFound):\n",
    "    print(-1)"
   ]
  },
  {
   "cell_type": "markdown",
   "metadata": {},
   "source": [
    "### Linear Search through Function and Passing list to Function"
   ]
  },
  {
   "cell_type": "code",
   "execution_count": 52,
   "metadata": {},
   "outputs": [
    {
     "name": "stdout",
     "output_type": "stream",
     "text": [
      "5 17 18 11 19\n",
      "11\n",
      "3\n"
     ]
    }
   ],
   "source": [
    "def LinearSearch(li,ele):\n",
    "    for i in range(len(li)):\n",
    "        if li[i] == ele:\n",
    "            return i\n",
    "    return -1\n",
    "\n",
    "li = [int(x) for x in input().split()]\n",
    "ele = int(input())\n",
    "index = LinearSearch(li,ele)\n",
    "print(index)"
   ]
  },
  {
   "cell_type": "markdown",
   "metadata": {},
   "source": [
    "### Mutability of Lists"
   ]
  },
  {
   "cell_type": "raw",
   "metadata": {},
   "source": [
    "Lists are Mutable\n",
    "Variables are Immutable"
   ]
  },
  {
   "cell_type": "code",
   "execution_count": 53,
   "metadata": {},
   "outputs": [
    {
     "name": "stdout",
     "output_type": "stream",
     "text": [
      "[1, 4, 3, 4]\n"
     ]
    }
   ],
   "source": [
    "li = [1,2,3,4]\n",
    "li2=li\n",
    "li2[1]=4 #Changes in li because lists are pointing to same reference\n",
    "print(li)"
   ]
  },
  {
   "cell_type": "markdown",
   "metadata": {},
   "source": [
    "### Passing Variables through Function"
   ]
  },
  {
   "cell_type": "raw",
   "metadata": {},
   "source": [
    "A copy of variable is passed and changes to that are made, unless it is reassigned the value of the inital/passed variable does not change"
   ]
  },
  {
   "cell_type": "markdown",
   "metadata": {},
   "source": [
    "### Passing List through Function"
   ]
  },
  {
   "cell_type": "raw",
   "metadata": {},
   "source": [
    "A list with same reference as main list is created any change in new list is reflected in the main list."
   ]
  },
  {
   "cell_type": "code",
   "execution_count": 63,
   "metadata": {},
   "outputs": [
    {
     "name": "stdout",
     "output_type": "stream",
     "text": [
      "[3, 2, 3, 4]\n"
     ]
    }
   ],
   "source": [
    "def change(li):\n",
    "    li[0]= li[0]+2\n",
    "    return\n",
    "\n",
    "li=[1,2,3,4]\n",
    "change(li)\n",
    "print(li)"
   ]
  },
  {
   "cell_type": "markdown",
   "metadata": {},
   "source": [
    "#### Q: Swapping alternate elements of list"
   ]
  },
  {
   "cell_type": "code",
   "execution_count": 90,
   "metadata": {},
   "outputs": [
    {
     "name": "stdout",
     "output_type": "stream",
     "text": [
      "4\n",
      "1 2 3 4\n"
     ]
    }
   ],
   "source": [
    "def swap_alt(li):\n",
    "    i=0\n",
    "    while i<=len(li)//2:\n",
    "        li[i],li[i+1]= li[i+1], li[i]\n",
    "        i=i+2\n",
    "return\n",
    "\n",
    "N= int(input())\n",
    "li=[int(x) for x in input().split()]\n",
    "swap_alt(li)"
   ]
  },
  {
   "cell_type": "code",
   "execution_count": 148,
   "metadata": {},
   "outputs": [
    {
     "name": "stdout",
     "output_type": "stream",
     "text": [
      "7\n",
      "1 2 3 4 5 6 7\n",
      "2 1 4 3 6 5 7 "
     ]
    }
   ],
   "source": []
  },
  {
   "cell_type": "code",
   "execution_count": 106,
   "metadata": {
    "scrolled": true
   },
   "outputs": [
    {
     "name": "stdout",
     "output_type": "stream",
     "text": [
      "9\n",
      "11 22 22 11 5 33 33 44 44\n",
      "5\n"
     ]
    }
   ],
   "source": [
    "#Return Unique Number in Odd sized array\n",
    "\n",
    "def returnUnique(li):\n",
    "    for i in range(len(li)):\n",
    "        isUnique= True\n",
    "        for j in range(len(li)):\n",
    "            if i==j:\n",
    "                continue\n",
    "            if li[i]==li[j]:\n",
    "                isUnique=False\n",
    "                break\n",
    "        if isUnique:\n",
    "            return li[i]\n",
    "\n",
    "N= int(input())\n",
    "li = [int(x) for x in input().split()]\n",
    "unique=returnUnique(li)\n",
    "print(unique)\n"
   ]
  },
  {
   "cell_type": "code",
   "execution_count": 109,
   "metadata": {},
   "outputs": [
    {
     "name": "stdout",
     "output_type": "stream",
     "text": [
      "5\n",
      "0 1 2 3 2\n",
      "2\n"
     ]
    }
   ],
   "source": [
    "# Returning Duplicate element in string\n",
    "\n",
    "def returnDuplicate(li):\n",
    "    for i in range(len(li)):\n",
    "        isDuplicate=False\n",
    "        for j in range(i+1,len(li)):\n",
    "            if li[i]==li[j]:\n",
    "                isDuplicate=True\n",
    "                break\n",
    "        if isDuplicate:\n",
    "            return li[i]\n",
    "            \n",
    "N= int(input())\n",
    "li = [int(x) for x in input().split()]\n",
    "duplicate=returnDuplicate(li)\n",
    "print(duplicate)\n"
   ]
  },
  {
   "cell_type": "code",
   "execution_count": 116,
   "metadata": {},
   "outputs": [
    {
     "name": "stdout",
     "output_type": "stream",
     "text": [
      "5\n",
      "0 1 2 79 1\n",
      "4\n",
      "2 1 3 8\n",
      "1\n",
      "2\n"
     ]
    }
   ],
   "source": [
    "# Print intersection\n",
    "\n",
    "def printIntersection(li1,li2):\n",
    "    for i in range(len(li1)):\n",
    "        for j in range(len(li2)):\n",
    "            if li1[i]==li2[j]:\n",
    "                print(li1[i])\n",
    "                li2[j]= -1000000\n",
    "                break\n",
    "    return\n",
    "\n",
    "n= int(input())\n",
    "li1 = [int(x) for x in input().split()]\n",
    "m= int(input())\n",
    "li2 = [int(x) for x in input().split()]\n",
    "printIntersection(li1,li2)\n"
   ]
  },
  {
   "cell_type": "code",
   "execution_count": 120,
   "metadata": {},
   "outputs": [
    {
     "name": "stdout",
     "output_type": "stream",
     "text": [
      "9\n",
      "1 3 6 2 5 4 3 2 4\n",
      "7\n",
      "1   6\n",
      "3   4\n",
      "3   4\n",
      "2   5\n",
      "2   5\n",
      "3   4\n",
      "3   4\n"
     ]
    }
   ],
   "source": [
    "# print pair equal to x in ascending order\n",
    "\n",
    "def printPair(li,x):\n",
    "    for i in range(len(li)):\n",
    "        for j in range(i+1,len(li)):\n",
    "            if li[i]+li[j]==x:\n",
    "                if li[i]>= li[j]:\n",
    "                    print(li[j],\" \",li[i])\n",
    "                else:\n",
    "                    print(li[i],\" \",li[j])\n",
    "    return\n",
    "\n",
    "N=int(input())\n",
    "li=[int(x) for x in input().split()]\n",
    "x=int(input())\n",
    "printPair(li,x)"
   ]
  },
  {
   "cell_type": "code",
   "execution_count": 126,
   "metadata": {},
   "outputs": [
    {
     "name": "stdout",
     "output_type": "stream",
     "text": [
      "7\n",
      "1 2 3 4 5 6 7\n",
      "12\n",
      "1 4 7 \n",
      "1 5 6 \n",
      "2 3 7 \n",
      "2 4 6 \n",
      "3 4 5 \n"
     ]
    }
   ],
   "source": [
    "def printTriplet(a,b,c):\n",
    "    li=[a,b,c]\n",
    "    li.sort()\n",
    "    for j in range(len(li)):\n",
    "        print(li[j], end=\" \")\n",
    "    print()\n",
    "    return\n",
    "def findTriplet(li,x):\n",
    "    for i in range(len(li)):\n",
    "        for j in range(i+1,len(li)):\n",
    "            for k in range(j+1,len(li)):\n",
    "                if li[i]+li[j]+li[k]==x:\n",
    "                    printTriplet(li[i],li[j],li[k])\n",
    "    return\n",
    "\n",
    "N=int(input())\n",
    "li=[int(x) for x in input().split()]\n",
    "x=int(input())\n",
    "findTriplet(li,x)"
   ]
  },
  {
   "cell_type": "code",
   "execution_count": 136,
   "metadata": {},
   "outputs": [
    {
     "name": "stdout",
     "output_type": "stream",
     "text": [
      "5\n",
      "0 1 1 0 1\n",
      "[0, 0, 1, 1, 1]\n"
     ]
    }
   ],
   "source": [
    "#Sort 0 1 array in one scan\n",
    "\n",
    "N= int(input())\n",
    "li=[int(x) for x in input().split()]\n",
    "j=0\n",
    "\n",
    "for i in range(len(li)):\n",
    "    if li[j]==1:\n",
    "        li.append(li.pop(j))\n",
    "        j=j-1\n",
    "    j=j+1\n",
    "print(li)\n"
   ]
  },
  {
   "cell_type": "code",
   "execution_count": 140,
   "metadata": {},
   "outputs": [
    {
     "name": "stdout",
     "output_type": "stream",
     "text": [
      "5\n",
      "0 1 1 0 1\n",
      "[0, 0, 1, 1, 1]\n"
     ]
    }
   ],
   "source": [
    "#Sort 0 1 array in one scan\n",
    "\n",
    "N= int(input())\n",
    "li=[int(x) for x in input().split()]\n",
    "count=0\n",
    "for i in range(len(li)):\n",
    "    if li[i]==1:\n",
    "        li.remove(1)\n",
    "        li.append(1)\n",
    "print(li)"
   ]
  },
  {
   "cell_type": "code",
   "execution_count": 157,
   "metadata": {},
   "outputs": [
    {
     "name": "stdout",
     "output_type": "stream",
     "text": [
      "8\n",
      "0 1 1 0 1 1 0 0 0 1 1 1 1 0 0 0 0 1 1 0 0 1\n",
      "0000000000011111111111"
     ]
    }
   ],
   "source": [
    "N= int(input())\n",
    "li=[int(x) for x in input().split()]\n",
    "i=0\n",
    "j=len(li)-1\n",
    "\n",
    "while i<j:\n",
    "    while li[i]==0 and i<j:\n",
    "        i=i+1\n",
    "    \n",
    "    while li[j]==1 and i<j:\n",
    "        j=j-1\n",
    "    \n",
    "    if(i<j):\n",
    "        li[i]=0\n",
    "        li[j]=1\n",
    "        i=i+1\n",
    "        j=j-1\n",
    "for i in range(len(li)):\n",
    "    print(li[i],end)"
   ]
  },
  {
   "cell_type": "code",
   "execution_count": 162,
   "metadata": {},
   "outputs": [
    {
     "name": "stdout",
     "output_type": "stream",
     "text": [
      "9\n",
      "0 1 0 0 0 0 0 0 1 1 1 1 1 1 1 1 0 0 1 0 1 0 1 0 0 0 1 1 1 0 1 0 1 0 1 0 1 0 1 0 0 0 1 1 1 0 1 1 1\n",
      "0000000000000000000000011111111111111111111111111"
     ]
    }
   ],
   "source": [
    "N= int(input())\n",
    "li=[int(x) for x in input().split()]\n",
    "i=0\n",
    "j=len(li)-1\n",
    "\n",
    "while i<j:\n",
    "    if li[i]==1:\n",
    "        while i<j:\n",
    "            if li[j]==0:\n",
    "                li[i]=0\n",
    "                li[j]=1\n",
    "                break\n",
    "            j=j-1\n",
    "    i=i+1\n",
    "    \n",
    "for i in range(len(li)):\n",
    "    print(li[i],end=\" \")  "
   ]
  }
 ],
 "metadata": {
  "kernelspec": {
   "display_name": "Python 3",
   "language": "python",
   "name": "python3"
  },
  "language_info": {
   "codemirror_mode": {
    "name": "ipython",
    "version": 3
   },
   "file_extension": ".py",
   "mimetype": "text/x-python",
   "name": "python",
   "nbconvert_exporter": "python",
   "pygments_lexer": "ipython3",
   "version": "3.7.4"
  }
 },
 "nbformat": 4,
 "nbformat_minor": 2
}
