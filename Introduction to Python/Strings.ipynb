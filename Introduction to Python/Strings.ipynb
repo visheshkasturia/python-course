{
 "cells": [
  {
   "cell_type": "markdown",
   "metadata": {},
   "source": [
    "### Check Palindrome"
   ]
  },
  {
   "cell_type": "code",
   "execution_count": 2,
   "metadata": {},
   "outputs": [
    {
     "name": "stdout",
     "output_type": "stream",
     "text": [
      "naman\n",
      "true\n"
     ]
    }
   ],
   "source": [
    "s1 = input()\n",
    "s2=s[::-1]\n",
    "if s2==s1:\n",
    "    print(\"true\")\n",
    "else:\n",
    "    print(\"false\")"
   ]
  },
  {
   "cell_type": "code",
   "execution_count": 3,
   "metadata": {},
   "outputs": [
    {
     "name": "stdout",
     "output_type": "stream",
     "text": [
      "My name ia Viaheah\n"
     ]
    }
   ],
   "source": [
    "str=\"My name is Vishesh\"\n",
    "str=str.replace('s','a')\n",
    "print(str)"
   ]
  },
  {
   "cell_type": "code",
   "execution_count": 6,
   "metadata": {},
   "outputs": [
    {
     "name": "stdout",
     "output_type": "stream",
     "text": [
      "My name ia Viaheah\n"
     ]
    }
   ],
   "source": [
    "def replace(str,char1,char2):\n",
    "    s=\"\"\n",
    "    for i in range(len(str)):\n",
    "        if str[i]==char1:\n",
    "            s+=char2\n",
    "        else:\n",
    "            s+=str[i]\n",
    "    return s\n",
    "\n",
    "str= \"My name is Vishesh\"\n",
    "char1=\"s\"\n",
    "char2=\"a\"\n",
    "str=replace(str,char1,char2)\n",
    "print(str)"
   ]
  },
  {
   "cell_type": "markdown",
   "metadata": {},
   "source": [
    "### Check Permutation"
   ]
  },
  {
   "cell_type": "code",
   "execution_count": 16,
   "metadata": {},
   "outputs": [
    {
     "name": "stdout",
     "output_type": "stream",
     "text": [
      "False\n"
     ]
    }
   ],
   "source": [
    "def checkPermutation(str1,str2):\n",
    "    if len(str1)!=len(str2):\n",
    "        return False\n",
    "    else:\n",
    "        for i in range(len(str1)):\n",
    "            present = False\n",
    "            for j in range(len(str2)):\n",
    "                if str1[i]==str2[j]:\n",
    "                    present= True\n",
    "                    str2=str2.replace(str2[j],\"?\",1)\n",
    "                    break\n",
    "            if present:\n",
    "                continue\n",
    "            else:\n",
    "                return False\n",
    "    return True\n",
    "str1=input()\n",
    "str2=input()\n",
    "x=checkPermutation(str1,str2)\n",
    "print(x)"
   ]
  },
  {
   "cell_type": "markdown",
   "metadata": {},
   "source": [
    "### Remove Duplicates"
   ]
  },
  {
   "cell_type": "code",
   "execution_count": 26,
   "metadata": {},
   "outputs": [
    {
     "name": "stdout",
     "output_type": "stream",
     "text": [
      "abcdefghi\n"
     ]
    }
   ],
   "source": [
    "def removeDuplicates(str):\n",
    "    s=\"\"\n",
    "    i=0\n",
    "    while i<len(str):\n",
    "        j=i\n",
    "        if j+1<len(str):\n",
    "            while j+1<len(str) and str[j]==str[j+1]:\n",
    "                j=j+1\n",
    "            s+=str[j]\n",
    "        else:\n",
    "            s+=str[i]\n",
    "        i=j+1\n",
    "    return s\n",
    "\n",
    "str=input()\n",
    "s=removeDuplicates(str)\n",
    "print(s)"
   ]
  },
  {
   "cell_type": "markdown",
   "metadata": {},
   "source": [
    "### Reverse each Word"
   ]
  },
  {
   "cell_type": "code",
   "execution_count": 47,
   "metadata": {},
   "outputs": [
    {
     "name": "stdout",
     "output_type": "stream",
     "text": [
      "emocleW ot gnidoC sajniN\n"
     ]
    }
   ],
   "source": [
    "def reverseWords(str):\n",
    "    li=str.split()\n",
    "    s=\"\"\n",
    "    for i in range(len(li)):\n",
    "        if i!=len(li)-1:\n",
    "            x=li[i]\n",
    "            x=x[::-1]\n",
    "            s+=x\n",
    "            s+=\" \"\n",
    "        else:\n",
    "            x=li[i]\n",
    "            x=x[::-1]\n",
    "            s+=x\n",
    "    return s\n",
    "\n",
    "str=\"Welcome to Coding Ninjas\"\n",
    "s=reverseWords(str)\n",
    "print(s)"
   ]
  },
  {
   "cell_type": "markdown",
   "metadata": {},
   "source": [
    "### Remove Character"
   ]
  },
  {
   "cell_type": "code",
   "execution_count": 50,
   "metadata": {},
   "outputs": [
    {
     "name": "stdout",
     "output_type": "stream",
     "text": [
      "abc\n",
      "a\n",
      "bc\n"
     ]
    }
   ],
   "source": [
    "def removeCharacter(str,char):\n",
    "    s=\"\"\n",
    "    for i in range(len(str)):\n",
    "        if str[i]==char:\n",
    "            continue\n",
    "        else:\n",
    "            s+=str[i]\n",
    "    return s\n",
    "\n",
    "str=input()\n",
    "char=input()\n",
    "s=removeCharacter(str,char)\n",
    "print(s)"
   ]
  },
  {
   "cell_type": "markdown",
   "metadata": {},
   "source": [
    "### Highest Frequence Character"
   ]
  },
  {
   "cell_type": "code",
   "execution_count": 55,
   "metadata": {},
   "outputs": [
    {
     "name": "stdout",
     "output_type": "stream",
     "text": [
      "safhaksjfbsakjfbe\n",
      "s\n"
     ]
    }
   ],
   "source": [
    "def maxFrequency(str):\n",
    "    li=[0 for x in range(256)]\n",
    "    \n",
    "    for i in range(len(str)):\n",
    "        li[ord(str[i])]+=1\n",
    "    \n",
    "    max=str[0]\n",
    "    for i in range(len(str)):\n",
    "        if li[ord(str[i])]>li[ord(max)]:\n",
    "            max= str[i]\n",
    "    return max\n",
    "\n",
    "str=input()\n",
    "max=maxFrequency(str)\n",
    "print(max)"
   ]
  },
  {
   "cell_type": "markdown",
   "metadata": {},
   "source": [
    "### Compress String"
   ]
  },
  {
   "cell_type": "code",
   "execution_count": 61,
   "metadata": {},
   "outputs": [
    {
     "name": "stdout",
     "output_type": "stream",
     "text": [
      "aaaasdawfa\n"
     ]
    },
    {
     "ename": "TypeError",
     "evalue": "'str' object is not callable",
     "output_type": "error",
     "traceback": [
      "\u001b[0;31m---------------------------------------------------------------------------\u001b[0m",
      "\u001b[0;31mTypeError\u001b[0m                                 Traceback (most recent call last)",
      "\u001b[0;32m<ipython-input-61-ff9c8758c713>\u001b[0m in \u001b[0;36m<module>\u001b[0;34m\u001b[0m\n\u001b[1;32m     18\u001b[0m \u001b[0;34m\u001b[0m\u001b[0m\n\u001b[1;32m     19\u001b[0m \u001b[0mstring\u001b[0m\u001b[0;34m=\u001b[0m\u001b[0minput\u001b[0m\u001b[0;34m(\u001b[0m\u001b[0;34m)\u001b[0m\u001b[0;34m\u001b[0m\u001b[0;34m\u001b[0m\u001b[0m\n\u001b[0;32m---> 20\u001b[0;31m \u001b[0ms\u001b[0m\u001b[0;34m=\u001b[0m\u001b[0mcompressString\u001b[0m\u001b[0;34m(\u001b[0m\u001b[0mstring\u001b[0m\u001b[0;34m)\u001b[0m\u001b[0;34m\u001b[0m\u001b[0;34m\u001b[0m\u001b[0m\n\u001b[0m\u001b[1;32m     21\u001b[0m \u001b[0mprint\u001b[0m\u001b[0;34m(\u001b[0m\u001b[0ms\u001b[0m\u001b[0;34m)\u001b[0m\u001b[0;34m\u001b[0m\u001b[0;34m\u001b[0m\u001b[0m\n",
      "\u001b[0;32m<ipython-input-61-ff9c8758c713>\u001b[0m in \u001b[0;36mcompressString\u001b[0;34m(string)\u001b[0m\n\u001b[1;32m     11\u001b[0m             \u001b[0ms\u001b[0m\u001b[0;34m+=\u001b[0m\u001b[0mstring\u001b[0m\u001b[0;34m[\u001b[0m\u001b[0mj\u001b[0m\u001b[0;34m]\u001b[0m\u001b[0;34m\u001b[0m\u001b[0;34m\u001b[0m\u001b[0m\n\u001b[1;32m     12\u001b[0m             \u001b[0;32mif\u001b[0m \u001b[0mcount\u001b[0m\u001b[0;34m>\u001b[0m\u001b[0;36m1\u001b[0m\u001b[0;34m:\u001b[0m\u001b[0;34m\u001b[0m\u001b[0;34m\u001b[0m\u001b[0m\n\u001b[0;32m---> 13\u001b[0;31m               \u001b[0ms\u001b[0m\u001b[0;34m=\u001b[0m\u001b[0ms\u001b[0m \u001b[0;34m+\u001b[0m \u001b[0mstr\u001b[0m\u001b[0;34m(\u001b[0m\u001b[0mcount\u001b[0m\u001b[0;34m)\u001b[0m\u001b[0;34m\u001b[0m\u001b[0;34m\u001b[0m\u001b[0m\n\u001b[0m\u001b[1;32m     14\u001b[0m         \u001b[0;32melse\u001b[0m\u001b[0;34m:\u001b[0m\u001b[0;34m\u001b[0m\u001b[0;34m\u001b[0m\u001b[0m\n\u001b[1;32m     15\u001b[0m             \u001b[0ms\u001b[0m\u001b[0;34m+=\u001b[0m\u001b[0mstring\u001b[0m\u001b[0;34m[\u001b[0m\u001b[0mi\u001b[0m\u001b[0;34m]\u001b[0m\u001b[0;34m\u001b[0m\u001b[0;34m\u001b[0m\u001b[0m\n",
      "\u001b[0;31mTypeError\u001b[0m: 'str' object is not callable"
     ]
    }
   ],
   "source": [
    "def compressString(string):\n",
    "    s=\"\"\n",
    "    i=0\n",
    "    while i<len(string):\n",
    "        j=i\n",
    "        count=1\n",
    "        if j+1<len(string):\n",
    "            while j+1<len(string) and string[j]==string[j+1]:\n",
    "                count=count+1\n",
    "                j=j+1\n",
    "            s+=string[j]\n",
    "            if count>1:\n",
    "              s=s + str(count)\n",
    "        else:\n",
    "            s+=string[i]\n",
    "        i=j+1\n",
    "    return s\n",
    "\n",
    "string=input()\n",
    "s=compressString(string)\n",
    "print(s)"
   ]
  }
 ],
 "metadata": {
  "kernelspec": {
   "display_name": "Python 3",
   "language": "python",
   "name": "python3"
  },
  "language_info": {
   "codemirror_mode": {
    "name": "ipython",
    "version": 3
   },
   "file_extension": ".py",
   "mimetype": "text/x-python",
   "name": "python",
   "nbconvert_exporter": "python",
   "pygments_lexer": "ipython3",
   "version": "3.7.4"
  }
 },
 "nbformat": 4,
 "nbformat_minor": 2
}
