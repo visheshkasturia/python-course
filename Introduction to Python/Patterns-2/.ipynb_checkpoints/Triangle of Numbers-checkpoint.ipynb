{
 "cells": [
  {
   "cell_type": "code",
   "execution_count": 5,
   "metadata": {},
   "outputs": [
    {
     "name": "stdout",
     "output_type": "stream",
     "text": [
      "5\n",
      "    1\n",
      "   232\n",
      "  34543\n",
      " 4567654\n",
      "567898765\n"
     ]
    }
   ],
   "source": [
    "n=int(input())\n",
    "\n",
    "i=1\n",
    "while i<=n:\n",
    "    \n",
    "    spaces=1\n",
    "    while spaces<=n-i:\n",
    "        print(\" \",end=\"\")\n",
    "        spaces+=1\n",
    "    \n",
    "    p=1\n",
    "    k=i\n",
    "    while p<=i:\n",
    "        print(k,end=\"\")\n",
    "        k+=1\n",
    "        p+=1\n",
    "    \n",
    "    \n",
    "    p=i-1\n",
    "    k=2*i-2\n",
    "    while p>0:\n",
    "        print(k,end=\"\")\n",
    "        p-=1\n",
    "        k-=1\n",
    "    print()\n",
    "    i+=1\n",
    "    "
   ]
  }
 ],
 "metadata": {
  "kernelspec": {
   "display_name": "Python 3",
   "language": "python",
   "name": "python3"
  },
  "language_info": {
   "codemirror_mode": {
    "name": "ipython",
    "version": 3
   },
   "file_extension": ".py",
   "mimetype": "text/x-python",
   "name": "python",
   "nbconvert_exporter": "python",
   "pygments_lexer": "ipython3",
   "version": "3.7.4"
  }
 },
 "nbformat": 4,
 "nbformat_minor": 2
}
