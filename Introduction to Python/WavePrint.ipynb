{
 "cells": [
  {
   "cell_type": "code",
   "execution_count": 9,
   "metadata": {},
   "outputs": [
    {
     "name": "stdout",
     "output_type": "stream",
     "text": [
      "3 4 1 2 3 4 5 6 7 8 9 10 11 12\n",
      "[[1, 2, 3, 4], [5, 6, 7, 8], [9, 10, 11, 12]]\n",
      "1 5 9 10 6 2 3 7 11 12 8 4 "
     ]
    }
   ],
   "source": [
    "def wavePrint(arr):\n",
    "    n=len(arr)\n",
    "    m=len(arr[0])\n",
    "    \n",
    "    for j in range(m):\n",
    "        if j%2==0:\n",
    "            i=0\n",
    "            while i < n:\n",
    "                print(arr[i][j],end=\" \")\n",
    "                i=i+1\n",
    "        else:\n",
    "            i=n-1\n",
    "            while i>=0:\n",
    "                print(arr[i][j], end=\" \")\n",
    "                i=i-1\n",
    "    return \n",
    "\n",
    "s=input().split()\n",
    "n,m=int(s[0]),int(s[1])\n",
    "b=s[2:]\n",
    "arr=[[int(b[m*i+j]) for j in range(m)] for i in range(n)]\n",
    "wavePrint(arr)\n"
   ]
  }
 ],
 "metadata": {
  "kernelspec": {
   "display_name": "Python 3",
   "language": "python",
   "name": "python3"
  },
  "language_info": {
   "codemirror_mode": {
    "name": "ipython",
    "version": 3
   },
   "file_extension": ".py",
   "mimetype": "text/x-python",
   "name": "python",
   "nbconvert_exporter": "python",
   "pygments_lexer": "ipython3",
   "version": "3.7.4"
  }
 },
 "nbformat": 4,
 "nbformat_minor": 2
}
