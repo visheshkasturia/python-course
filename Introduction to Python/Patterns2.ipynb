{
 "cells": [
  {
   "cell_type": "markdown",
   "metadata": {},
   "source": [
    "Inverted Number\n",
    "4444\n",
    "333\n",
    "22\n",
    "1"
   ]
  },
  {
   "cell_type": "code",
   "execution_count": 1,
   "metadata": {},
   "outputs": [
    {
     "name": "stdout",
     "output_type": "stream",
     "text": [
      "4\n",
      "4444\n",
      "333\n",
      "22\n",
      "1\n"
     ]
    }
   ],
   "source": [
    "n=int(input())\n",
    "i=1\n",
    "k=n\n",
    "while i<=n:\n",
    "    j=1\n",
    "    while j<=n-i+1:\n",
    "        print(k,end=\"\")\n",
    "        j=j+1\n",
    "    print()\n",
    "    k=k-1\n",
    "    i=i+1"
   ]
  },
  {
   "cell_type": "markdown",
   "metadata": {},
   "source": [
    "   1\n",
    "  11\n",
    " 111\n",
    "1111"
   ]
  },
  {
   "cell_type": "code",
   "execution_count": 3,
   "metadata": {},
   "outputs": [
    {
     "name": "stdout",
     "output_type": "stream",
     "text": [
      "4\n",
      "   *\n",
      "  **\n",
      " ***\n",
      "****\n"
     ]
    }
   ],
   "source": [
    "n=int(input())\n",
    "i=1\n",
    "while i<=n:\n",
    "    j=1\n",
    "    while j<=n:\n",
    "        if j>= n-i+1:\n",
    "            print(\"*\",end=\"\")\n",
    "        else:\n",
    "            print(\" \",end=\"\")\n",
    "        j=j+1\n",
    "    print()\n",
    "    i=i+1"
   ]
  },
  {
   "cell_type": "code",
   "execution_count": 4,
   "metadata": {},
   "outputs": [
    {
     "name": "stdout",
     "output_type": "stream",
     "text": [
      "4\n",
      "   *\n",
      "  **\n",
      " ***\n",
      "****\n"
     ]
    }
   ],
   "source": [
    "# Better code for above\n",
    "\n",
    "n= int(input())\n",
    "i=1\n",
    "while i<=n:\n",
    "    spaces=1\n",
    "    while spaces <=n-i:\n",
    "        print(\" \",end=\"\")\n",
    "        spaces=spaces +1\n",
    "    #cant put enter yet still need to print stars\n",
    "    stars=1\n",
    "    while stars <=i:\n",
    "        print(\"*\",end=\"\")\n",
    "        stars= stars+1\n",
    "    print()\n",
    "    i=i+1"
   ]
  },
  {
   "cell_type": "raw",
   "metadata": {},
   "source": [
    "    1\n",
    "   12\n",
    "  123\n",
    " 1234"
   ]
  },
  {
   "cell_type": "code",
   "execution_count": 9,
   "metadata": {},
   "outputs": [
    {
     "name": "stdout",
     "output_type": "stream",
     "text": [
      "4\n",
      "   1\n",
      "  12\n",
      " 123\n",
      "1234\n"
     ]
    }
   ],
   "source": [
    "n= int(input())\n",
    "i=1\n",
    "while i<=n:\n",
    "    spaces=1\n",
    "    while spaces <=n-i:\n",
    "        print(\" \",end=\"\")\n",
    "        spaces=spaces +1\n",
    "    #cant put enter yet still need to print stars\n",
    "    digits=1\n",
    "    j =1\n",
    "    while j <=i:\n",
    "        print(digits,end=\"\")\n",
    "        digits= digits+1\n",
    "        j=j+1\n",
    "    print()\n",
    "    i=i+1"
   ]
  },
  {
   "cell_type": "raw",
   "metadata": {},
   "source": [
    "   1\n",
    "  121\n",
    " 12321\n",
    "1234321"
   ]
  },
  {
   "cell_type": "code",
   "execution_count": 7,
   "metadata": {},
   "outputs": [
    {
     "name": "stdout",
     "output_type": "stream",
     "text": [
      "4\n",
      "   1\n",
      "  121\n",
      " 12321\n",
      "1234321\n"
     ]
    }
   ],
   "source": [
    "n=int(input())\n",
    "i=1\n",
    "while i<=n:\n",
    "    #spaces\n",
    "    spaces=1\n",
    "    while spaces <= n-i:\n",
    "        print(\" \",end=\"\")\n",
    "        spaces = spaces+1\n",
    "    #increasing sequence\n",
    "    p=1\n",
    "    while p<=i:\n",
    "        print(p,end=\"\")\n",
    "        p=p+1\n",
    "    #decreasing sequence\n",
    "    p=i-1\n",
    "    while p>=1:\n",
    "        print(p,end=\"\")\n",
    "        p=p-1\n",
    "    print()\n",
    "    i=i+1"
   ]
  },
  {
   "cell_type": "raw",
   "metadata": {},
   "source": [
    "   1\n",
    "  232\n",
    " 34543\n",
    "4567654"
   ]
  },
  {
   "cell_type": "markdown",
   "metadata": {},
   "source": [
    "# # Diamond Pattern"
   ]
  },
  {
   "cell_type": "raw",
   "metadata": {},
   "source": [
    "   1\n",
    "  121\n",
    " 12321\n",
    "1234321\n",
    " 12321\n",
    "  121\n",
    "   1"
   ]
  },
  {
   "cell_type": "code",
   "execution_count": 29,
   "metadata": {},
   "outputs": [
    {
     "name": "stdout",
     "output_type": "stream",
     "text": [
      "5\n",
      "  1\n",
      " 121\n",
      "12321\n",
      " 121\n",
      "  1\n"
     ]
    }
   ],
   "source": [
    "n= int(input())\n",
    "i=1\n",
    "t=n//2+1\n",
    "while i<=t:\n",
    "    #spaces\n",
    "    spaces=1\n",
    "    while spaces <= t-i:\n",
    "        print(\" \",end=\"\")\n",
    "        spaces= spaces+1\n",
    "    #increasing sequence\n",
    "    d=1\n",
    "    j=1\n",
    "    while j<=i:\n",
    "        print(d,end=\"\")\n",
    "        d=d+1\n",
    "        j=j+1\n",
    "    #decreasing sequence\n",
    "    d= i-1\n",
    "    while d>=1:\n",
    "        print(d,end=\"\")\n",
    "        d=d-1\n",
    "    print()\n",
    "    i=i+1\n",
    "    \n",
    "\n",
    "#bottom left\n",
    "k = n - (n//2 +1)\n",
    "i = 1\n",
    "while i<=k:\n",
    "    #spaces\n",
    "    spaces=1\n",
    "    while spaces<=i:\n",
    "        print(\" \",end=\"\")\n",
    "        spaces = spaces+1\n",
    "    #increasing sequence\n",
    "    j=1\n",
    "    while j<=k-i+1:\n",
    "        print(j,end=\"\")\n",
    "        j=j+1\n",
    "    #decreasing sequence\n",
    "    j=k-i\n",
    "    while j>=1:\n",
    "        print(j,end=\"\")\n",
    "        j=j-1\n",
    "    print()\n",
    "    i=i+1\n",
    "    \n",
    "    "
   ]
  },
  {
   "cell_type": "code",
   "execution_count": 30,
   "metadata": {},
   "outputs": [
    {
     "name": "stdout",
     "output_type": "stream",
     "text": [
      "5\n",
      "  *\n",
      " ***\n",
      "*****\n",
      " ***\n",
      "  *\n"
     ]
    }
   ],
   "source": [
    "n= int(input())\n",
    "i=1\n",
    "t=n//2+1\n",
    "while i<=t:\n",
    "    #spaces\n",
    "    spaces=1\n",
    "    while spaces <= t-i:\n",
    "        print(\" \",end=\"\")\n",
    "        spaces= spaces+1\n",
    "    #increasing sequence\n",
    "    j=1\n",
    "    while j<=i:\n",
    "        print(\"*\",end=\"\")\n",
    "        j=j+1\n",
    "    #decreasing sequence\n",
    "    d= i-1\n",
    "    while d>=1:\n",
    "        print(\"*\",end=\"\")\n",
    "        d=d-1\n",
    "    print()\n",
    "    i=i+1\n",
    "    \n",
    "\n",
    "#bottom left\n",
    "k = n - (n//2 +1)\n",
    "i = 1\n",
    "while i<=k:\n",
    "    #spaces\n",
    "    spaces=1\n",
    "    while spaces<=i:\n",
    "        print(\" \",end=\"\")\n",
    "        spaces = spaces+1\n",
    "    #increasing sequence\n",
    "    j=1\n",
    "    while j<=k-i+1:\n",
    "        print(\"*\",end=\"\")\n",
    "        j=j+1\n",
    "    #decreasing sequence\n",
    "    j=k-i\n",
    "    while j>=1:\n",
    "        print(\"*\",end=\"\")\n",
    "        j=j-1\n",
    "    print()\n",
    "    i=i+1\n",
    "    \n",
    "    "
   ]
  },
  {
   "cell_type": "raw",
   "metadata": {},
   "source": [
    "1        1\n",
    "12      21\n",
    "123    321\n",
    "1234  4321\n",
    "1234554321"
   ]
  },
  {
   "cell_type": "code",
   "execution_count": 33,
   "metadata": {},
   "outputs": [
    {
     "name": "stdout",
     "output_type": "stream",
     "text": [
      "5\n",
      "1        1\n",
      "12      21\n",
      "123    321\n",
      "1234  4321\n",
      "1234554321\n"
     ]
    }
   ],
   "source": [
    "n=int(input())\n",
    "i=1\n",
    "while i<=n:\n",
    "    #increasing sequence\n",
    "    j=1\n",
    "    while j<=i:\n",
    "        print(j,end=\"\")\n",
    "        j=j+1\n",
    "    #spaces\n",
    "    spaces=1\n",
    "    while spaces<=2*(n-i):\n",
    "        print(\" \",end=\"\")\n",
    "        spaces=spaces+1\n",
    "    #decreasing sequence\n",
    "    j=i\n",
    "    while j>=1:\n",
    "        print(j,end=\"\")\n",
    "        j=j-1\n",
    "    print()\n",
    "    i=i+1\n",
    "    "
   ]
  },
  {
   "cell_type": "raw",
   "metadata": {},
   "source": [
    "*000*000*\n",
    "0*00*00*0\n",
    "00*0*0*00\n",
    "000***000"
   ]
  },
  {
   "cell_type": "code",
   "execution_count": 39,
   "metadata": {},
   "outputs": [
    {
     "name": "stdout",
     "output_type": "stream",
     "text": [
      "4\n",
      "*000*000*\n",
      "0*00*00*0\n",
      "00*0*0*00\n",
      "000***000\n"
     ]
    }
   ],
   "source": [
    "n=int(input())\n",
    "i=1\n",
    "while i<=n:\n",
    "    #1st square (1st n columns)\n",
    "    j=1\n",
    "    while j<=n:\n",
    "        if j==i:\n",
    "            print(\"*\",end=\"\")\n",
    "        else:\n",
    "            print(\"0\",end=\"\")\n",
    "        j=j+1\n",
    "    #middle column\n",
    "    print(\"*\",end=\"\")\n",
    "    #2nd square (last n columns)\n",
    "    j=n\n",
    "    while j>=1:\n",
    "        if j==i:\n",
    "            print(\"*\",end=\"\")\n",
    "        else:\n",
    "            print(\"0\",end=\"\")\n",
    "        j=j-1\n",
    "    \n",
    "    print()\n",
    "    i=i+1"
   ]
  },
  {
   "cell_type": "code",
   "execution_count": 42,
   "metadata": {},
   "outputs": [
    {
     "name": "stdout",
     "output_type": "stream",
     "text": [
      "4\n",
      "   1\n",
      "  212\n",
      " 32123\n",
      "4321234\n"
     ]
    }
   ],
   "source": [
    "n=int(input())\n",
    "i=1\n",
    "while i<=n:\n",
    "    #spaces\n",
    "    spaces=1\n",
    "    while spaces<=n-i:\n",
    "        print(\" \",end=\"\")\n",
    "        spaces=spaces+1\n",
    "    #decreasing sequence\n",
    "    j=i\n",
    "    while j>=1:\n",
    "        print(j,end=\"\")\n",
    "        j=j-1\n",
    "    #increasing sequence\n",
    "    j=2\n",
    "    while j<=i:\n",
    "        print(j,end=\"\")\n",
    "        j=j+1\n",
    "    print()\n",
    "    i=i+1\n",
    "        \n",
    "        "
   ]
  },
  {
   "cell_type": "markdown",
   "metadata": {},
   "source": [
    "## ARROW PATTERN"
   ]
  },
  {
   "cell_type": "code",
   "execution_count": 46,
   "metadata": {},
   "outputs": [
    {
     "name": "stdout",
     "output_type": "stream",
     "text": [
      "7\n",
      "* \n",
      " * * \n",
      "  * * * \n",
      "   * * * * \n",
      "  * * * \n",
      " * * \n",
      "* \n"
     ]
    }
   ],
   "source": [
    "n=int(input())\n",
    "#Upper Triangle\n",
    "t=n//2+1\n",
    "i=1\n",
    "while i<=t:\n",
    "    #spaces\n",
    "    spaces=1\n",
    "    while spaces<=i-1:\n",
    "        print(\" \",end=\"\")\n",
    "        spaces=spaces+1\n",
    "    #star sequence\n",
    "    j=1\n",
    "    while j<=i:\n",
    "        print(\"* \",end=\"\")\n",
    "        j=j+1\n",
    "    print()\n",
    "    i=i+1\n",
    "\n",
    "k= n-(n//2+1)\n",
    "i=1\n",
    "while i<=k:\n",
    "    #spaces\n",
    "    spaces=1\n",
    "    while spaces<=k-i:\n",
    "        print(\" \",end=\"\")\n",
    "        spaces=spaces+1\n",
    "    #star sequence\n",
    "    j=1\n",
    "    while j<=k-i+1:\n",
    "        print(\"* \",end=\"\")\n",
    "        j=j+1\n",
    "    print()\n",
    "    i=i+1\n",
    "    "
   ]
  }
 ],
 "metadata": {
  "kernelspec": {
   "display_name": "Python 3",
   "language": "python",
   "name": "python3"
  },
  "language_info": {
   "codemirror_mode": {
    "name": "ipython",
    "version": 3
   },
   "file_extension": ".py",
   "mimetype": "text/x-python",
   "name": "python",
   "nbconvert_exporter": "python",
   "pygments_lexer": "ipython3",
   "version": "3.7.4"
  }
 },
 "nbformat": 4,
 "nbformat_minor": 2
}
