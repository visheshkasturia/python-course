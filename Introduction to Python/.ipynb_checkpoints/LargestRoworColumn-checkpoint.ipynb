{
 "cells": [
  {
   "cell_type": "code",
   "execution_count": 2,
   "metadata": {},
   "outputs": [
    {
     "name": "stdout",
     "output_type": "stream",
     "text": [
      "2 2\n",
      "1 1 1 1\n",
      "row  0   2\n"
     ]
    }
   ],
   "source": [
    "def largestRowCol(arr):\n",
    "    n=len(arr)\n",
    "    m=len(arr[0])\n",
    "    \n",
    "    #RowSum\n",
    "    row = True\n",
    "    max_sum=-100000\n",
    "    max_ind=-1\n",
    "    for i in range(n):\n",
    "        sum=0\n",
    "        for j in range(m):\n",
    "            sum+=arr[i][j]\n",
    "        if sum>max_sum:\n",
    "            max_sum=sum\n",
    "            max_ind=i\n",
    "    #ColumnSum\n",
    "    for j in range(m):\n",
    "        sum=0\n",
    "        for i in range(n):\n",
    "            sum+=arr[i][j]\n",
    "        if sum>max_sum:\n",
    "            max_sum=sum\n",
    "            max_ind=j\n",
    "            row=False\n",
    "    return row,max_ind,max_sum\n",
    "\n",
    "#Main\n",
    "m, n=(int(i) for i in input().strip().split(' '))\n",
    "l=[int(i) for i in input().strip().split(' ')]\n",
    "arr = [ [ l[(j*n)+i] for i in range(n)] for j in range(m)]\n",
    "row,ind,s=largestRowCol(arr)\n",
    "\n",
    "if row:\n",
    "    print(\"row \",ind,\" \",s)\n",
    "else:\n",
    "    print(\"column \",ind,\" \",s)\n"
   ]
  }
 ],
 "metadata": {
  "kernelspec": {
   "display_name": "Python 3",
   "language": "python",
   "name": "python3"
  },
  "language_info": {
   "codemirror_mode": {
    "name": "ipython",
    "version": 3
   },
   "file_extension": ".py",
   "mimetype": "text/x-python",
   "name": "python",
   "nbconvert_exporter": "python",
   "pygments_lexer": "ipython3",
   "version": "3.7.4"
  }
 },
 "nbformat": 4,
 "nbformat_minor": 2
}
