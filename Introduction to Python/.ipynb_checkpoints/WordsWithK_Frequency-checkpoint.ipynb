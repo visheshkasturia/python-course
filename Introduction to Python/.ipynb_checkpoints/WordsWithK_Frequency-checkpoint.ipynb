{
 "cells": [
  {
   "cell_type": "code",
   "execution_count": 1,
   "metadata": {},
   "outputs": [
    {
     "name": "stdout",
     "output_type": "stream",
     "text": [
      "is\n",
      "hello\n",
      "beli\n",
      "much\n"
     ]
    }
   ],
   "source": [
    "def printWordsKFreq(s,k):\n",
    "    words=s.split()\n",
    "    d={}\n",
    "    for w in words:\n",
    "        d[w]=d.get(w,0)+1\n",
    "    for i in d:\n",
    "        if d[i]==k:\n",
    "            print(i)\n",
    "\n",
    "s = \"a a a a man is is hello beli beli hello very much much\"\n",
    "printWordsKFreq(s,2)"
   ]
  }
 ],
 "metadata": {
  "kernelspec": {
   "display_name": "Python 3",
   "language": "python",
   "name": "python3"
  },
  "language_info": {
   "codemirror_mode": {
    "name": "ipython",
    "version": 3
   },
   "file_extension": ".py",
   "mimetype": "text/x-python",
   "name": "python",
   "nbconvert_exporter": "python",
   "pygments_lexer": "ipython3",
   "version": "3.7.4"
  }
 },
 "nbformat": 4,
 "nbformat_minor": 2
}
