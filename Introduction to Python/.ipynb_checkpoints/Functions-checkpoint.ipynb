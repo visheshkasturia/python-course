{
 "cells": [
  {
   "cell_type": "code",
   "execution_count": 8,
   "metadata": {},
   "outputs": [
    {
     "name": "stdout",
     "output_type": "stream",
     "text": [
      "3\n",
      "6\n"
     ]
    }
   ],
   "source": [
    "#Factorial using recursion\n",
    "\n",
    "def fact(n):\n",
    "    if n==1:\n",
    "        return 1\n",
    "    else:\n",
    "        return n*fact(n-1)\n",
    "    \n",
    "n = int(input())\n",
    "a = fact(n)\n",
    "print(a)"
   ]
  },
  {
   "cell_type": "code",
   "execution_count": 18,
   "metadata": {},
   "outputs": [
    {
     "name": "stdout",
     "output_type": "stream",
     "text": [
      "10\n",
      "not prime\n"
     ]
    }
   ],
   "source": [
    "def isPrime(n):\n",
    "    for d in range(2,n,1):\n",
    "        if n%d==0:\n",
    "            return False\n",
    "    else:\n",
    "        return True\n",
    "\n",
    "n = int(input())\n",
    "\n",
    "if isPrime(n):\n",
    "    print(\"prime\")\n",
    "else:\n",
    "    print(\"not prime\")\n",
    "    "
   ]
  },
  {
   "cell_type": "code",
   "execution_count": 19,
   "metadata": {},
   "outputs": [
    {
     "name": "stdout",
     "output_type": "stream",
     "text": [
      "2\n",
      "3\n",
      "5\n",
      "7\n"
     ]
    }
   ],
   "source": [
    "def printPrime(n):\n",
    "    for i in range(2,n+1,1):\n",
    "        is_i_prime=isPrime(i)\n",
    "        if is_i_prime:\n",
    "            print(i)\n",
    "printPrime(10)"
   ]
  },
  {
   "cell_type": "code",
   "execution_count": 20,
   "metadata": {},
   "outputs": [
    {
     "name": "stdout",
     "output_type": "stream",
     "text": [
      "5\n"
     ]
    }
   ],
   "source": [
    "def func(a):\n",
    "    a = a + 10\n",
    "    return a\n",
    "a = 5\n",
    "func(a)\n",
    "print(a)"
   ]
  },
  {
   "cell_type": "code",
   "execution_count": 22,
   "metadata": {},
   "outputs": [
    {
     "name": "stdout",
     "output_type": "stream",
     "text": [
      "0\n",
      "100\n",
      "20\n",
      "0 \t -17\n",
      "20 \t -6\n",
      "40 \t 4\n",
      "60 \t 15\n",
      "80 \t 26\n",
      "100 \t 37\n"
     ]
    }
   ],
   "source": [
    "def printTable(start,end,step):\n",
    "#Implement Your Code Here\n",
    "    for c in range(start,end+1,step):\n",
    "        cel=int((c-32)*5/9)\n",
    "        print(c,\"\\t\",cel)\n",
    "\n",
    "s = int(input())\n",
    "e = int(input())\n",
    "step = int(input())\n",
    "printTable(s,e,step)"
   ]
  },
  {
   "cell_type": "code",
   "execution_count": 29,
   "metadata": {},
   "outputs": [
    {
     "name": "stdout",
     "output_type": "stream",
     "text": [
      "14\n",
      "false\n"
     ]
    }
   ],
   "source": [
    "def checkMember(n):\n",
    "    f1=1\n",
    "    f2=1\n",
    "    while f2<n:\n",
    "        next=f1+f2\n",
    "        f1=f2\n",
    "        f2=next\n",
    "    \n",
    "    if f2==n:\n",
    "        return True\n",
    "    else:\n",
    "        return False\n",
    "    \n",
    "n=int(input())\n",
    "if(checkMember(n)):\n",
    "    print(\"true\")\n",
    "else:\n",
    "    print(\"false\")"
   ]
  },
  {
   "cell_type": "code",
   "execution_count": 39,
   "metadata": {},
   "outputs": [
    {
     "name": "stdout",
     "output_type": "stream",
     "text": [
      "121\n",
      "121\n",
      "true\n"
     ]
    }
   ],
   "source": [
    "def checkPalindrome(num):\n",
    "#Implement Your Code Here\n",
    "    n=num\n",
    "    rev=0\n",
    "    while n>0:\n",
    "        rev= rev*10\n",
    "        rev=rev+n%10\n",
    "        n=n//10\n",
    "    \n",
    "    if rev==num:\n",
    "        return True\n",
    "    else:\n",
    "        return False\n",
    "    \n",
    "\n",
    "\n",
    "num = int(input())\n",
    "isPalindrome = checkPalindrome(num)\n",
    "if(isPalindrome):\n",
    "    print('true')\n",
    "else:\n",
    "    print('false')\n"
   ]
  },
  {
   "cell_type": "code",
   "execution_count": 47,
   "metadata": {},
   "outputs": [
    {
     "name": "stdout",
     "output_type": "stream",
     "text": [
      "371\n",
      "371\n",
      "true\n"
     ]
    }
   ],
   "source": [
    "def checkArmstrong(num):\n",
    "    count=0\n",
    "    n=num\n",
    "    while n>0:\n",
    "        n=n//10\n",
    "        count=count+1\n",
    "    n=num\n",
    "    sum=0\n",
    "    while n>0:\n",
    "        sum=sum+ (n%10)**count\n",
    "        n=n//10\n",
    "    if sum==num:\n",
    "        return True\n",
    "    else:\n",
    "        return False\n",
    "\n",
    "    \n",
    "    \n",
    "\n",
    "num = int(input())\n",
    "isArmstrong = checkArmstrong(num)\n",
    "if(isArmstrong):\n",
    "    print('true')\n",
    "else:\n",
    "    print('false')"
   ]
  }
 ],
 "metadata": {
  "kernelspec": {
   "display_name": "Python 3",
   "language": "python",
   "name": "python3"
  },
  "language_info": {
   "codemirror_mode": {
    "name": "ipython",
    "version": 3
   },
   "file_extension": ".py",
   "mimetype": "text/x-python",
   "name": "python",
   "nbconvert_exporter": "python",
   "pygments_lexer": "ipython3",
   "version": "3.7.4"
  }
 },
 "nbformat": 4,
 "nbformat_minor": 2
}
