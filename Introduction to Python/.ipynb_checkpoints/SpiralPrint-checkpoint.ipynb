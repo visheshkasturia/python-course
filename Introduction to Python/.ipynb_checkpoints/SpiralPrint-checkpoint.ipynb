{
 "cells": [
  {
   "cell_type": "code",
   "execution_count": 13,
   "metadata": {},
   "outputs": [
    {
     "name": "stdout",
     "output_type": "stream",
     "text": [
      " 4 4 1 2 3 4 5 6 7 8 9 10 11 12 13 14 15 16\n",
      "1 2 3 4 8 12 16 15 14 13 9 5 6 7 11 10 "
     ]
    }
   ],
   "source": [
    "def spiralPrint(arr):\n",
    "    n=len(arr)\n",
    "    m=len(arr[0])\n",
    "    rs=0\n",
    "    cs=0\n",
    "    re=n-1\n",
    "    ce=m-1\n",
    "    counter=1\n",
    "    while counter <= n*m:\n",
    "        i=rs\n",
    "        j=cs\n",
    "        while j<=ce and counter <= n*m:\n",
    "            print(arr[i][j],end=\" \")\n",
    "            counter=counter+1\n",
    "            j=j+1\n",
    "        rs=rs+1\n",
    "        j=ce\n",
    "        i=rs\n",
    "        while i<=re and counter <= n*m:\n",
    "            print(arr[i][j],end=\" \")\n",
    "            counter=counter+1\n",
    "            i=i+1\n",
    "        \n",
    "        ce=ce-1\n",
    "        j=ce\n",
    "        i=re\n",
    "        while j>=cs and counter <= n*m:\n",
    "            print(arr[i][j],end=\" \")\n",
    "            counter=counter+1\n",
    "            j=j-1\n",
    "        re=re-1\n",
    "        i=re\n",
    "        j=cs\n",
    "        while i>=rs and counter <= n*m:\n",
    "            print(arr[i][j],end=\" \")\n",
    "            counter=counter+1\n",
    "            i=i-1\n",
    "        cs=cs+1\n",
    "    return\n",
    "\n",
    "s=input().strip().split()\n",
    "n,m=int(s[0]),int(s[1])\n",
    "b=s[2:]\n",
    "arr=[[int(b[m*i+j]) for j in range(m)] for i in range(n)]\n",
    "spiralPrint(arr)"
   ]
  }
 ],
 "metadata": {
  "kernelspec": {
   "display_name": "Python 3",
   "language": "python",
   "name": "python3"
  },
  "language_info": {
   "codemirror_mode": {
    "name": "ipython",
    "version": 3
   },
   "file_extension": ".py",
   "mimetype": "text/x-python",
   "name": "python",
   "nbconvert_exporter": "python",
   "pygments_lexer": "ipython3",
   "version": "3.7.4"
  }
 },
 "nbformat": 4,
 "nbformat_minor": 2
}
