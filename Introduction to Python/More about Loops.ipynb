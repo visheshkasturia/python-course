{
 "cells": [
  {
   "cell_type": "code",
   "execution_count": 3,
   "metadata": {},
   "outputs": [
    {
     "name": "stdout",
     "output_type": "stream",
     "text": [
      "1\n",
      "30\n",
      "7\n",
      "14\n",
      "21\n",
      "28\n"
     ]
    }
   ],
   "source": [
    "#Print multiples of 7 between a and b\n",
    "\n",
    "a= int(input())\n",
    "b= int(input())\n",
    "\n",
    "s=a\n",
    "while s%7!=0:\n",
    "    s=s+1\n",
    "    \n",
    "for i in range(s,b+1,7):\n",
    "    print(i)\n"
   ]
  },
  {
   "cell_type": "code",
   "execution_count": 6,
   "metadata": {},
   "outputs": [
    {
     "name": "stdout",
     "output_type": "stream",
     "text": [
      "10\n",
      "2\n",
      "3\n",
      "5\n",
      "7\n"
     ]
    }
   ],
   "source": [
    "# print all prime numbers from 2 to n using for loop\n",
    "n= int(input())\n",
    "for i in range (2,n+1,1):\n",
    "    flag = False\n",
    "    for d in range (2,i,1):\n",
    "        if i%d==0:\n",
    "            flag= True\n",
    "            break\n",
    "    if not(flag):\n",
    "        print(i)"
   ]
  },
  {
   "cell_type": "code",
   "execution_count": 13,
   "metadata": {},
   "outputs": [
    {
     "name": "stdout",
     "output_type": "stream",
     "text": [
      "1\n",
      "2\n",
      "3\n",
      "4\n",
      "in else\n"
     ]
    }
   ],
   "source": [
    "i=1 \n",
    "while i<=4 or (i>5 and i<10):\n",
    "    print(i)\n",
    "    i=i+1\n",
    "else:\n",
    "    print(\"in else\")\n",
    "    i=i+1\n",
    "    "
   ]
  },
  {
   "cell_type": "code",
   "execution_count": 15,
   "metadata": {},
   "outputs": [
    {
     "name": "stdout",
     "output_type": "stream",
     "text": [
      "10\n",
      "not prime\n"
     ]
    }
   ],
   "source": [
    "# Improving the Prime number code: (Without Flag)\n",
    "n=int(input())\n",
    "for d in range(2,n,1):\n",
    "    if n%d==0:\n",
    "        print(\"not prime\")\n",
    "        break\n",
    "else:\n",
    "    print(\"prime\")"
   ]
  },
  {
   "cell_type": "code",
   "execution_count": 16,
   "metadata": {},
   "outputs": [
    {
     "name": "stdout",
     "output_type": "stream",
     "text": [
      "10\n",
      "2\n",
      "3\n",
      "5\n",
      "7\n"
     ]
    }
   ],
   "source": [
    "#Improving the code for all prime numbers between 2 to n (Without Flag)\n",
    "\n",
    "n= int(input())\n",
    "for i in range(2,n+1,1):\n",
    "    for d in range(2,i,1):\n",
    "        if i%d==0:\n",
    "            break\n",
    "    else:\n",
    "        print(i)"
   ]
  },
  {
   "cell_type": "code",
   "execution_count": 21,
   "metadata": {},
   "outputs": [
    {
     "name": "stdout",
     "output_type": "stream",
     "text": [
      "20\n",
      "2\n",
      "4\n",
      "6\n",
      "8\n",
      "10\n",
      "12\n",
      "16\n",
      "18\n",
      "20\n"
     ]
    }
   ],
   "source": [
    "#Print all even numbers till n using continue but also avoid multiples of 7\n",
    "n= int(input())\n",
    "for i in range(2,n+1,2):\n",
    "    if i%7==0:\n",
    "        continue\n",
    "    print(i)"
   ]
  },
  {
   "cell_type": "raw",
   "metadata": {},
   "source": [
    "\n",
    "Print Binary Pattern\n",
    "\n",
    "N=4\n",
    "1111\n",
    "000\n",
    "11\n",
    "0"
   ]
  },
  {
   "cell_type": "code",
   "execution_count": 24,
   "metadata": {},
   "outputs": [
    {
     "name": "stdout",
     "output_type": "stream",
     "text": [
      "4\n",
      "1111\n",
      "000\n",
      "11\n",
      "0\n"
     ]
    }
   ],
   "source": [
    "n=int(input())\n",
    "for i in range(1,n+1,1):\n",
    "    for j in range(1,n-i+2,1):\n",
    "        if i%2==0:\n",
    "            print(\"0\",end=\"\")\n",
    "        else:\n",
    "            print(\"1\",end=\"\")\n",
    "    print()"
   ]
  },
  {
   "cell_type": "raw",
   "metadata": {},
   "source": [
    "Number Pyramid\n",
    "N=6\n",
    "123456\n",
    " 23456\n",
    "  3456\n",
    "   456\n",
    "    56\n",
    "     6\n",
    "    56\n",
    "   456\n",
    "  3456\n",
    " 23456\n",
    "123456"
   ]
  },
  {
   "cell_type": "code",
   "execution_count": 25,
   "metadata": {},
   "outputs": [
    {
     "name": "stdout",
     "output_type": "stream",
     "text": [
      "6\n",
      "123456\n",
      " 23456\n",
      "  3456\n",
      "   456\n",
      "    56\n",
      "     6\n",
      "    56\n",
      "   456\n",
      "  3456\n",
      " 23456\n",
      "123456\n"
     ]
    }
   ],
   "source": [
    "n= int(input())\n",
    "#upper triangle\n",
    "for i in range (1,n+1,1):\n",
    "    #spaces\n",
    "    for s in range(1,i-1+1,1):\n",
    "        print(\" \",end=\"\")\n",
    "    #sequence\n",
    "    for j in range(i,n+1,1):\n",
    "        print(j,end=\"\")\n",
    "    print()\n",
    "#lower triangle\n",
    "k=n-1\n",
    "for i in range(1,k+1,1):\n",
    "    #spaces \n",
    "    for s in range(1,k-i+1,1):\n",
    "        print(\" \",end=\"\")\n",
    "    for j in range(k-i+1,n+1,1):\n",
    "        print(j,end=\"\")\n",
    "    print()"
   ]
  },
  {
   "cell_type": "raw",
   "metadata": {},
   "source": [
    "Diamond of stars\n",
    "   *\n",
    "  ***\n",
    " *****\n",
    "*******\n",
    " *****\n",
    "  ***\n",
    "   *"
   ]
  },
  {
   "cell_type": "code",
   "execution_count": 29,
   "metadata": {},
   "outputs": [
    {
     "name": "stdout",
     "output_type": "stream",
     "text": [
      "9\n",
      "    *\n",
      "   ***\n",
      "  *****\n",
      " *******\n",
      "*********\n",
      " *******\n",
      "  *****\n",
      "   ***\n",
      "    *\n"
     ]
    }
   ],
   "source": [
    "#Diamond of stars\n",
    "n= int(input())\n",
    "k= n//2+1\n",
    "for i in range(1,k+1,1):\n",
    "    #spaces\n",
    "    for s in range(1,k-i+1,1):\n",
    "        print(\" \",end=\"\")\n",
    "    #stars\n",
    "    for j in range(1,2*i-1+1,1):\n",
    "        print(\"*\",end=\"\")\n",
    "    print()\n",
    "\n",
    "t= n-(n//2+1)\n",
    "for i in range(1,t+1,1):\n",
    "    for s in range(1,i+1,1):\n",
    "        print(\" \",end=\"\")\n",
    "    for j in range(t-i+1,0,-1):\n",
    "        print(\"*\",end=\"\")\n",
    "    for j in range(t-i,0,-1):\n",
    "        print(\"*\",end=\"\")\n",
    "    print()\n",
    "    "
   ]
  },
  {
   "cell_type": "raw",
   "metadata": {},
   "source": [
    "VERY IMPORTANT RECTANGULAR NUMBERS\n",
    "33333\n",
    "32223\n",
    "32123\n",
    "32223\n",
    "33333"
   ]
  },
  {
   "cell_type": "code",
   "execution_count": 57,
   "metadata": {},
   "outputs": [
    {
     "name": "stdout",
     "output_type": "stream",
     "text": [
      "4\n",
      "4444444\n",
      "4333334\n",
      "4322234\n",
      "4321234\n",
      "4322234\n",
      "4333334\n",
      "4444444\n"
     ]
    }
   ],
   "source": [
    "n=int(input())\n",
    "i=1 \n",
    "#upper rectangle\n",
    "while i<=n:\n",
    "    #1st triangle\n",
    "    j=1\n",
    "    while j<=i:\n",
    "        print(n-j+1,end=\"\")\n",
    "        j=j+1\n",
    "    j=i+1\n",
    "    while j<2*n-i:\n",
    "        print(n-i+1,end=\"\")\n",
    "        j=j+1\n",
    "    j=2*n-1\n",
    "    d=n-i+1\n",
    "    while j>=2*n-i:\n",
    "        if d==1:\n",
    "            j=j-1\n",
    "            d=d+1\n",
    "            continue\n",
    "        print(d,end=\"\")\n",
    "        j=j-1\n",
    "        d=d+1\n",
    "    print()\n",
    "    i=i+1\n",
    "    \n",
    "#lower rectangle\n",
    "i=1\n",
    "t=n-1\n",
    "while i<=t:\n",
    "    j=t-i+1\n",
    "    d=n\n",
    "    while j>=1:\n",
    "        print(d,end=\"\")\n",
    "        d=d-1\n",
    "        j=j-1\n",
    "    j=1\n",
    "    while j<=2*i-1:\n",
    "        print(i+1,end=\"\")\n",
    "        j=j+1\n",
    "    d=i+1\n",
    "    while d<=n:\n",
    "        print(d,end=\"\")\n",
    "        d=d+1\n",
    "    print()\n",
    "    i=i+1\n",
    "        \n",
    "    \n",
    "    "
   ]
  },
  {
   "cell_type": "raw",
   "metadata": {},
   "source": [
    "Pattern:\n",
    "N=5\n",
    "1 2 3 4 5\n",
    "11 12 13 14 15\n",
    "21 22 23 24 25\n",
    "16 17 18 19 20\n",
    "6 7 8 9 10"
   ]
  },
  {
   "cell_type": "code",
   "execution_count": 87,
   "metadata": {},
   "outputs": [
    {
     "name": "stdout",
     "output_type": "stream",
     "text": [
      "5\n",
      "1  2  3  4  5  \n",
      "11  12  13  14  15  \n",
      "21  22  23  24  25  \n",
      "16  17  18  19  20  \n",
      "6  7  8  9  10  \n"
     ]
    }
   ],
   "source": [
    "n= int(input())\n",
    "i=1\n",
    "m=0\n",
    "while i<=n//2:\n",
    "    if m%2!=0:\n",
    "        m=m+1\n",
    "        continue\n",
    "    j=(n*m)+1\n",
    "    while j<=n*(m+1):\n",
    "        print(j,\" \",end=\"\")\n",
    "        j=j+1\n",
    "    print()\n",
    "    i=i+1\n",
    "    m=m+1\n",
    "\n",
    "if n%2!=0:\n",
    "    j=n*(n-1)+1\n",
    "    while j<=n*n:\n",
    "        print(j,\" \",end=\"\")\n",
    "        j=j+1\n",
    "    print()\n",
    "\n",
    "i = 1\n",
    "\n",
    "while i <=n//2:\n",
    "    if m%2==0:\n",
    "        m=m-1\n",
    "        continue\n",
    "    j=(n*m)+1\n",
    "    while j<=n*(m+1):\n",
    "        print(j,\" \",end=\"\")\n",
    "        j=j+1\n",
    "    print()\n",
    "    i=i+1\n",
    "    m=m-1\n",
    "    \n",
    "        "
   ]
  }
 ],
 "metadata": {
  "kernelspec": {
   "display_name": "Python 3",
   "language": "python",
   "name": "python3"
  },
  "language_info": {
   "codemirror_mode": {
    "name": "ipython",
    "version": 3
   },
   "file_extension": ".py",
   "mimetype": "text/x-python",
   "name": "python",
   "nbconvert_exporter": "python",
   "pygments_lexer": "ipython3",
   "version": "3.7.4"
  }
 },
 "nbformat": 4,
 "nbformat_minor": 2
}
