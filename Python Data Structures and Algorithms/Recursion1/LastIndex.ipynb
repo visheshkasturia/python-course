{
 "cells": [
  {
   "cell_type": "code",
   "execution_count": 2,
   "metadata": {},
   "outputs": [
    {
     "name": "stdout",
     "output_type": "stream",
     "text": [
      "1 2 3 4 5 6 1 2 3 \n",
      "1\n",
      "6\n"
     ]
    }
   ],
   "source": [
    "def lastIndex(li,x, si):\n",
    "    if si==-1:\n",
    "        return -1\n",
    "    \n",
    "    if li[si]==x:\n",
    "        return si\n",
    "    \n",
    "    return lastIndex(li,x,si-1)\n",
    "\n",
    "li=[int(x) for x in input().split()]\n",
    "x=int(input())\n",
    "print(lastIndex(li,x,len(li)-1))\n",
    "        "
   ]
  },
  {
   "cell_type": "code",
   "execution_count": 1,
   "metadata": {},
   "outputs": [
    {
     "name": "stdout",
     "output_type": "stream",
     "text": [
      "1 2 3 4 5\n",
      "2\n",
      "1\n"
     ]
    }
   ],
   "source": [
    "def lastIndexCopy(li,x):\n",
    "    if len(li)==0:\n",
    "        return -1\n",
    "    \n",
    "    a=lastIndexCopy(li[1:],x)\n",
    "    \n",
    "    if a==-1:\n",
    "        if li[0]==x:\n",
    "            return 0\n",
    "        else:\n",
    "            return -1\n",
    "    \n",
    "    return a+1\n",
    "\n",
    "li=[int(x) for x in input().split()]\n",
    "x=int(input())\n",
    "print(lastIndexCopy(li,x))\n",
    "    \n",
    "    "
   ]
  },
  {
   "cell_type": "code",
   "execution_count": 2,
   "metadata": {},
   "outputs": [
    {
     "data": {
      "text/plain": [
       "[]"
      ]
     },
     "execution_count": 2,
     "metadata": {},
     "output_type": "execute_result"
    }
   ],
   "source": [
    "li2=[1]\n",
    "li2[1:]"
   ]
  }
 ],
 "metadata": {
  "kernelspec": {
   "display_name": "Python 3",
   "language": "python",
   "name": "python3"
  },
  "language_info": {
   "codemirror_mode": {
    "name": "ipython",
    "version": 3
   },
   "file_extension": ".py",
   "mimetype": "text/x-python",
   "name": "python",
   "nbconvert_exporter": "python",
   "pygments_lexer": "ipython3",
   "version": "3.7.4"
  }
 },
 "nbformat": 4,
 "nbformat_minor": 2
}
