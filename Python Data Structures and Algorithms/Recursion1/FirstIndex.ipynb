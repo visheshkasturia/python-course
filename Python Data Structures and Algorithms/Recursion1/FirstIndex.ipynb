{
 "cells": [
  {
   "cell_type": "code",
   "execution_count": 4,
   "metadata": {},
   "outputs": [
    {
     "name": "stdout",
     "output_type": "stream",
     "text": [
      "1 2 3 4 5\n",
      "4\n",
      "[3]\n"
     ]
    }
   ],
   "source": [
    "def firstIndex(li,x,si):\n",
    "    if si==len(li):\n",
    "        return -1\n",
    "    if li[si]==x:\n",
    "        return si\n",
    "    return firstIndex(li,x,si+1)\n",
    "\n",
    "li=[int(x) for x in input().split()]\n",
    "x=int(input())\n",
    "print(firstIndex(li,x,0))"
   ]
  },
  {
   "cell_type": "code",
   "execution_count": 11,
   "metadata": {},
   "outputs": [
    {
     "name": "stdout",
     "output_type": "stream",
     "text": [
      "1 2 3 4 5\n",
      "2\n",
      "1\n"
     ]
    }
   ],
   "source": [
    "def firstIndexCopy(li,x):\n",
    "    if len(li)==1:\n",
    "        if li[0]==x:\n",
    "            return 0\n",
    "        else:\n",
    "            return -1\n",
    "    if li[0]==x:\n",
    "        return 0\n",
    "    if firstIndexCopy(li[1:],x)==-1:\n",
    "        return -1\n",
    "    else:\n",
    "        return firstIndexCopy(li[1:],x) +1\n",
    "\n",
    "\n",
    "li=[int(x) for x in input().split()]\n",
    "x=int(input())\n",
    "print(firstIndexCopy(li,x))"
   ]
  }
 ],
 "metadata": {
  "kernelspec": {
   "display_name": "Python 3",
   "language": "python",
   "name": "python3"
  },
  "language_info": {
   "codemirror_mode": {
    "name": "ipython",
    "version": 3
   },
   "file_extension": ".py",
   "mimetype": "text/x-python",
   "name": "python",
   "nbconvert_exporter": "python",
   "pygments_lexer": "ipython3",
   "version": "3.7.4"
  }
 },
 "nbformat": 4,
 "nbformat_minor": 2
}
