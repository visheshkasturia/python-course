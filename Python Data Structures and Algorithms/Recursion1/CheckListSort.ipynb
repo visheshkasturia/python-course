{
 "cells": [
  {
   "cell_type": "code",
   "execution_count": 2,
   "metadata": {},
   "outputs": [
    {
     "data": {
      "text/plain": [
       "False"
      ]
     },
     "execution_count": 2,
     "metadata": {},
     "output_type": "execute_result"
    }
   ],
   "source": [
    "def checkSort(li,si):\n",
    "    l = len(li)\n",
    "    if si==l-1 or si==l:\n",
    "        return True\n",
    "    \n",
    "    if li[si]> li[si+1]:\n",
    "        return False\n",
    "    return checkSort(li,si+1)\n",
    "\n",
    "li=[1,2,3,4,5,6]\n",
    "checkSort(li,0)\n",
    "    "
   ]
  }
 ],
 "metadata": {
  "kernelspec": {
   "display_name": "Python 3",
   "language": "python",
   "name": "python3"
  },
  "language_info": {
   "codemirror_mode": {
    "name": "ipython",
    "version": 3
   },
   "file_extension": ".py",
   "mimetype": "text/x-python",
   "name": "python",
   "nbconvert_exporter": "python",
   "pygments_lexer": "ipython3",
   "version": "3.7.4"
  }
 },
 "nbformat": 4,
 "nbformat_minor": 2
}
