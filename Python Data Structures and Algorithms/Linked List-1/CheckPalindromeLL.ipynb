{
 "cells": [
  {
   "cell_type": "code",
   "execution_count": 19,
   "metadata": {},
   "outputs": [
    {
     "name": "stdout",
     "output_type": "stream",
     "text": [
      "1 2 3 2 1 -1\n",
      "true\n"
     ]
    }
   ],
   "source": [
    "class Node:\n",
    "    def __init__(self, data):\n",
    "        self.data = data\n",
    "        self.next = None\n",
    "\n",
    "def reverse(head):\n",
    "    if head is None or head.next is None:\n",
    "        return head\n",
    "    smallHead=reverse(head.next)\n",
    "    tail=head.next\n",
    "    tail.next=head\n",
    "    head.next=None\n",
    "    return smallHead\n",
    "\n",
    "def check_palindrome(head) :\n",
    "    slow=head\n",
    "    fast=head\n",
    "    flag_odd=False\n",
    "    flag_pal=True\n",
    "    while fast.next is not None and fast.next.next is not None:\n",
    "        slow=slow.next\n",
    "        fast=fast.next.next\n",
    "    if fast.next is None:\n",
    "        flag_odd=True\n",
    "        temp=slow\n",
    "    \n",
    "    head2 = reverse(slow.next)\n",
    "    slow.next=None\n",
    "    if flag_odd:\n",
    "        while head != slow:\n",
    "            if head.data!=head2.data:\n",
    "                flag_pal=False\n",
    "                break\n",
    "            head=head.next\n",
    "            head2=head2.next\n",
    "    else:\n",
    "        while head is not None:\n",
    "            if head.data!=head2.data:\n",
    "                flag_pal=False\n",
    "                break\n",
    "            head=head.next\n",
    "            head2=head2.next\n",
    "    \n",
    "    return flag_pal\n",
    "    \n",
    "\n",
    "def ll(arr):\n",
    "    if len(arr)==0:\n",
    "        return None\n",
    "    head = Node(arr[0])\n",
    "    last = head\n",
    "    for data in arr[1:]:\n",
    "        last.next = Node(data)\n",
    "        last = last.next\n",
    "    return head\n",
    "\n",
    "def printLL(head):\n",
    "    while head is not None:\n",
    "        print(head.data,end=\" \")\n",
    "        head=head.next\n",
    "    \n",
    "# Main\n",
    "# Read the link list elements including -1\n",
    "arr=list(int(i) for i in input().strip().split(' '))\n",
    "# Create a Linked list after removing -1 from list\n",
    "l = ll(arr[:-1])\n",
    "ans = check_palindrome(l)\n",
    "if ans:\n",
    "    print(\"true\")\n",
    "else:\n",
    "    print(\"false\")\n"
   ]
  }
 ],
 "metadata": {
  "kernelspec": {
   "display_name": "Python 3",
   "language": "python",
   "name": "python3"
  },
  "language_info": {
   "codemirror_mode": {
    "name": "ipython",
    "version": 3
   },
   "file_extension": ".py",
   "mimetype": "text/x-python",
   "name": "python",
   "nbconvert_exporter": "python",
   "pygments_lexer": "ipython3",
   "version": "3.7.4"
  }
 },
 "nbformat": 4,
 "nbformat_minor": 2
}
