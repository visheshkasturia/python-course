{
 "cells": [
  {
   "cell_type": "code",
   "execution_count": 11,
   "metadata": {},
   "outputs": [
    {
     "name": "stdout",
     "output_type": "stream",
     "text": [
      "1 2 3 4 5 -1\n",
      "1->2->3->4->5->None\n",
      "1->2->3->4->5->6->None\n"
     ]
    }
   ],
   "source": [
    "class Node:\n",
    "    def __init__(self,data):\n",
    "        self.data=data\n",
    "        self.next=None\n",
    "\n",
    "def takeInput():\n",
    "    inputList=[int(x) for x in input().strip().split()]\n",
    "    head=None\n",
    "    tail=None\n",
    "    \n",
    "    for currData in inputList:\n",
    "        if currData==-1:\n",
    "            break\n",
    "        if head is None:\n",
    "            newNode=Node(currData)\n",
    "            head=newNode\n",
    "            tail=newNode\n",
    "        else:\n",
    "            newNode=Node(currData)\n",
    "            tail.next=newNode\n",
    "            tail=newNode\n",
    "    return head\n",
    "            \n",
    "def printLL(head):\n",
    "    while head is not None:\n",
    "        print(str(head.data)+\"->\",end=\"\")\n",
    "        head=head.next\n",
    "    print(\"None\")\n",
    "\n",
    "def insertAtI(head,i,data):\n",
    "    newNode=Node(data)\n",
    "    if i==0:\n",
    "        print(\"here\")\n",
    "        newNode.next=head\n",
    "        print(newNode.next)\n",
    "        print(newNode)\n",
    "        print(head)\n",
    "        head=newNode\n",
    "        print(head)\n",
    "        return head\n",
    "    else:\n",
    "        curr=head\n",
    "        prev=None\n",
    "        for x in range(i):\n",
    "            prev=curr\n",
    "            curr=curr.next\n",
    "        prev.next=newNode\n",
    "        newNode.next=curr\n",
    "        return head\n",
    "\n",
    "    \n",
    "head=takeInput()\n",
    "printLL(head)\n",
    "head=insertAtI(head,5,6)\n",
    "printLL(head)\n"
   ]
  }
 ],
 "metadata": {
  "kernelspec": {
   "display_name": "Python 3",
   "language": "python",
   "name": "python3"
  },
  "language_info": {
   "codemirror_mode": {
    "name": "ipython",
    "version": 3
   },
   "file_extension": ".py",
   "mimetype": "text/x-python",
   "name": "python",
   "nbconvert_exporter": "python",
   "pygments_lexer": "ipython3",
   "version": "3.7.4"
  }
 },
 "nbformat": 4,
 "nbformat_minor": 2
}
