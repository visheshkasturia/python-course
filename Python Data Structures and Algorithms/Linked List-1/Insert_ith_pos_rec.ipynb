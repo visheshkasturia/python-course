{
 "cells": [
  {
   "cell_type": "code",
   "execution_count": null,
   "metadata": {},
   "outputs": [],
   "source": [
    "class Node:\n",
    "    def __init__(self,data):\n",
    "        self.data=data\n",
    "        self.next=None\n",
    "\n",
    "def takeInput():\n",
    "    inputList=[int(x) for x in input().strip().split()]\n",
    "    head=None\n",
    "    tail=None\n",
    "    \n",
    "    for currData in inputList:\n",
    "        if currData==-1:\n",
    "            break\n",
    "        if head is None:\n",
    "            newNode=Node(currData)\n",
    "            head=newNode\n",
    "            tail=newNode\n",
    "        else:\n",
    "            newNode=Node(currData)\n",
    "            tail.next=newNode\n",
    "            tail=newNode\n",
    "    return head\n",
    "            \n",
    "def printLL(head):\n",
    "    while head is not None:\n",
    "        print(str(head.data)+\"->\",end=\"\")\n",
    "        head=head.next\n",
    "    print(\"None\")\n",
    "\n",
    "\n",
    "def recInsertAtI(head,i,data):\n",
    "    if i<0:\n",
    "        return head\n",
    "    elif i==0:\n",
    "        newNode=Node(data)\n",
    "        newNode.next=head\n",
    "        #head=newNode\n",
    "        return newNode\n",
    "    elif head is None:\n",
    "        return None\n",
    "    else:\n",
    "        smallHead=recInsertAtI(head.next,i-1,data)\n",
    "        head.next=smallHead\n",
    "        return head\n",
    "    \n",
    "head=takeInput()\n",
    "printLL(head)\n",
    "head=recInsertAtI(head,5,6)\n",
    "printLL(head)\n"
   ]
  }
 ],
 "metadata": {
  "kernelspec": {
   "display_name": "Python 3",
   "language": "python",
   "name": "python3"
  },
  "language_info": {
   "codemirror_mode": {
    "name": "ipython",
    "version": 3
   },
   "file_extension": ".py",
   "mimetype": "text/x-python",
   "name": "python",
   "nbconvert_exporter": "python",
   "pygments_lexer": "ipython3",
   "version": "3.7.4"
  }
 },
 "nbformat": 4,
 "nbformat_minor": 2
}
