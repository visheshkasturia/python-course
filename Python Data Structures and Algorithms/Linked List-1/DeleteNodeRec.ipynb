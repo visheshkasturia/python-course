{
 "cells": [
  {
   "cell_type": "code",
   "execution_count": 12,
   "metadata": {},
   "outputs": [
    {
     "name": "stdout",
     "output_type": "stream",
     "text": [
      "86 50 78 40 76 81 98 13 18 21 -1\n",
      "86->50->78->40->76->81->98->13->18->21->None\n",
      "86->78->40->76->81->98->13->18->21->None\n"
     ]
    }
   ],
   "source": [
    "class Node:\n",
    "    def __init__(self,data):\n",
    "        self.data=data\n",
    "        self.next=None\n",
    "\n",
    "def takeInput():\n",
    "    inputList=[int(x) for x in input().split()]\n",
    "    head=None\n",
    "    tail=None\n",
    "    for currData in inputList:\n",
    "        if currData==-1:\n",
    "            break\n",
    "        newNode=Node(currData)\n",
    "        if head is None:\n",
    "            head=newNode\n",
    "            tail=newNode\n",
    "        else:\n",
    "            tail.next=newNode\n",
    "            tail=newNode\n",
    "        \n",
    "    return head\n",
    "\n",
    "def printLL(head):\n",
    "    while head is not None:\n",
    "        print(str(head.data)+\"->\",end=\"\")\n",
    "        head=head.next\n",
    "    print(\"None\")\n",
    "\n",
    "def lengthLL(head):\n",
    "    count=0\n",
    "    while head is not None:\n",
    "        count+=1\n",
    "        head=head.next\n",
    "    return count\n",
    "\n",
    "def recDeleteAtI(head,i):\n",
    "    if i<0:\n",
    "        return None\n",
    "    elif head is None:\n",
    "        return None\n",
    "    elif i==0:\n",
    "        return head.next\n",
    "\n",
    "    else:\n",
    "        smallHead=recDeleteAtI(head.next,i-1)\n",
    "        head.next=smallHead\n",
    "        return head\n",
    "\n",
    "\n",
    "head=takeInput()\n",
    "printLL(head)\n",
    "head=recDeleteAtI(head,1)\n",
    "printLL(head)"
   ]
  }
 ],
 "metadata": {
  "kernelspec": {
   "display_name": "Python 3",
   "language": "python",
   "name": "python3"
  },
  "language_info": {
   "codemirror_mode": {
    "name": "ipython",
    "version": 3
   },
   "file_extension": ".py",
   "mimetype": "text/x-python",
   "name": "python",
   "nbconvert_exporter": "python",
   "pygments_lexer": "ipython3",
   "version": "3.7.4"
  }
 },
 "nbformat": 4,
 "nbformat_minor": 2
}
