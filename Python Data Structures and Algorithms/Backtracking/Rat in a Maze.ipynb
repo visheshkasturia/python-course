{
 "cells": [
  {
   "cell_type": "code",
   "execution_count": 5,
   "metadata": {
    "scrolled": true
   },
   "outputs": [
    {
     "name": "stdout",
     "output_type": "stream",
     "text": [
      "4\n",
      "1 1 0 1\n",
      "0 1 1 1\n",
      "1 1 1 1\n",
      "1 0 0 1\n",
      "1100\n",
      "0111\n",
      "0001\n",
      "0001\n",
      "\n",
      "1100\n",
      "0110\n",
      "0011\n",
      "0001\n",
      "\n",
      "1100\n",
      "0100\n",
      "0111\n",
      "0001\n",
      "\n",
      "1100\n",
      "0111\n",
      "0111\n",
      "0001\n",
      "\n"
     ]
    }
   ],
   "source": [
    "def printPathHelper(maze,n,x,y,solution):\n",
    "    if x==n-1 and y==n-1:\n",
    "        solution[x][y]=1\n",
    "        for row in solution:\n",
    "            for i in row:\n",
    "                print(i,end=\"\")\n",
    "            print()\n",
    "        \n",
    "        print()\n",
    "        solution[x][y]=1\n",
    "        return\n",
    "    \n",
    "    if x<0 or y<0 or x>=n or y>=n or maze[x][y]==0 or solution[x][y]==1:\n",
    "        return\n",
    "    \n",
    "    solution[x][y]=1\n",
    "    printPathHelper(maze,n,x,y+1,solution)\n",
    "    printPathHelper(maze,n,x+1,y,solution)\n",
    "    printPathHelper(maze,n,x,y-1,solution)\n",
    "    printPathHelper(maze,n,x-1,y,solution)\n",
    "    solution[x][y]=0\n",
    "    \n",
    "def printPaths(maze,n):\n",
    "    solution=[[0 for j in range(n)]for i in range(n)]\n",
    "    printPathHelper(maze,n,0,0,solution)\n",
    "\n",
    "\n",
    "n=int(input())\n",
    "maze=[[int(j) for j in input().split()]for i in range(n)]\n",
    "printPaths(maze,n)"
   ]
  },
  {
   "cell_type": "code",
   "execution_count": null,
   "metadata": {},
   "outputs": [],
   "source": []
  }
 ],
 "metadata": {
  "kernelspec": {
   "display_name": "Python 3",
   "language": "python",
   "name": "python3"
  },
  "language_info": {
   "codemirror_mode": {
    "name": "ipython",
    "version": 3
   },
   "file_extension": ".py",
   "mimetype": "text/x-python",
   "name": "python",
   "nbconvert_exporter": "python",
   "pygments_lexer": "ipython3",
   "version": "3.7.4"
  }
 },
 "nbformat": 4,
 "nbformat_minor": 2
}
