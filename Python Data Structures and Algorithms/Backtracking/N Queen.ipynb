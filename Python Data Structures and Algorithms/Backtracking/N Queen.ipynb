{
 "cells": [
  {
   "cell_type": "code",
   "execution_count": 4,
   "metadata": {},
   "outputs": [
    {
     "name": "stdout",
     "output_type": "stream",
     "text": [
      "4\n",
      "0 1 0 0 \n",
      "0 0 0 1 \n",
      "1 0 0 0 \n",
      "0 0 1 0 \n",
      "\n",
      "0 0 1 0 \n",
      "1 0 0 0 \n",
      "0 0 0 1 \n",
      "0 1 0 0 \n",
      "\n"
     ]
    }
   ],
   "source": [
    "def isSafe(row,col,n,board):\n",
    "    \n",
    "    i=row-1\n",
    "    j=col\n",
    "    while i>=0:\n",
    "        if board[i][j]==1:\n",
    "            return False\n",
    "        i-=1\n",
    "    \n",
    "    i=row-1\n",
    "    j=col-1\n",
    "    \n",
    "    while i>=0 and j>=0:\n",
    "        if board[i][j]==1:\n",
    "            return False\n",
    "        i-=1\n",
    "        j-=1\n",
    "    \n",
    "    i=row-1\n",
    "    j=col+1\n",
    "    \n",
    "    while i>=0 and j<n:\n",
    "        if board[i][j]==1:\n",
    "            return False\n",
    "        i-=1\n",
    "        j+=1\n",
    "    \n",
    "    return True\n",
    "    \n",
    "def nQueenHelper(row,n,board):\n",
    "    if row==n:\n",
    "        for ele in board:\n",
    "            for i in ele:\n",
    "                print(i,end=\" \")\n",
    "            print()\n",
    "        print()\n",
    "        return\n",
    "    \n",
    "    for col in range(n):\n",
    "        if isSafe(row,col,n,board) is True:\n",
    "            board[row][col]=1\n",
    "            nQueenHelper(row+1,n,board)\n",
    "            board[row][col]=0\n",
    "    \n",
    "    return\n",
    "\n",
    "\n",
    "def nQueen(n):\n",
    "    board=[[0 for j in range(n)] for i in range(n)]\n",
    "    nQueenHelper(0,n,board)\n",
    "\n",
    "\n",
    "n=int(input())\n",
    "nQueen(n)"
   ]
  }
 ],
 "metadata": {
  "kernelspec": {
   "display_name": "Python 3",
   "language": "python",
   "name": "python3"
  },
  "language_info": {
   "codemirror_mode": {
    "name": "ipython",
    "version": 3
   },
   "file_extension": ".py",
   "mimetype": "text/x-python",
   "name": "python",
   "nbconvert_exporter": "python",
   "pygments_lexer": "ipython3",
   "version": "3.7.4"
  }
 },
 "nbformat": 4,
 "nbformat_minor": 2
}
