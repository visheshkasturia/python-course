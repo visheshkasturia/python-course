{
 "cells": [
  {
   "cell_type": "code",
   "execution_count": 52,
   "metadata": {},
   "outputs": [],
   "source": [
    "class PriorityQueueNode:\n",
    "    def __init__(self,value,priority):\n",
    "        self.value=value\n",
    "        self.priority=priority\n",
    "    \n",
    "class PriorityQueue:\n",
    "    def __init__(self):\n",
    "        self.pq=[]\n",
    "    \n",
    "    \n",
    "    def getSize(self):\n",
    "        return len(self.pq)\n",
    "    \n",
    "    def isEmpty(self):\n",
    "        return self.getSize()==0\n",
    "    \n",
    "    def getMin(self):\n",
    "        if self.isEmpty() is True:\n",
    "            return None\n",
    "        return self.pq[0].value\n",
    "    \n",
    "    def __percolateUp(self):\n",
    "        childIndex=self.getSize()-1\n",
    "        \n",
    "        while childIndex>0:\n",
    "            parentIndex=(childIndex-1)//2\n",
    "            if self.pq[childIndex].priority < self.pq[parentIndex].priority:\n",
    "                self.pq[childIndex],self.pq[parentIndex]=self.pq[parentIndex],self.pq[childIndex]\n",
    "                childIndex=parentIndex\n",
    "            else:\n",
    "                break\n",
    "        \n",
    "    def insert(self,value,priority):\n",
    "        pqNode=PriorityQueueNode(value,priority)\n",
    "        self.pq.append(pqNode)\n",
    "        self.__percolateUp()\n",
    "    \n",
    "        \n",
    "    def __percolateDown(self):\n",
    "        parentIndex=0\n",
    "        leftChildIndex=1\n",
    "        rightChildIndex=2\n",
    "        while leftChildIndex<self.getSize():\n",
    "            minIndex=parentIndex\n",
    "            \n",
    "            if self.pq[leftChildIndex].priority<self.pq[minIndex].priority:\n",
    "                minIndex=leftChildIndex\n",
    "            if rightChildIndex<self.getSize() and self.pq[rightChildIndex].priority< self.pq[minIndex].priority:\n",
    "                minIndex=rightChildIndex\n",
    "            if minIndex==parentIndex:\n",
    "                break\n",
    "            else:\n",
    "                self.pq[parentIndex],self.pq[minIndex]=self.pq[minIndex],self.pq[parentIndex]\n",
    "                parentIndex=minIndex\n",
    "                leftChildIndex=2*parentIndex+1\n",
    "                rightChildIndex=2*parentIndex+2\n",
    "        \n",
    "    \n",
    "    def removeMin(self):\n",
    "        ele=self.pq[0].value\n",
    "        self.pq[0]=self.pq[self.getSize()-1]\n",
    "        self.pq.pop()\n",
    "        self.__percolateDown() \n",
    "        return ele\n",
    "    \n",
    "    def printPQ(self):\n",
    "        for i in self.pq:\n",
    "            print(str(i.value)+\":\"+str(i.priority), end=\" \")\n",
    "        print()\n",
    "        "
   ]
  },
  {
   "cell_type": "code",
   "execution_count": 51,
   "metadata": {},
   "outputs": [
    {
     "name": "stdout",
     "output_type": "stream",
     "text": [
      "10:10 20:20 18:18 60:60 100:100 30:30 \n",
      "10\n",
      "30:30 20:20 18:18 60:60 100:100 \n",
      "30\n",
      "100:100 20:20 18:18 60:60 \n"
     ]
    }
   ],
   "source": [
    "p=PriorityQueue()\n",
    "\n",
    "p.insert(10,10)\n",
    "p.insert(20,20)\n",
    "p.insert(30,30)\n",
    "p.insert(60,60)\n",
    "p.insert(100,100)\n",
    "p.insert(18,18)\n",
    "p.printPQ()\n",
    "print(p.removeMin())\n",
    "p.printPQ()\n",
    "print(p.removeMin())\n",
    "p.printPQ()"
   ]
  }
 ],
 "metadata": {
  "kernelspec": {
   "display_name": "Python 3",
   "language": "python",
   "name": "python3"
  },
  "language_info": {
   "codemirror_mode": {
    "name": "ipython",
    "version": 3
   },
   "file_extension": ".py",
   "mimetype": "text/x-python",
   "name": "python",
   "nbconvert_exporter": "python",
   "pygments_lexer": "ipython3",
   "version": "3.7.4"
  }
 },
 "nbformat": 4,
 "nbformat_minor": 2
}
