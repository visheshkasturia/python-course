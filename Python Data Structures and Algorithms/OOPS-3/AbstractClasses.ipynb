{
 "cells": [
  {
   "cell_type": "code",
   "execution_count": 6,
   "metadata": {},
   "outputs": [
    {
     "name": "stdout",
     "output_type": "stream",
     "text": [
      "Start of Automobile Called\n",
      "Start of Car Called\n"
     ]
    }
   ],
   "source": [
    "from abc import ABC, abstractmethod\n",
    "\n",
    "class Automobile(ABC):\n",
    "    \n",
    "    def __init__(self):\n",
    "        print(\"Automobile Created\")\n",
    "    \n",
    "    @abstractmethod\n",
    "    def start(self):\n",
    "        print(\"Start of Automobile Called\")\n",
    "    \n",
    "    @abstractmethod\n",
    "    def stop(self):\n",
    "        pass\n",
    "    @abstractmethod\n",
    "    def drive(self):\n",
    "        pass\n",
    "\n",
    "\n",
    "class Car(Automobile):\n",
    "    \n",
    "    def __init__(self,name):\n",
    "        self.__name=name\n",
    "    \n",
    "    def start(self):\n",
    "        super().start()\n",
    "        print(\"Start of Car Called\")\n",
    "    def stop(self):\n",
    "        pass\n",
    "    def drive(self):\n",
    "        pass\n",
    "\n",
    "c=Car(\"Honda\")\n",
    "c.start()\n",
    "    "
   ]
  }
 ],
 "metadata": {
  "kernelspec": {
   "display_name": "Python 3",
   "language": "python",
   "name": "python3"
  },
  "language_info": {
   "codemirror_mode": {
    "name": "ipython",
    "version": 3
   },
   "file_extension": ".py",
   "mimetype": "text/x-python",
   "name": "python",
   "nbconvert_exporter": "python",
   "pygments_lexer": "ipython3",
   "version": "3.7.4"
  }
 },
 "nbformat": 4,
 "nbformat_minor": 2
}
