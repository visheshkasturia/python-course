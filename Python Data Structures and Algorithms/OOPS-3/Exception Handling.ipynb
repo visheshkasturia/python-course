{
 "cells": [
  {
   "cell_type": "code",
   "execution_count": 41,
   "metadata": {},
   "outputs": [
    {
     "name": "stdout",
     "output_type": "stream",
     "text": [
      "Enter the numerator: 5\n",
      "Enter the denominator: \n",
      "Numerator and Denominator should be integers\n",
      "In finally\n",
      "Enter the numerator: \n",
      "Numerator and Denominator should be integers\n",
      "In finally\n",
      "Enter the numerator: 5\n",
      "Enter the denominator: 0\n",
      "\n",
      "My Exception handled\n",
      "In finally\n",
      "Enter the numerator: 5\n",
      "Enter the denominator: 2\n",
      "In else block\n",
      "2.5\n",
      "In finally\n"
     ]
    }
   ],
   "source": [
    "class myException(Exception):\n",
    "    def __init__(message):\n",
    "        print(message)\n",
    "while True:\n",
    "    try:\n",
    "        n=int(input(\"Enter the numerator: \"))\n",
    "        d=int(input(\"Enter the denominator: \"))\n",
    "        if d==0:\n",
    "            raise myException()\n",
    "        value =n/d\n",
    "        \n",
    "    except ValueError:\n",
    "        print(\"Numerator and Denominator should be integers\")\n",
    "    except ZeroDivisionError:\n",
    "        print(\"Denominator should not be Zero\")\n",
    "    except myException:\n",
    "        print(\"My Exception handled\")\n",
    "    \n",
    "    else:\n",
    "        print(\"In else block\")\n",
    "        print(value)\n",
    "        break\n",
    "    finally:\n",
    "        print(\"In finally\")"
   ]
  }
 ],
 "metadata": {
  "kernelspec": {
   "display_name": "Python 3",
   "language": "python",
   "name": "python3"
  },
  "language_info": {
   "codemirror_mode": {
    "name": "ipython",
    "version": 3
   },
   "file_extension": ".py",
   "mimetype": "text/x-python",
   "name": "python",
   "nbconvert_exporter": "python",
   "pygments_lexer": "ipython3",
   "version": "3.7.4"
  }
 },
 "nbformat": 4,
 "nbformat_minor": 2
}
