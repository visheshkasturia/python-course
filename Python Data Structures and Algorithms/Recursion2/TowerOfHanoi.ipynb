{
 "cells": [
  {
   "cell_type": "code",
   "execution_count": 12,
   "metadata": {},
   "outputs": [
    {
     "name": "stdout",
     "output_type": "stream",
     "text": [
      "4\n",
      "a   b\n",
      "a   c\n",
      "b   c\n",
      "a   b\n",
      "c   a\n",
      "c   b\n",
      "a   b\n",
      "a   c\n",
      "b   c\n",
      "b   a\n",
      "c   a\n",
      "b   c\n",
      "a   b\n",
      "a   c\n",
      "b   c\n"
     ]
    }
   ],
   "source": [
    "def towerofhanoi(n, source, aux, dest):\n",
    "    if n==0:\n",
    "        return\n",
    "    if n==1:\n",
    "        print(source,\" \",dest)\n",
    "        return\n",
    "    towerofhanoi(n-1,source,dest,aux)\n",
    "    towerofhanoi(1,source,aux,dest)\n",
    "    towerofhanoi(n-1,aux,source,dest)\n",
    "        \n",
    "\n",
    "n=int(input())\n",
    "towerofhanoi(n, 'a', 'b', 'c')"
   ]
  }
 ],
 "metadata": {
  "kernelspec": {
   "display_name": "Python 3",
   "language": "python",
   "name": "python3"
  },
  "language_info": {
   "codemirror_mode": {
    "name": "ipython",
    "version": 3
   },
   "file_extension": ".py",
   "mimetype": "text/x-python",
   "name": "python",
   "nbconvert_exporter": "python",
   "pygments_lexer": "ipython3",
   "version": "3.7.4"
  }
 },
 "nbformat": 4,
 "nbformat_minor": 2
}
