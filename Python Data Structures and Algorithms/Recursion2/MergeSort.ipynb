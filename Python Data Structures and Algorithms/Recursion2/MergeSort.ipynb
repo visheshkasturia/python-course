{
 "cells": [
  {
   "cell_type": "code",
   "execution_count": 38,
   "metadata": {},
   "outputs": [
    {
     "name": "stdout",
     "output_type": "stream",
     "text": [
      "4\n",
      "9 8 7 6 5 4 3 2 1 0\n",
      "0 1 2 3 4 5 6 7 8 9 "
     ]
    }
   ],
   "source": [
    "def mergeSort(li,si,ei):\n",
    "    if si<ei:\n",
    "        mid=(si+ei)//2\n",
    "        mergeSort(li,si,mid)\n",
    "        mergeSort(li,mid+1,ei)\n",
    "        merge(li,si,ei,mid)\n",
    "\n",
    "def merge(li,si,ei,mid):\n",
    "    li1=[li[i] for i in range(si,mid+1)]\n",
    "    li2=[li[j] for j in range(mid+1,ei+1)]\n",
    "    i=0\n",
    "    j=0\n",
    "    k=si\n",
    "    while i<len(li1) and j<(len(li2)):\n",
    "        if li1[i]<=li2[j]:\n",
    "            li[k]=li1[i]\n",
    "            i+=1\n",
    "            k+=1\n",
    "        else:\n",
    "            li[k]=li2[j]\n",
    "            j+=1\n",
    "            k+=1\n",
    "    while i<len(li1):\n",
    "        li[k]=li1[i]\n",
    "        i+=1\n",
    "        k+=1\n",
    "    while j<len(li2):\n",
    "        li[k]=li2[j]\n",
    "        j+=1\n",
    "        k+=1\n",
    "\n",
    "n=int(input())\n",
    "li=[int(x) for x in input().split()]\n",
    "mergeSort(li,0,len(li)-1)\n",
    "for i in range(len(li)):\n",
    "    print(li[i],end=\" \")"
   ]
  },
  {
   "cell_type": "code",
   "execution_count": null,
   "metadata": {},
   "outputs": [],
   "source": []
  }
 ],
 "metadata": {
  "kernelspec": {
   "display_name": "Python 3",
   "language": "python",
   "name": "python3"
  },
  "language_info": {
   "codemirror_mode": {
    "name": "ipython",
    "version": 3
   },
   "file_extension": ".py",
   "mimetype": "text/x-python",
   "name": "python",
   "nbconvert_exporter": "python",
   "pygments_lexer": "ipython3",
   "version": "3.7.4"
  }
 },
 "nbformat": 4,
 "nbformat_minor": 2
}
