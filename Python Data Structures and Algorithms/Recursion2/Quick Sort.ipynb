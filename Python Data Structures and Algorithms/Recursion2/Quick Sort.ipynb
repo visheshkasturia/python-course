{
 "cells": [
  {
   "cell_type": "code",
   "execution_count": 25,
   "metadata": {},
   "outputs": [
    {
     "name": "stdout",
     "output_type": "stream",
     "text": [
      "5\n",
      "9 8 7 6 5\n",
      "5 6 7 8 9 "
     ]
    }
   ],
   "source": [
    "def partition(li,si,ei):\n",
    "    pivot=li[ei]\n",
    "    i=si-1\n",
    "    for j in range(si,ei):\n",
    "        if li[j]<pivot:\n",
    "            i=i+1\n",
    "            li[i],li[j]=li[j],li[i]\n",
    "    li[ei],li[i+1]=li[i+1],li[ei]\n",
    "    return i+1\n",
    "\n",
    "def quickSort(li,si,ei):\n",
    "    if si<ei:\n",
    "        i=partition(li,si,ei)\n",
    "        quickSort(li,si,i-1)\n",
    "        quickSort(li,i+1,ei)\n",
    "\n",
    "n=int(input())\n",
    "li=[int(x) for x in input().split()]\n",
    "quickSort(li,0,len(li)-1)\n",
    "for i in range(len(li)):\n",
    "    print(li[i],end=\" \")\n",
    "\n",
    "    \n",
    "    "
   ]
  },
  {
   "cell_type": "code",
   "execution_count": null,
   "metadata": {},
   "outputs": [],
   "source": []
  }
 ],
 "metadata": {
  "kernelspec": {
   "display_name": "Python 3",
   "language": "python",
   "name": "python3"
  },
  "language_info": {
   "codemirror_mode": {
    "name": "ipython",
    "version": 3
   },
   "file_extension": ".py",
   "mimetype": "text/x-python",
   "name": "python",
   "nbconvert_exporter": "python",
   "pygments_lexer": "ipython3",
   "version": "3.7.4"
  }
 },
 "nbformat": 4,
 "nbformat_minor": 2
}
