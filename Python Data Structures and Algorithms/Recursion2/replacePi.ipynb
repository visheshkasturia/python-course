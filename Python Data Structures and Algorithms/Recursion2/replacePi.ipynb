{
 "cells": [
  {
   "cell_type": "code",
   "execution_count": 3,
   "metadata": {},
   "outputs": [
    {
     "name": "stdout",
     "output_type": "stream",
     "text": [
      "aksd3.143.143.14\n"
     ]
    }
   ],
   "source": [
    "def replacePi(s):\n",
    "    if len(s)==0 or len(s)==1:\n",
    "        return s\n",
    "    if s[0]==\"p\" and s[1]==\"i\":\n",
    "        smallOutput=\"3.14\"+replacePi(s[2:])\n",
    "        return smallOutput\n",
    "    else:\n",
    "        smallOutput=replacePi(s[1:])\n",
    "        return s[0]+smallOutput\n",
    "\n",
    "s=\"aksdpi3.14pi\"\n",
    "print(replacePi(s))"
   ]
  }
 ],
 "metadata": {
  "kernelspec": {
   "display_name": "Python 3",
   "language": "python",
   "name": "python3"
  },
  "language_info": {
   "codemirror_mode": {
    "name": "ipython",
    "version": 3
   },
   "file_extension": ".py",
   "mimetype": "text/x-python",
   "name": "python",
   "nbconvert_exporter": "python",
   "pygments_lexer": "ipython3",
   "version": "3.7.4"
  }
 },
 "nbformat": 4,
 "nbformat_minor": 2
}
