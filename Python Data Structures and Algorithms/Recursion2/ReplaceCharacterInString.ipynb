{
 "cells": [
  {
   "cell_type": "code",
   "execution_count": 10,
   "metadata": {},
   "outputs": [
    {
     "name": "stdout",
     "output_type": "stream",
     "text": [
      "cbbcbcbcbcbcbcbbbcbcb\n"
     ]
    }
   ],
   "source": [
    "def replaceChar(s,ch1,ch2):\n",
    "    if len(s)==0:\n",
    "        return s\n",
    "    \n",
    "    if s[0]==ch1:\n",
    "        return ch2 + replaceChar(s[1:],ch1,ch2)\n",
    "    \n",
    "    return s[0]+ replaceChar(s[1:],ch1,ch2)\n",
    "\n",
    "s=\"abbababababababbbabab\"\n",
    "print(replaceChar(s,'a','c'))"
   ]
  }
 ],
 "metadata": {
  "kernelspec": {
   "display_name": "Python 3",
   "language": "python",
   "name": "python3"
  },
  "language_info": {
   "codemirror_mode": {
    "name": "ipython",
    "version": 3
   },
   "file_extension": ".py",
   "mimetype": "text/x-python",
   "name": "python",
   "nbconvert_exporter": "python",
   "pygments_lexer": "ipython3",
   "version": "3.7.4"
  }
 },
 "nbformat": 4,
 "nbformat_minor": 2
}
