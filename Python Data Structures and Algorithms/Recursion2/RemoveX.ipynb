{
 "cells": [
  {
   "cell_type": "code",
   "execution_count": 1,
   "metadata": {},
   "outputs": [
    {
     "name": "stdout",
     "output_type": "stream",
     "text": [
      "axaxaxafasfxxxagadf\n",
      "aaaafasfagadf\n"
     ]
    }
   ],
   "source": [
    "def removeX(string): \n",
    "    if len(string)==0:\n",
    "        return string\n",
    "    \n",
    "    if string[0]==\"x\":\n",
    "        return removeX(string[1:])\n",
    "    \n",
    "    return string[0] + removeX(string[1:])\n",
    "\n",
    "# Main\n",
    "string = input()\n",
    "print(removeX(string))\n"
   ]
  }
 ],
 "metadata": {
  "kernelspec": {
   "display_name": "Python 3",
   "language": "python",
   "name": "python3"
  },
  "language_info": {
   "codemirror_mode": {
    "name": "ipython",
    "version": 3
   },
   "file_extension": ".py",
   "mimetype": "text/x-python",
   "name": "python",
   "nbconvert_exporter": "python",
   "pygments_lexer": "ipython3",
   "version": "3.7.4"
  }
 },
 "nbformat": 4,
 "nbformat_minor": 2
}
