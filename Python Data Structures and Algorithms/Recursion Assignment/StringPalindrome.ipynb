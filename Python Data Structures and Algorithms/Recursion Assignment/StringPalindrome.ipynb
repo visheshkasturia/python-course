{
 "cells": [
  {
   "cell_type": "code",
   "execution_count": 47,
   "metadata": {},
   "outputs": [
    {
     "name": "stdout",
     "output_type": "stream",
     "text": [
      "abccba\n",
      "bccb\n",
      "cc\n",
      "True\n"
     ]
    }
   ],
   "source": [
    "def checkPalindrome(str):\n",
    "    print(str)\n",
    "    if len(str)==1:\n",
    "        return True\n",
    "    if len(str)==2:\n",
    "        return str[0]==str[-1]\n",
    "    return str[0]==str[-1] and checkPalindrome(str[1:len(str)-1])\n",
    "\n",
    "print(checkPalindrome(\"abccba\"))"
   ]
  },
  {
   "cell_type": "code",
   "execution_count": 35,
   "metadata": {},
   "outputs": [
    {
     "data": {
      "text/plain": [
       "False"
      ]
     },
     "execution_count": 35,
     "metadata": {},
     "output_type": "execute_result"
    }
   ],
   "source": [
    "False and True"
   ]
  }
 ],
 "metadata": {
  "kernelspec": {
   "display_name": "Python 3",
   "language": "python",
   "name": "python3"
  },
  "language_info": {
   "codemirror_mode": {
    "name": "ipython",
    "version": 3
   },
   "file_extension": ".py",
   "mimetype": "text/x-python",
   "name": "python",
   "nbconvert_exporter": "python",
   "pygments_lexer": "ipython3",
   "version": "3.7.4"
  }
 },
 "nbformat": 4,
 "nbformat_minor": 2
}
