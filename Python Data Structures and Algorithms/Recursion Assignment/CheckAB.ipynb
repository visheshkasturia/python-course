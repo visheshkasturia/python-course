{
 "cells": [
  {
   "cell_type": "code",
   "execution_count": 24,
   "metadata": {},
   "outputs": [
    {
     "name": "stdout",
     "output_type": "stream",
     "text": [
      "False\n"
     ]
    }
   ],
   "source": [
    "def checkAB(s):\n",
    "    if len(s)==0:\n",
    "        return True\n",
    "    if s[0]=='a':\n",
    "        if len(s)!=1:\n",
    "            if s[1]=='b':\n",
    "                if (len(s)==2):\n",
    "                    return False\n",
    "                elif s[2]==\"b\":\n",
    "                    return True and checkAB(s[3:])\n",
    "        return True and checkAB(s[1:])\n",
    "    return False\n",
    "\n",
    "print(checkAB(\"bba\"))"
   ]
  }
 ],
 "metadata": {
  "kernelspec": {
   "display_name": "Python 3",
   "language": "python",
   "name": "python3"
  },
  "language_info": {
   "codemirror_mode": {
    "name": "ipython",
    "version": 3
   },
   "file_extension": ".py",
   "mimetype": "text/x-python",
   "name": "python",
   "nbconvert_exporter": "python",
   "pygments_lexer": "ipython3",
   "version": "3.7.4"
  }
 },
 "nbformat": 4,
 "nbformat_minor": 2
}
