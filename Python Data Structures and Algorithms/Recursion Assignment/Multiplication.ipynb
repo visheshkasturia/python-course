{
 "cells": [
  {
   "cell_type": "code",
   "execution_count": 11,
   "metadata": {},
   "outputs": [
    {
     "name": "stdout",
     "output_type": "stream",
     "text": [
      "100000\n"
     ]
    }
   ],
   "source": [
    "def multi(a,b):\n",
    "    if b==0:\n",
    "        return 0\n",
    "    elif b>0:\n",
    "        return a + multi(a,b-1)\n",
    "    else:\n",
    "        return -a + multi(a,b+1) \n",
    "import sys\n",
    "sys.setrecursionlimit(3000)\n",
    "print(multi(100,1000))"
   ]
  }
 ],
 "metadata": {
  "kernelspec": {
   "display_name": "Python 3",
   "language": "python",
   "name": "python3"
  },
  "language_info": {
   "codemirror_mode": {
    "name": "ipython",
    "version": 3
   },
   "file_extension": ".py",
   "mimetype": "text/x-python",
   "name": "python",
   "nbconvert_exporter": "python",
   "pygments_lexer": "ipython3",
   "version": "3.7.4"
  }
 },
 "nbformat": 4,
 "nbformat_minor": 2
}
