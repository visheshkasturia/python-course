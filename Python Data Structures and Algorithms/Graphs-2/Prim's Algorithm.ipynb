{
 "cells": [
  {
   "cell_type": "code",
   "execution_count": 23,
   "metadata": {},
   "outputs": [
    {
     "name": "stdout",
     "output_type": "stream",
     "text": [
      "4 4\n",
      "0 1 3\n",
      "0 3 5\n",
      "1 2 1\n",
      "2 3 8\n",
      "\n",
      "0 1 3\n",
      "1 2 1\n",
      "0 3 5\n"
     ]
    }
   ],
   "source": [
    "import sys\n",
    "\n",
    "class Graph:\n",
    "    def __init__(self,nVertices):\n",
    "        self.nVertices=nVertices\n",
    "        self.adjMatrix=[[sys.maxsize for j in range(self.nVertices)] for i in range(self.nVertices)]\n",
    "    \n",
    "    def addEdge(self,src,dest,wt):\n",
    "        self.adjMatrix[src][dest]=wt\n",
    "        self.adjMatrix[dest][src]=wt\n",
    "    \n",
    "        \n",
    "    def prims(self,vertices):\n",
    "        vertices[0]=[-1,0,False]\n",
    "        count=0\n",
    "        output=[]\n",
    "        while count<self.nVertices-1:\n",
    "            minWeight=sys.maxsize\n",
    "            minVertex=-2\n",
    "            for i in range(self.nVertices):\n",
    "                if vertices[i][2]==False:\n",
    "                    if vertices[i][1]<minWeight:\n",
    "                        minWeight=vertices[i][1]\n",
    "                        minVertex=i\n",
    "                        \n",
    "            \n",
    "            vertices[minVertex][2]=True\n",
    "            for j in range(self.nVertices):\n",
    "                if self.adjMatrix[minVertex][j]!=sys.maxsize and vertices[j][2] is False and vertices[j][1]>self.adjMatrix[minVertex][j]:\n",
    "                    vertices[j][1]=self.adjMatrix[minVertex][j]\n",
    "                    vertices[j][0]=minVertex\n",
    "            \n",
    "            count+=1\n",
    "        \n",
    "        for k in range(1,self.nVertices):\n",
    "            edge=[k,vertices[k][0],vertices[k][1]]\n",
    "            output.append(edge)\n",
    "        \n",
    "        return output\n",
    "\n",
    "\n",
    "\n",
    "li=[int(x) for x in input().strip().split()]\n",
    "nVertices=li[0]\n",
    "nEdges=li[1]\n",
    "g=Graph(nVertices)\n",
    "vertices={}\n",
    "for i in range(nVertices):\n",
    "    vertices[i]=[None,sys.maxsize,False]\n",
    "\n",
    "for i in range(nEdges):\n",
    "    s=[int(x) for x in input().strip().split()]\n",
    "    src=s[0]\n",
    "    dest=s[1]\n",
    "    wt=s[2]\n",
    "    g.addEdge(src,dest,wt)\n",
    "\n",
    "output=g.prims(vertices)\n",
    "print()\n",
    "for edge in output:\n",
    "    if edge[0]<=edge[1]:\n",
    "        print(str(edge[0])+ \" \"+ str(edge[1])+ \" \"+ str(edge[2]))\n",
    "    else:\n",
    "        print(str(edge[1])+ \" \"+ str(edge[0])+ \" \"+ str(edge[2]))"
   ]
  },
  {
   "cell_type": "code",
   "execution_count": null,
   "metadata": {},
   "outputs": [],
   "source": [
    "5 7\n",
    "0 1 4\n",
    "0 2 8\n",
    "1 2 2\n",
    "1 3 6\n",
    "2 3 3\n",
    "2 4 9\n",
    "3 4 5\n"
   ]
  }
 ],
 "metadata": {
  "kernelspec": {
   "display_name": "Python 3",
   "language": "python",
   "name": "python3"
  },
  "language_info": {
   "codemirror_mode": {
    "name": "ipython",
    "version": 3
   },
   "file_extension": ".py",
   "mimetype": "text/x-python",
   "name": "python",
   "nbconvert_exporter": "python",
   "pygments_lexer": "ipython3",
   "version": "3.7.4"
  }
 },
 "nbformat": 4,
 "nbformat_minor": 2
}
