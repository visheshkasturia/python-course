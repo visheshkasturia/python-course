{
 "cells": [
  {
   "cell_type": "code",
   "execution_count": 32,
   "metadata": {},
   "outputs": [
    {
     "name": "stdout",
     "output_type": "stream",
     "text": [
      "4 4\n",
      "0 1 3\n",
      "0 3 5\n",
      "1 2 1\n",
      "2 3 8\n",
      "0 1 3\n",
      "1 2 1\n",
      "0 3 5\n"
     ]
    }
   ],
   "source": [
    "import sys\n",
    "class Graph:\n",
    "    def __init__(self,nVertices):\n",
    "        self.nVertices=nVertices\n",
    "        self.adjMatrix=[[0 for j in range(self.nVertices)] for i in range(self.nVertices)]\n",
    "    \n",
    "    \n",
    "    def addEdge(self,v1,v2,wt):\n",
    "        self.adjMatrix[v1][v2]=wt\n",
    "        self.adjMatrix[v2][v1]=wt\n",
    "    \n",
    "    \n",
    "    def __str__(self):\n",
    "        return str(self.adjMatrix)\n",
    "    \n",
    "    def __get_minVertex(self,visited,weight):\n",
    "        min_vertex=-1\n",
    "        for i in range(self.nVertices):\n",
    "            if(visited[i] is False and (min_vertex==-1 or weight[min_vertex] > weight[i])):\n",
    "                min_vertex=i\n",
    "        return min_vertex\n",
    "        \n",
    "    def prims(self):\n",
    "        visited=[False for i in range(self.nVertices)]\n",
    "        parent=[-1 for i in range(self.nVertices)]\n",
    "        weight=[sys.maxsize for i in range(self.nVertices)]\n",
    "        \n",
    "        weight[0]=0\n",
    "        for i in range(self.nVertices-1):\n",
    "            min_vertex=self.__get_minVertex(visited,weight)\n",
    "            visited[min_vertex]=True\n",
    "            \n",
    "            for j in range(self.nVertices):\n",
    "                if self.adjMatrix[min_vertex][j]>0 and visited[j] is False:\n",
    "                    if weight[j]>self.adjMatrix[min_vertex][j]:\n",
    "                        weight[j]=self.adjMatrix[min_vertex][j]\n",
    "                        parent[j]=min_vertex\n",
    "        \n",
    "        for i in range(1,self.nVertices):\n",
    "            if i<parent[i]:\n",
    "                print(str(i)+ \" \"+ str(parent[i])+ \" \"+ str(weight[i]))\n",
    "            else:\n",
    "                 print(str(parent[i])+ \" \"+ str(i)+ \" \"+ str(weight[i]))\n",
    "        \n",
    "        return\n",
    "    \n",
    "li=[int(x) for x in input().strip().split()]\n",
    "nVertices=li[0]\n",
    "nEdges=li[1]\n",
    "g=Graph(nVertices)\n",
    "for i in range(nEdges):\n",
    "    s=[int(x) for x in input().strip().split()]\n",
    "    src=s[0]\n",
    "    dest=s[1]\n",
    "    wt=s[2]\n",
    "    g.addEdge(src,dest,wt)\n",
    "\n",
    "g.prims()\n"
   ]
  },
  {
   "cell_type": "code",
   "execution_count": null,
   "metadata": {},
   "outputs": [],
   "source": [
    "4 4\n",
    "0 1 3\n",
    "0 3 5\n",
    "1 2 1\n",
    "2 3 8"
   ]
  }
 ],
 "metadata": {
  "kernelspec": {
   "display_name": "Python 3",
   "language": "python",
   "name": "python3"
  },
  "language_info": {
   "codemirror_mode": {
    "name": "ipython",
    "version": 3
   },
   "file_extension": ".py",
   "mimetype": "text/x-python",
   "name": "python",
   "nbconvert_exporter": "python",
   "pygments_lexer": "ipython3",
   "version": "3.7.4"
  }
 },
 "nbformat": 4,
 "nbformat_minor": 2
}
