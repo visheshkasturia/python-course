{
 "cells": [
  {
   "cell_type": "code",
   "execution_count": 5,
   "metadata": {},
   "outputs": [
    {
     "name": "stdout",
     "output_type": "stream",
     "text": [
      "4\n",
      "4 4 4 4\n",
      "0\n",
      "4 4\n",
      "4 4\n",
      "4 4\n",
      "4 4\n",
      "4 4\n",
      "4 4\n"
     ]
    }
   ],
   "source": [
    "\n",
    "def printPairDiffK(l, k):\n",
    "    d={}\n",
    "    if k==0:\n",
    "        for i in l:\n",
    "            d[i]=d.get(i,0)+1\n",
    "        for i in d:\n",
    "            for j in range(d[i]*(d[i]-1)//2):\n",
    "                print(i,i)\n",
    "    else:\n",
    "        for i in l:\n",
    "            d[i]=d.get(i,0)+1\n",
    "            if i+k in d:\n",
    "                if i+k>i:\n",
    "                    for j in range(d[i+k]):\n",
    "                        print(i,i+k)\n",
    "                else:\n",
    "                    for j in range(d[i+k]):\n",
    "                        print(i+k,i)\n",
    "            if i-k in d:\n",
    "                if i-k>i:\n",
    "                    for j in range(d[i-k]):\n",
    "                        print(i,i-k)\n",
    "                else:\n",
    "                    for j in range(d[i-k]):\n",
    "                        print(i-k,i)\n",
    "\n",
    "\n",
    "n=int(input())\n",
    "l=list(int(i) for i in input().strip().split(' '))\n",
    "k=int(input())\n",
    "printPairDiffK(l, k)"
   ]
  },
  {
   "cell_type": "code",
   "execution_count": null,
   "metadata": {},
   "outputs": [],
   "source": [
    "9\n",
    "2 6 6 2 9 5 1 3 5\n",
    "4"
   ]
  }
 ],
 "metadata": {
  "kernelspec": {
   "display_name": "Python 3",
   "language": "python",
   "name": "python3"
  },
  "language_info": {
   "codemirror_mode": {
    "name": "ipython",
    "version": 3
   },
   "file_extension": ".py",
   "mimetype": "text/x-python",
   "name": "python",
   "nbconvert_exporter": "python",
   "pygments_lexer": "ipython3",
   "version": "3.7.4"
  }
 },
 "nbformat": 4,
 "nbformat_minor": 2
}
