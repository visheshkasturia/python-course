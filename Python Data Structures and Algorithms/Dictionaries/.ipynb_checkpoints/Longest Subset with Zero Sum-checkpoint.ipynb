{
 "cells": [
  {
   "cell_type": "code",
   "execution_count": 8,
   "metadata": {},
   "outputs": [
    {
     "name": "stdout",
     "output_type": "stream",
     "text": [
      "10\n",
      "95 -97 -387 -435 -5 -70 897 127 23 284\n",
      "{95: 0, -2: 1, -389: 2, -824: 3, -829: 4, -899: 5, 125: 7, 148: 8, 432: 9}\n",
      "5\n"
     ]
    }
   ],
   "source": [
    "\n",
    "def subsetSum(l):\n",
    "    d={}\n",
    "    longest_length=0\n",
    "    cumsum=0\n",
    "    for i in range(len(l)):\n",
    "        cumsum=cumsum+l[i]\n",
    "        if cumsum==0:\n",
    "            local_length=i-0+1\n",
    "            if local_length>longest_length:\n",
    "                longest_length=local_length\n",
    "        elif cumsum in d:\n",
    "            local_length=i-d[cumsum]\n",
    "            if local_length>longest_length:\n",
    "                longest_length=local_length\n",
    "        else:\n",
    "            d[cumsum]=i\n",
    "#    print(d)\n",
    "    return(longest_length)\n",
    "\n",
    "n=int(input())\n",
    "l=list(int(i) for i in input().strip().split(' '))\n",
    "finalLen= subsetSum(l)\n",
    "print(finalLen)"
   ]
  },
  {
   "cell_type": "code",
   "execution_count": null,
   "metadata": {},
   "outputs": [],
   "source": [
    "10\n",
    "95 -97 -387 -435 -5 -70 897 127 23 284\n",
    "\n",
    "6 1 5 -8 -4 2"
   ]
  }
 ],
 "metadata": {
  "kernelspec": {
   "display_name": "Python 3",
   "language": "python",
   "name": "python3"
  },
  "language_info": {
   "codemirror_mode": {
    "name": "ipython",
    "version": 3
   },
   "file_extension": ".py",
   "mimetype": "text/x-python",
   "name": "python",
   "nbconvert_exporter": "python",
   "pygments_lexer": "ipython3",
   "version": "3.7.4"
  }
 },
 "nbformat": 4,
 "nbformat_minor": 2
}
