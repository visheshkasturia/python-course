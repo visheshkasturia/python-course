{
 "cells": [
  {
   "cell_type": "code",
   "execution_count": 38,
   "metadata": {},
   "outputs": [
    {
     "name": "stdout",
     "output_type": "stream",
     "text": [
      "7\n",
      "3 7 2 1 9 8 1\n",
      "7\n",
      "8\n",
      "9\n"
     ]
    }
   ],
   "source": [
    "def linearSearch(l,ele):\n",
    "    for i in range(len(l)):\n",
    "        if l[i]==ele:\n",
    "            return i\n",
    "\n",
    "def longestConsecutiveSequence(l):\n",
    "    dictionary={}\n",
    "    for ele in l:\n",
    "        dictionary[ele]=True\n",
    "    \n",
    "    longest_sequence_size=-1\n",
    "    start_sequence=None\n",
    "    for ele in dictionary:\n",
    "        if dictionary[ele]==True:\n",
    "            dictionary[ele]=False\n",
    "            countp=1\n",
    "            start=ele\n",
    "            while dictionary.get(ele+countp,False):\n",
    "                dictionary[ele+countp]=False\n",
    "                countp+=1\n",
    "            countn=1\n",
    "            while dictionary.get(ele-countn,False):\n",
    "                dictionary[ele-countn]=False\n",
    "                start=ele-countn\n",
    "                countn+=1\n",
    "            \n",
    "            length=countp+countn-1\n",
    "            \n",
    "            if length>longest_sequence_size:\n",
    "                longest_sequence_size=length\n",
    "                start_sequence=start\n",
    "            elif length==longest_sequence_size:\n",
    "                x1=linearSearch(l,start_sequence)\n",
    "                x2=linearSearch(l,start)\n",
    "                if x2<x1:\n",
    "                    start_sequence=start\n",
    "    \n",
    "    li=[x+start_sequence for x in range(longest_sequence_size)]\n",
    "    return li            \n",
    "\n",
    "\n",
    "n=int(input())\n",
    "l=list(int(i) for i in input().strip().split(' '))\n",
    "final = longestConsecutiveSequence(l)\n",
    "for num in final:\n",
    "     print(num)"
   ]
  }
 ],
 "metadata": {
  "kernelspec": {
   "display_name": "Python 3",
   "language": "python",
   "name": "python3"
  },
  "language_info": {
   "codemirror_mode": {
    "name": "ipython",
    "version": 3
   },
   "file_extension": ".py",
   "mimetype": "text/x-python",
   "name": "python",
   "nbconvert_exporter": "python",
   "pygments_lexer": "ipython3",
   "version": "3.7.4"
  }
 },
 "nbformat": 4,
 "nbformat_minor": 2
}
