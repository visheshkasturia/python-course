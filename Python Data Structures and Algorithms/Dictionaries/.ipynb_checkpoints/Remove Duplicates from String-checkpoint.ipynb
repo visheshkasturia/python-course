{
 "cells": [
  {
   "cell_type": "code",
   "execution_count": 1,
   "metadata": {},
   "outputs": [
    {
     "name": "stdout",
     "output_type": "stream",
     "text": [
      "ababacd\n",
      "abcd\n"
     ]
    }
   ],
   "source": [
    "def uniqueChars(string):\n",
    "    d={}\n",
    "    s=\"\"\n",
    "    for char in string:\n",
    "        if char not in d:\n",
    "                s=s+char\n",
    "        d[char]=d.get(char,0)+1\n",
    "    \n",
    "    return s\n",
    "\n",
    "# Main\n",
    "string = input()\n",
    "print(uniqueChars(string))\n"
   ]
  }
 ],
 "metadata": {
  "kernelspec": {
   "display_name": "Python 3",
   "language": "python",
   "name": "python3"
  },
  "language_info": {
   "codemirror_mode": {
    "name": "ipython",
    "version": 3
   },
   "file_extension": ".py",
   "mimetype": "text/x-python",
   "name": "python",
   "nbconvert_exporter": "python",
   "pygments_lexer": "ipython3",
   "version": "3.7.4"
  }
 },
 "nbformat": 4,
 "nbformat_minor": 2
}
