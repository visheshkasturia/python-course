{
 "cells": [
  {
   "cell_type": "code",
   "execution_count": 7,
   "metadata": {},
   "outputs": [],
   "source": [
    "class MapNode:\n",
    "    def __init__(self,key,val):\n",
    "        self.key=key\n",
    "        self.value=val\n",
    "        self.next=None\n",
    "\n",
    "class Map:\n",
    "    def __init__(self):\n",
    "        self.buckets=[]\n",
    "        self.bucketSize=10\n",
    "        self.count=0\n",
    "        self.buckets=[None for i in range(self.bucketSize)]\n",
    "        \n",
    "    def getBucketIndex(self,hc):\n",
    "        return (abs(hc)%self.bucketSize)\n",
    "    \n",
    "    \n",
    "    def getSize(self):\n",
    "        return self.count\n",
    "    \n",
    "    def getValue(self,key):\n",
    "        hc=hash(key)\n",
    "        index=self.getBucketIndex(hc)\n",
    "        head=self.buckets[index]\n",
    "        while head is not None:\n",
    "            if head.key==key:\n",
    "                return head.value\n",
    "            head=head.next\n",
    "        \n",
    "        return \"Key not present\"\n",
    "    \n",
    "    \n",
    "    def insert(self,key,value):\n",
    "        hc=hash(key)\n",
    "        index=self.getBucketIndex(hc)\n",
    "        head=self.buckets[index]\n",
    "        while head is not None:\n",
    "            if head.key==key:\n",
    "                head.value=value\n",
    "                return\n",
    "            head=head.next\n",
    "        head=self.buckets[index]\n",
    "        newNode=MapNode(key,value)\n",
    "        newNode.next=head\n",
    "        self.buckets[index]=newNode\n",
    "        self.count+=1\n",
    "        \n",
    "    \n",
    "    \n",
    "    def remove(self,key):\n",
    "        hc=hash(key)\n",
    "        index=self.getBucketIndex(hc)\n",
    "        head=self.buckets[index]\n",
    "        prev=None\n",
    "        while head is not None:\n",
    "            if head.key==key:\n",
    "                if prev is None:\n",
    "                    self.buckets[index]=head.next\n",
    "                    head.next=None\n",
    "                else:    \n",
    "                    prev.next=head.next\n",
    "                    head.next=None\n",
    "                self.count-=1\n",
    "                return \"{}:{} removed\".format(head.key,head.value)\n",
    "            head=head.next\n",
    "        \n",
    "        return \"Key Not Present\""
   ]
  },
  {
   "cell_type": "code",
   "execution_count": 8,
   "metadata": {},
   "outputs": [
    {
     "name": "stdout",
     "output_type": "stream",
     "text": [
      "1\n",
      "7\n",
      "2\n",
      "2\n",
      "10\n",
      "John:2 removed\n",
      "1\n",
      "Key not present\n"
     ]
    }
   ],
   "source": [
    "m=Map()\n",
    "m.insert(\"Vishesh\",7)\n",
    "print(m.getSize())\n",
    "print(m.getValue(\"Vishesh\"))\n",
    "m.insert(\"John\",2)\n",
    "print(m.getSize())\n",
    "m.insert(\"Vishesh\",10)\n",
    "print(m.getSize())\n",
    "print(m.getValue(\"Vishesh\"))\n",
    "print(m.remove(\"John\"))\n",
    "print(m.getSize())\n",
    "print(m.getValue(\"John\"))"
   ]
  }
 ],
 "metadata": {
  "kernelspec": {
   "display_name": "Python 3",
   "language": "python",
   "name": "python3"
  },
  "language_info": {
   "codemirror_mode": {
    "name": "ipython",
    "version": 3
   },
   "file_extension": ".py",
   "mimetype": "text/x-python",
   "name": "python",
   "nbconvert_exporter": "python",
   "pygments_lexer": "ipython3",
   "version": "3.7.4"
  }
 },
 "nbformat": 4,
 "nbformat_minor": 2
}
