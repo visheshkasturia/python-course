{
 "cells": [
  {
   "cell_type": "code",
   "execution_count": 1,
   "metadata": {},
   "outputs": [
    {
     "name": "stdout",
     "output_type": "stream",
     "text": [
      "4 2\n",
      "0 1\n",
      "2 3\n",
      "0 1 \n",
      "2 3 \n"
     ]
    }
   ],
   "source": [
    "class Graph:\n",
    "    def __init__(self,nVertices):\n",
    "        self.nVertices=nVertices\n",
    "        self.adjMatrix=[[0 for j in range(self.nVertices)] for i in range(self.nVertices)]\n",
    "    \n",
    "    def addEdge(self,v1,v2):\n",
    "        self.adjMatrix[v1][v2]=1\n",
    "        self.adjMatrix[v2][v1]=1\n",
    "        return\n",
    "    \n",
    "    def removeEdge(self,v1,v2):\n",
    "        if self.containsEdge(v1,v2) is False:\n",
    "            return\n",
    "        \n",
    "        self.adjMatrix[v1][v2]=0\n",
    "        self.adjMatrix[v2][v1]=0\n",
    "        return\n",
    "    \n",
    "    def containsEdge(self,v1,v2):\n",
    "        if self.adjMatrix[v1][v2]==1:\n",
    "            return True\n",
    "        else:\n",
    "            return False\n",
    "    \n",
    "    \n",
    "    def connectedComponentsDFSHelper(self,sv,visited,component):\n",
    "        visited[sv]=True\n",
    "        component.append(sv)\n",
    "        for i in range(len(visited)):\n",
    "            if self.adjMatrix[sv][i]>0 and visited[i] is False:\n",
    "                self.connectedComponentsDFSHelper(i,visited,component)\n",
    "        \n",
    "        return\n",
    "        \n",
    "    def connectedComponents(self):\n",
    "        visited=[False for i in range(self.nVertices)]\n",
    "        solution=[]\n",
    "        for i in range(len(visited)):\n",
    "            component=[]\n",
    "            if visited[i] is False:\n",
    "                self.connectedComponentsDFSHelper(i,visited,component)\n",
    "                solution.append(component)\n",
    "        return solution\n",
    "    \n",
    "\n",
    "s=input().strip().split()\n",
    "v,e=int(s[0]),int(s[1])\n",
    "g=Graph(v)\n",
    "for i in range(e):\n",
    "    s1=input().strip().split()\n",
    "    g.addEdge(int(s1[0]),int(s1[1]))\n",
    "\n",
    "solution=g.connectedComponents()\n",
    "for component in solution:\n",
    "    for i in component:\n",
    "        print(i,end=\" \")\n",
    "    print()\n",
    "        "
   ]
  }
 ],
 "metadata": {
  "kernelspec": {
   "display_name": "Python 3",
   "language": "python",
   "name": "python3"
  },
  "language_info": {
   "codemirror_mode": {
    "name": "ipython",
    "version": 3
   },
   "file_extension": ".py",
   "mimetype": "text/x-python",
   "name": "python",
   "nbconvert_exporter": "python",
   "pygments_lexer": "ipython3",
   "version": "3.7.4"
  }
 },
 "nbformat": 4,
 "nbformat_minor": 2
}
