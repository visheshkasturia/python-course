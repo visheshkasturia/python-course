{
 "cells": [
  {
   "cell_type": "code",
   "execution_count": 4,
   "metadata": {},
   "outputs": [
    {
     "data": {
      "text/plain": [
       "[6, 4, 2, 0]"
      ]
     },
     "execution_count": 4,
     "metadata": {},
     "output_type": "execute_result"
    }
   ],
   "source": [
    "class Graph:\n",
    "    def __init__(self,nVertices):\n",
    "        self.nVertices=nVertices\n",
    "        self.adjMatrix=[[0 for j in range(self.nVertices)] for i in range(self.nVertices)]\n",
    "    \n",
    "    def addEdge(self,v1,v2):\n",
    "        self.adjMatrix[v1][v2]=1\n",
    "        self.adjMatrix[v2][v1]=1\n",
    "        return\n",
    "    \n",
    "    def removeEdge(self,v1,v2):\n",
    "        if self.containsEdge(v1,v2) is False:\n",
    "            return\n",
    "        self.adjMatrix[v1][v2]=0\n",
    "        self.adjMatrix[v2][v1]=0\n",
    "        \n",
    "        return\n",
    "    \n",
    "    def containsEdge(self,v1,v2):\n",
    "        return True if self.adjMatrix[v1][v2]==1 else False\n",
    "    \n",
    "    \n",
    "    def getPathDFSHelper(self,sv,v2,visited):\n",
    "        \n",
    "        if self.adjMatrix[sv][v2]==1:\n",
    "            return [v2,sv]\n",
    "        \n",
    "        visited[sv]=True\n",
    "        for i in range(self.nVertices):\n",
    "            if self.adjMatrix[sv][i]>0 and visited[i] is False:\n",
    "                path=self.getPathDFSHelper(i,v2,visited)\n",
    "                if path is not None:\n",
    "                    path.append(sv)\n",
    "                    return path\n",
    "        \n",
    "        return None\n",
    "    \n",
    "    def getPathDFS(self,v1,v2):\n",
    "        visited=[False for i in range(self.nVertices)]\n",
    "        path= self.getPathDFSHelper(v1,v2,visited) \n",
    "        \n",
    "        return path\n",
    "\n",
    "g=Graph(7)\n",
    "g.addEdge(0,1)\n",
    "g.addEdge(1,5)\n",
    "g.addEdge(0,2)\n",
    "g.addEdge(2,4)\n",
    "g.addEdge(4,6)\n",
    "g.addEdge(0,3)\n",
    "g.addEdge(3,6)\n",
    "g.getPathDFS(0,6)"
   ]
  }
 ],
 "metadata": {
  "kernelspec": {
   "display_name": "Python 3",
   "language": "python",
   "name": "python3"
  },
  "language_info": {
   "codemirror_mode": {
    "name": "ipython",
    "version": 3
   },
   "file_extension": ".py",
   "mimetype": "text/x-python",
   "name": "python",
   "nbconvert_exporter": "python",
   "pygments_lexer": "ipython3",
   "version": "3.7.4"
  }
 },
 "nbformat": 4,
 "nbformat_minor": 2
}
