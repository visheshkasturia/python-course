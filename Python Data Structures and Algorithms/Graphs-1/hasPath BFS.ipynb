{
 "cells": [
  {
   "cell_type": "code",
   "execution_count": 1,
   "metadata": {},
   "outputs": [
    {
     "data": {
      "text/plain": [
       "True"
      ]
     },
     "execution_count": 1,
     "metadata": {},
     "output_type": "execute_result"
    }
   ],
   "source": [
    "import queue\n",
    "\n",
    "class Graph:\n",
    "    def __init__(self,nVertices):\n",
    "        self.nVertices=nVertices\n",
    "        self.adjMatrix=[[0 for j in range(nVertices)] for i in range(nVertices)]\n",
    "    \n",
    "    def addEdge(self,v1,v2):\n",
    "        self.adjMatrix[v1][v2]=1\n",
    "        self.adjMatrix[v2][v1]=1\n",
    "        return\n",
    "    \n",
    "    def removeEdge(self,v1,v2):\n",
    "        if self.containsEdge(v1,v2) is False:\n",
    "            return\n",
    "        self.adjMatrix[v1][v2]=0\n",
    "        self.adjMatrix[v2][v1]=0\n",
    "        return\n",
    "    \n",
    "    def containsEdge(self,v1,v2):\n",
    "        return True if self.adjMatrix[v1][v2]==1 else False\n",
    "    \n",
    "    def __str__(self):\n",
    "        return str(self.adjMatrix)    \n",
    "    \n",
    "    def hasPath(self,v1,v2):\n",
    "        q=queue.Queue()\n",
    "        visited=[False for i in range(self.nVertices)]\n",
    "        visited[v1]=True\n",
    "        q.put(v1)\n",
    "        \n",
    "        while not(q.empty()):\n",
    "            currV=q.get()\n",
    "            if self.adjMatrix[currV][v2]==1:\n",
    "                return True\n",
    "            \n",
    "            for i in range(self.nVertices):\n",
    "                if self.adjMatrix[currV][i]>0 and visited[i] is False:\n",
    "                    q.put(i)\n",
    "                    visited[i]=True\n",
    "        \n",
    "        return False\n",
    "    \n",
    "    \n",
    "        \n",
    "# s=input().split()\n",
    "# v,e=int(s[0]),int(s[1])\n",
    "# g=Graph(v)\n",
    "# for i in range(e):\n",
    "#     s1=input().split()\n",
    "#     g.addEdge(int(s1[0]),int(s1[1]))\n",
    "\n",
    "# g.bfs()\n",
    "\n",
    "g=Graph(4)\n",
    "g.addEdge(0,1)\n",
    "g.addEdge(0,3)\n",
    "g.addEdge(1,2)\n",
    "g.addEdge(2,3)\n",
    "g.hasPath(1,3)"
   ]
  }
 ],
 "metadata": {
  "kernelspec": {
   "display_name": "Python 3",
   "language": "python",
   "name": "python3"
  },
  "language_info": {
   "codemirror_mode": {
    "name": "ipython",
    "version": 3
   },
   "file_extension": ".py",
   "mimetype": "text/x-python",
   "name": "python",
   "nbconvert_exporter": "python",
   "pygments_lexer": "ipython3",
   "version": "3.7.4"
  }
 },
 "nbformat": 4,
 "nbformat_minor": 2
}
