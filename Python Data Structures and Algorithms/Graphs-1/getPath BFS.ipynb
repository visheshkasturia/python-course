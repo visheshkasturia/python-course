{
 "cells": [
  {
   "cell_type": "code",
   "execution_count": 5,
   "metadata": {},
   "outputs": [
    {
     "data": {
      "text/plain": [
       "[3, 6, 4, 6]"
      ]
     },
     "execution_count": 5,
     "metadata": {},
     "output_type": "execute_result"
    }
   ],
   "source": [
    "import queue\n",
    "class Graph:\n",
    "    def __init__(self,nVertices):\n",
    "        self.nVertices=nVertices\n",
    "        self.adjMatrix=[[0 for j in range(self.nVertices)] for i in range(self.nVertices)]\n",
    "    \n",
    "    def addEdge(self,v1,v2):\n",
    "        self.adjMatrix[v1][v2]=1\n",
    "        self.adjMatrix[v2][v1]=1\n",
    "        return\n",
    "    \n",
    "    def removeEdge(self,v1,v2):\n",
    "        if self.containsEdge(v1,v2) is False:\n",
    "            return\n",
    "        self.adjMatrix[v1][v2]=0\n",
    "        self.adjMatrix[v2][v1]=0\n",
    "        \n",
    "        return\n",
    "    \n",
    "    def containsEdge(self,v1,v2):\n",
    "        return True if self.adjMatrix[v1][v2]==1 else False\n",
    "    \n",
    "    \n",
    "    def getPathBFS(self,v1,v2):\n",
    "        visited=[False for i in range(self.nVertices)]\n",
    "        path=[]\n",
    "        d={}\n",
    "        q=queue.Queue()\n",
    "        q.put(v1)\n",
    "        visited[v1]=True\n",
    "        while not(q.empty()):\n",
    "            currV=q.get()\n",
    "            path.append(currV)\n",
    "            if self.adjMatrix[currV][v2]==1:\n",
    "                path.append(v2)\n",
    "                path.append(currV)\n",
    "                return path\n",
    "            else:    \n",
    "                for i in range(self.nVertices):\n",
    "                    if self.adjMatrix[currV][i]>0 and visited[i] is False:\n",
    "                        q.put(i)\n",
    "                        visited[i]=True\n",
    "        \n",
    "        return\n",
    "\n",
    "g=Graph(7)\n",
    "g.addEdge(0,1)\n",
    "g.addEdge(1,5)\n",
    "g.addEdge(0,2)\n",
    "g.addEdge(2,4)\n",
    "g.addEdge(4,6)\n",
    "g.addEdge(0,3)\n",
    "g.addEdge(3,6)\n",
    "g.getPathBFS(0,6)"
   ]
  }
 ],
 "metadata": {
  "kernelspec": {
   "display_name": "Python 3",
   "language": "python",
   "name": "python3"
  },
  "language_info": {
   "codemirror_mode": {
    "name": "ipython",
    "version": 3
   },
   "file_extension": ".py",
   "mimetype": "text/x-python",
   "name": "python",
   "nbconvert_exporter": "python",
   "pygments_lexer": "ipython3",
   "version": "3.7.4"
  }
 },
 "nbformat": 4,
 "nbformat_minor": 2
}
