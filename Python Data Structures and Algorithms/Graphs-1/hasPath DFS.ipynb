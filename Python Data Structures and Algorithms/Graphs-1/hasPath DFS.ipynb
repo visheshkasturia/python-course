{
 "cells": [
  {
   "cell_type": "code",
   "execution_count": 2,
   "metadata": {},
   "outputs": [
    {
     "data": {
      "text/plain": [
       "True"
      ]
     },
     "execution_count": 2,
     "metadata": {},
     "output_type": "execute_result"
    }
   ],
   "source": [
    "class Graph:\n",
    "    def __init__(self,nVertices):\n",
    "        self.nVertices=nVertices\n",
    "        self.adjMatrix=[[0 for j in range(nVertices)] for i in range(nVertices)]\n",
    "    \n",
    "    def addEdge(self,v1,v2):\n",
    "        self.adjMatrix[v1][v2]=1\n",
    "        self.adjMatrix[v2][v1]=1\n",
    "        return\n",
    "    \n",
    "    def removeEdge(self,v1,v2):\n",
    "        if self.containsEdge(v1,v2) is False:\n",
    "            return\n",
    "        self.adjMatrix[v1][v2]=0\n",
    "        self.adjMatrix[v2][v1]=0\n",
    "        return\n",
    "    \n",
    "    def containsEdge(self,v1,v2):\n",
    "        return True if self.adjMatrix[v1][v2]==1 else False\n",
    "    \n",
    "    def __str__(self):\n",
    "        return str(self.adjMatrix)\n",
    "    \n",
    "    \n",
    "    def hasPathHelper(self,sv,v2,visited):\n",
    "        \n",
    "        if self.adjMatrix[sv][v2] == 1:\n",
    "            return True\n",
    "        \n",
    "        visited[sv]=True\n",
    "        for i in range(self.nVertices):\n",
    "            if self.adjMatrix[sv][i]>0 and visited[i] is False:\n",
    "                flag=self.hasPathHelper(i,v2,visited)\n",
    "                if flag:\n",
    "                    return True\n",
    "        \n",
    "        return False\n",
    "        \n",
    "    \n",
    "    def hasPath(self,v1,v2):\n",
    "        visited=[False for i in range(self.nVertices)]\n",
    "        return self.hasPathHelper(v1,v2,visited)\n",
    "    \n",
    "    \n",
    "        \n",
    "# s=input().split()\n",
    "# v,e=int(s[0]),int(s[1])\n",
    "# g=Graph(v)\n",
    "# for i in range(e):\n",
    "#     s1=input().split()\n",
    "#     g.addEdge(int(s1[0]),int(s1[1]))\n",
    "\n",
    "# g.bfs()\n",
    "\n",
    "g=Graph(4)\n",
    "g.addEdge(0,1)\n",
    "g.addEdge(0,3)\n",
    "g.addEdge(1,2)\n",
    "g.addEdge(2,3)\n",
    "g.hasPath(1,3)"
   ]
  },
  {
   "cell_type": "code",
   "execution_count": null,
   "metadata": {},
   "outputs": [],
   "source": [
    "4 4 #v e\n",
    "0 1\n",
    "0 3\n",
    "1 2\n",
    "2 3\n",
    "1 3 #v1 v2"
   ]
  }
 ],
 "metadata": {
  "kernelspec": {
   "display_name": "Python 3",
   "language": "python",
   "name": "python3"
  },
  "language_info": {
   "codemirror_mode": {
    "name": "ipython",
    "version": 3
   },
   "file_extension": ".py",
   "mimetype": "text/x-python",
   "name": "python",
   "nbconvert_exporter": "python",
   "pygments_lexer": "ipython3",
   "version": "3.7.4"
  }
 },
 "nbformat": 4,
 "nbformat_minor": 2
}
