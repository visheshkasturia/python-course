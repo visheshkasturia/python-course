{
 "cells": [
  {
   "cell_type": "code",
   "execution_count": 4,
   "metadata": {},
   "outputs": [
    {
     "name": "stdout",
     "output_type": "stream",
     "text": [
      "4 4\n",
      "0 1\n",
      "0 3\n",
      "1 2\n",
      "2 3\n",
      "true\n"
     ]
    }
   ],
   "source": [
    "class Graph:\n",
    "    def __init__(self,nVertices):\n",
    "        self.nVertices=nVertices\n",
    "        self.adjMatrix=[[0 for j in range(self.nVertices)] for i in range(self.nVertices)]\n",
    "    \n",
    "    def addEdge(self,v1,v2):\n",
    "        self.adjMatrix[v1][v2]=1\n",
    "        self.adjMatrix[v2][v1]=1\n",
    "        return\n",
    "    \n",
    "    def removeEdge(self,v1,v2):\n",
    "        if self.containsEdge(v1,v2) is False:\n",
    "            return\n",
    "        \n",
    "        self.adjMatrix[v1][v2]=0\n",
    "        self.adjMatrix[v2][v1]=0\n",
    "        return\n",
    "    \n",
    "    def containsEdge(self,v1,v2):\n",
    "        if self.adjMatrix[v1][v2]==1:\n",
    "            return True\n",
    "        else:\n",
    "            return False\n",
    "    \n",
    "    \n",
    "    def isConnectedDFSHelper(self,sv,visited):\n",
    "        visited[sv]=True\n",
    "        for i in range(self.nVertices):\n",
    "            if self.adjMatrix[sv][i]>0 and visited[i] is False:\n",
    "                self.isConnectedDFSHelper(i,visited)\n",
    "        \n",
    "        return\n",
    "        \n",
    "    def isConnected(self):\n",
    "        visited=[False for i in range(self.nVertices)]\n",
    "        self.isConnectedDFSHelper(0,visited)\n",
    "        \n",
    "        for i in range(len(visited)):\n",
    "            if visited[i] is False:\n",
    "                return False\n",
    "        \n",
    "        return True\n",
    "    \n",
    "\n",
    "s=input().strip().split()\n",
    "v,e=int(s[0]),int(s[1])\n",
    "g=Graph(v)\n",
    "for i in range(e):\n",
    "    s1=input().strip().split()\n",
    "    g.addEdge(int(s1[0]),int(s1[1]))\n",
    "\n",
    "flag=g.isConnected()\n",
    "if flag:\n",
    "    print(\"true\")\n",
    "else:\n",
    "    print(\"false\")\n",
    "    \n",
    "        "
   ]
  },
  {
   "cell_type": "code",
   "execution_count": null,
   "metadata": {},
   "outputs": [],
   "source": [
    "4 4\n",
    "0 1\n",
    "0 3\n",
    "1 2\n",
    "2 3"
   ]
  }
 ],
 "metadata": {
  "kernelspec": {
   "display_name": "Python 3",
   "language": "python",
   "name": "python3"
  },
  "language_info": {
   "codemirror_mode": {
    "name": "ipython",
    "version": 3
   },
   "file_extension": ".py",
   "mimetype": "text/x-python",
   "name": "python",
   "nbconvert_exporter": "python",
   "pygments_lexer": "ipython3",
   "version": "3.7.4"
  }
 },
 "nbformat": 4,
 "nbformat_minor": 2
}
