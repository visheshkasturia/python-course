{
 "cells": [
  {
   "cell_type": "code",
   "execution_count": 18,
   "metadata": {},
   "outputs": [
    {
     "name": "stdout",
     "output_type": "stream",
     "text": [
      "4 4\n",
      "0 1\n",
      "0 3\n",
      "1 2\n",
      "2 3\n",
      "0\n",
      "1\n",
      "3\n",
      "2\n"
     ]
    }
   ],
   "source": [
    "import queue\n",
    "class Graph:\n",
    "    def __init__(self,nVertices):\n",
    "        self.nVertices=nVertices\n",
    "        self.adjMatrix=[[0 for j in range(nVertices)] for i in range(nVertices)]\n",
    "    \n",
    "    def addEdge(self,v1,v2):\n",
    "        self.adjMatrix[v1][v2]=1\n",
    "        self.adjMatrix[v2][v1]=1\n",
    "        return\n",
    "    \n",
    "    def removeEdge(self,v1,v2):\n",
    "        if self.containsEdge(v1,v2) is False:\n",
    "            return\n",
    "        self.adjMatrix[v1][v2]=0\n",
    "        self.adjMatrix[v2][v1]=0\n",
    "        return\n",
    "    \n",
    "    def containsEdge(self,v1,v2):\n",
    "        return True if self.adjMatrix[v1][v2]==1 else False\n",
    "    \n",
    "    def __str__(self):\n",
    "        return str(self.adjMatrix)\n",
    "    \n",
    "        \n",
    "    \n",
    "    def bfs(self):\n",
    "        visited=[False for i in range(self.nVertices)]\n",
    "        q=queue.Queue()\n",
    "        j=0\n",
    "        while j<self.nVertices:\n",
    "            if visited[j] is False:\n",
    "                q.put(j)\n",
    "                visited[j]=True\n",
    "                while not(q.empty()):\n",
    "                    currV=q.get()\n",
    "                    print(currV,end=\" \")\n",
    "                    for i in range(self.nVertices):\n",
    "                        if self.adjMatrix[currV][i]>0 and visited[i] is False:\n",
    "                            q.put(i)\n",
    "                            visited[i]=True\n",
    "            j+=1\n",
    "        return\n",
    "        \n",
    "s=input().split()\n",
    "v,e=int(s[0]),int(s[1])\n",
    "g=Graph(v)\n",
    "for i in range(e):\n",
    "    s1=input().split()\n",
    "    g.addEdge(int(s1[0]),int(s1[1]))\n",
    "\n",
    "g.bfs()"
   ]
  },
  {
   "cell_type": "code",
   "execution_count": null,
   "metadata": {},
   "outputs": [],
   "source": [
    "4 4\n",
    "0 1\n",
    "0 3\n",
    "1 2\n",
    "2 3"
   ]
  }
 ],
 "metadata": {
  "kernelspec": {
   "display_name": "Python 3",
   "language": "python",
   "name": "python3"
  },
  "language_info": {
   "codemirror_mode": {
    "name": "ipython",
    "version": 3
   },
   "file_extension": ".py",
   "mimetype": "text/x-python",
   "name": "python",
   "nbconvert_exporter": "python",
   "pygments_lexer": "ipython3",
   "version": "3.7.4"
  }
 },
 "nbformat": 4,
 "nbformat_minor": 2
}
