{
 "cells": [
  {
   "cell_type": "code",
   "execution_count": 1,
   "metadata": {},
   "outputs": [
    {
     "name": "stdout",
     "output_type": "stream",
     "text": [
      "0 1 5 2 3 6 4 "
     ]
    }
   ],
   "source": [
    "class Graph:\n",
    "    def __init__(self,nVertices):\n",
    "        self.nVertices=nVertices\n",
    "        self.adjMatrix=[[0 for j in range(nVertices)] for i in range(nVertices)]\n",
    "    \n",
    "    \n",
    "    def addEdge(self,v1,v2):\n",
    "        self.adjMatrix[v1][v2]=1\n",
    "        self.adjMatrix[v2][v1]=1\n",
    "        return\n",
    "    \n",
    "    def removeEdge(self,v1,v2):\n",
    "        if self.containsEdge(v1,v2) is False:\n",
    "            return\n",
    "        self.adjMatrix[v1][v2]=0\n",
    "        self.adjMatrix[v2][v1]=0\n",
    "        return\n",
    "    \n",
    "    def __dfsHelper(self,sv,visited):\n",
    "        \n",
    "        print(sv,end=\" \")\n",
    "        visited[sv]=True\n",
    "        for i in range(self.nVertices):\n",
    "            if (self.adjMatrix[sv][i]>0 and visited[i] is False):\n",
    "                self.__dfsHelper(i,visited)\n",
    "        return\n",
    "    \n",
    "    def dfs(self):\n",
    "        visited=[False for i in range(self.nVertices)]\n",
    "        self.__dfsHelper(0,visited)\n",
    "        return\n",
    "    \n",
    "    def containsEdge(self,v1,v2):\n",
    "        return True if self.adjMatrix[v1][v2]==1 else False\n",
    "    \n",
    "    def __str__(self):\n",
    "        return str(self.adjMatrix)\n",
    "    \n",
    "g=Graph(7)\n",
    "g.addEdge(0,1)\n",
    "g.addEdge(0,2)\n",
    "g.addEdge(1,5)\n",
    "g.addEdge(2,3)\n",
    "g.addEdge(2,4)\n",
    "g.addEdge(3,6)\n",
    "g.addEdge(4,6)\n",
    "g.dfs()"
   ]
  }
 ],
 "metadata": {
  "kernelspec": {
   "display_name": "Python 3",
   "language": "python",
   "name": "python3"
  },
  "language_info": {
   "codemirror_mode": {
    "name": "ipython",
    "version": 3
   },
   "file_extension": ".py",
   "mimetype": "text/x-python",
   "name": "python",
   "nbconvert_exporter": "python",
   "pygments_lexer": "ipython3",
   "version": "3.7.4"
  }
 },
 "nbformat": 4,
 "nbformat_minor": 2
}
