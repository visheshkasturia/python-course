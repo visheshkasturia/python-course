{
 "cells": [
  {
   "cell_type": "code",
   "execution_count": 4,
   "metadata": {},
   "outputs": [
    {
     "name": "stdout",
     "output_type": "stream",
     "text": [
      "2\n"
     ]
    }
   ],
   "source": [
    "import sys\n",
    "def printMinimum(li,si,ei,ans=sys.maxsize):\n",
    "    if si==ei:\n",
    "        if li[si]<ans:\n",
    "            ans=li[si]\n",
    "        print(ans)\n",
    "        return\n",
    "    \n",
    "    currAns=li[si]\n",
    "    ans=min(ans,currAns)\n",
    "    printMinimum(li,si+1,ei,ans)\n",
    "    \n",
    "li=[9,8,7,2,4,5,10,3,11]\n",
    "printMinimum(li,0,len(li)-1)"
   ]
  }
 ],
 "metadata": {
  "kernelspec": {
   "display_name": "Python 3",
   "language": "python",
   "name": "python3"
  },
  "language_info": {
   "codemirror_mode": {
    "name": "ipython",
    "version": 3
   },
   "file_extension": ".py",
   "mimetype": "text/x-python",
   "name": "python",
   "nbconvert_exporter": "python",
   "pygments_lexer": "ipython3",
   "version": "3.7.4"
  }
 },
 "nbformat": 4,
 "nbformat_minor": 2
}
