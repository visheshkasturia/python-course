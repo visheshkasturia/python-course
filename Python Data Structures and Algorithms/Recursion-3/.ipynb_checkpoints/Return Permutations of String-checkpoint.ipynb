{
 "cells": [
  {
   "cell_type": "markdown",
   "metadata": {},
   "source": [
    "### Approach 1"
   ]
  },
  {
   "cell_type": "code",
   "execution_count": 4,
   "metadata": {},
   "outputs": [
    {
     "name": "stdout",
     "output_type": "stream",
     "text": [
      "['abc', 'bac', 'bca', 'acb', 'cab', 'cba']\n"
     ]
    }
   ],
   "source": [
    "def permutations(s):\n",
    "    if len(s)==1:\n",
    "        return [s]\n",
    "    \n",
    "    smallAns=permutations(s[1:])\n",
    "    ans=[]\n",
    "    for j in range(len(smallAns)):\n",
    "        for i in range(len(smallAns[j])+1):\n",
    "            newString=smallAns[j][0:i]+s[0]+smallAns[j][i:]\n",
    "            ans.append(newString)\n",
    "    \n",
    "    return ans\n",
    "\n",
    "s=\"abc\"\n",
    "ans=permutations(s)\n",
    "print(ans)"
   ]
  },
  {
   "cell_type": "markdown",
   "metadata": {},
   "source": [
    "### Approach 2"
   ]
  },
  {
   "cell_type": "code",
   "execution_count": 6,
   "metadata": {},
   "outputs": [
    {
     "name": "stdout",
     "output_type": "stream",
     "text": [
      "['abc', 'acb', 'bac', 'bca', 'cab', 'cba']\n"
     ]
    }
   ],
   "source": [
    "def permutations2(s):\n",
    "    if len(s)==1:\n",
    "        return [s]\n",
    "    \n",
    "    ans=[]\n",
    "    for i in range(len(s)):\n",
    "        smallAns=permutations2(s[0:i]+s[i+1:])\n",
    "        for j in range(len(smallAns)):\n",
    "            newString=s[i]+smallAns[j]\n",
    "            ans.append(newString)\n",
    "    \n",
    "    return ans\n",
    "\n",
    "s=\"abc\"\n",
    "ans=permutations2(s)\n",
    "print(ans)"
   ]
  }
 ],
 "metadata": {
  "kernelspec": {
   "display_name": "Python 3",
   "language": "python",
   "name": "python3"
  },
  "language_info": {
   "codemirror_mode": {
    "name": "ipython",
    "version": 3
   },
   "file_extension": ".py",
   "mimetype": "text/x-python",
   "name": "python",
   "nbconvert_exporter": "python",
   "pygments_lexer": "ipython3",
   "version": "3.7.4"
  }
 },
 "nbformat": 4,
 "nbformat_minor": 2
}
