{
 "cells": [
  {
   "cell_type": "code",
   "execution_count": 100,
   "metadata": {},
   "outputs": [
    {
     "name": "stdout",
     "output_type": "stream",
     "text": [
      "15\n",
      "14 17 17 2 20 3 16 14 2 14 15 4 13 8 15 \n",
      "2\n",
      "2 \n",
      "2 \n"
     ]
    }
   ],
   "source": [
    "def returnSubsSumToK(arr,si,ei,k):\n",
    "    if si>ei:\n",
    "        return [[]]\n",
    "    \n",
    "    out1=returnSubsSumToK(arr,si+1,ei,k-arr[si])\n",
    "    out2=returnSubsSumToK(arr,si+1,ei,k)\n",
    "    \n",
    "    ans=[]\n",
    "    if arr[si]==k:\n",
    "        ans= [[arr[si]]]\n",
    "        \n",
    "    \n",
    "    if out1!=[[]]:\n",
    "        for i in range(len(out1)):\n",
    "            currAns=[arr[si]]\n",
    "            currAns.extend(out1[i])\n",
    "            ans.append(currAns)\n",
    "    if out2!=[[]]:\n",
    "        for i in range(len(out2)):\n",
    "            ans.append(out2[i])\n",
    "    \n",
    "    return ans\n",
    "    \n",
    "\n",
    "n=int(input())\n",
    "arr=[int(x) for x in input().split()]\n",
    "k=int(input())\n",
    "ans=returnSubsSumToK(arr,0,n-1,k)\n",
    "for ele in ans:\n",
    "    for i in range(len(ele)):\n",
    "        print(ele[i],end=\" \")\n",
    "    print()"
   ]
  }
 ],
 "metadata": {
  "kernelspec": {
   "display_name": "Python 3",
   "language": "python",
   "name": "python3"
  },
  "language_info": {
   "codemirror_mode": {
    "name": "ipython",
    "version": 3
   },
   "file_extension": ".py",
   "mimetype": "text/x-python",
   "name": "python",
   "nbconvert_exporter": "python",
   "pygments_lexer": "ipython3",
   "version": "3.7.4"
  }
 },
 "nbformat": 4,
 "nbformat_minor": 2
}
