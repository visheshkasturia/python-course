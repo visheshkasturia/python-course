{
 "cells": [
  {
   "cell_type": "code",
   "execution_count": 4,
   "metadata": {},
   "outputs": [
    {
     "name": "stdout",
     "output_type": "stream",
     "text": [
      "23\n",
      "['ad', 'ae', 'af', 'bd', 'be', 'bf', 'cd', 'ce', 'cf']\n"
     ]
    }
   ],
   "source": [
    "def keypad(n,d):\n",
    "    if n==0:\n",
    "        return[\"\"]\n",
    "    \n",
    "    rem_inp=n//10\n",
    "    rem_out=n%10\n",
    "    \n",
    "    ans1= keypad(rem_inp,d)\n",
    "    \n",
    "    output=[]\n",
    "    \n",
    "    for ele in ans1:\n",
    "        for char in d[rem_out]:\n",
    "            output.append(ele+char)\n",
    "    \n",
    "    return output\n",
    "    \n",
    "\n",
    "\n",
    "d={2:\"abc\",3:\"def\",4:\"ghi\",5:\"jkl\",6:\"mno\",7:\"pqrs\",8:\"tuv\",9:\"wxyz\"}\n",
    "n=int(input())\n",
    "ans=keypad(n,d)\n",
    "print(ans)"
   ]
  }
 ],
 "metadata": {
  "kernelspec": {
   "display_name": "Python 3",
   "language": "python",
   "name": "python3"
  },
  "language_info": {
   "codemirror_mode": {
    "name": "ipython",
    "version": 3
   },
   "file_extension": ".py",
   "mimetype": "text/x-python",
   "name": "python",
   "nbconvert_exporter": "python",
   "pygments_lexer": "ipython3",
   "version": "3.7.4"
  }
 },
 "nbformat": 4,
 "nbformat_minor": 2
}
