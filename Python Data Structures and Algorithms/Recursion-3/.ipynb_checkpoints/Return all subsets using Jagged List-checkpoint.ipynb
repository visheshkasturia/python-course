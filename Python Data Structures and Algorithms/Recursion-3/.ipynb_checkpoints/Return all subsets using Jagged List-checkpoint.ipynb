{
 "cells": [
  {
   "cell_type": "code",
   "execution_count": 7,
   "metadata": {},
   "outputs": [
    {
     "name": "stdout",
     "output_type": "stream",
     "text": [
      "3\n",
      "1 2 3\n",
      "1 2 3 \n",
      "1 2 \n",
      "1 3 \n",
      "1 \n",
      "2 3 \n",
      "2 \n",
      "3 \n",
      "\n"
     ]
    }
   ],
   "source": [
    "def returnAllSubsets(arr,si,ei):\n",
    "    if si>ei:\n",
    "        return [[]]\n",
    "    \n",
    "    out1=returnAllSubsets(arr,si+1,ei)\n",
    "    \n",
    "    ans=[]\n",
    "    for i in range(len(out1)):\n",
    "        currAns=[arr[si]]\n",
    "        currAns.extend(out1[i])\n",
    "        ans.append(currAns)\n",
    "                \n",
    "    for ele in out1:\n",
    "        ans.append(ele)\n",
    "    \n",
    "    return ans\n",
    "\n",
    "n=int(input())\n",
    "arr=[int(x) for x in input().split()]\n",
    "ans=returnAllSubsets(arr,0,n-1)\n",
    "\n",
    "for ele in ans:\n",
    "    for i in range(len(ele)):\n",
    "        print(ele[i],end=\" \")\n",
    "    print()"
   ]
  }
 ],
 "metadata": {
  "kernelspec": {
   "display_name": "Python 3",
   "language": "python",
   "name": "python3"
  },
  "language_info": {
   "codemirror_mode": {
    "name": "ipython",
    "version": 3
   },
   "file_extension": ".py",
   "mimetype": "text/x-python",
   "name": "python",
   "nbconvert_exporter": "python",
   "pygments_lexer": "ipython3",
   "version": "3.7.4"
  }
 },
 "nbformat": 4,
 "nbformat_minor": 2
}
