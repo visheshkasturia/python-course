{
 "cells": [
  {
   "cell_type": "code",
   "execution_count": 33,
   "metadata": {},
   "outputs": [
    {
     "name": "stdout",
     "output_type": "stream",
     "text": [
      "4\n",
      "2 3 1 2\n",
      "5\n",
      "2 3 \n",
      "2 1 2 \n",
      "3 2 \n"
     ]
    }
   ],
   "source": [
    "def printSubsetSumToK(arr,si,ei,k,outputsofar):\n",
    "    if si>ei:\n",
    "        if k==0:\n",
    "            for ele in outputsofar:\n",
    "                print(ele,end=\" \")\n",
    "            print()\n",
    "        return\n",
    "    \n",
    "    \n",
    "    small_out_inc=[]\n",
    "    for i in range(len(outputsofar)):\n",
    "        small_out_inc.append(outputsofar[i])\n",
    "    small_out_inc.append(arr[si])\n",
    "    if arr[si]<=k:\n",
    "        printSubsetSumToK(arr,si+1,ei,k-arr[si],small_out_inc)\n",
    "    printSubsetSumToK(arr,si+1,ei,k,outputsofar)\n",
    "    \n",
    "n=int(input())\n",
    "arr=[int(x) for x in input().split()]\n",
    "k=int(input())\n",
    "printSubsetSumToK(arr,0,n-1,k,[])"
   ]
  }
 ],
 "metadata": {
  "kernelspec": {
   "display_name": "Python 3",
   "language": "python",
   "name": "python3"
  },
  "language_info": {
   "codemirror_mode": {
    "name": "ipython",
    "version": 3
   },
   "file_extension": ".py",
   "mimetype": "text/x-python",
   "name": "python",
   "nbconvert_exporter": "python",
   "pygments_lexer": "ipython3",
   "version": "3.7.4"
  }
 },
 "nbformat": 4,
 "nbformat_minor": 2
}
