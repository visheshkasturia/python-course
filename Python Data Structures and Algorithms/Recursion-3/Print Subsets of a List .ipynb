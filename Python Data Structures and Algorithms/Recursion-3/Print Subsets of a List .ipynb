{
 "cells": [
  {
   "cell_type": "markdown",
   "metadata": {},
   "source": [
    "### Approach 1"
   ]
  },
  {
   "cell_type": "code",
   "execution_count": 7,
   "metadata": {},
   "outputs": [
    {
     "name": "stdout",
     "output_type": "stream",
     "text": [
      "1 2 3 \n",
      "1 2 \n",
      "1 3 \n",
      "1 \n",
      "2 3 \n",
      "2 \n",
      "3 \n",
      "\n"
     ]
    }
   ],
   "source": [
    "def printSubsets(arr,si,ei,outputsofar):\n",
    "    if si>ei:\n",
    "        for ele in outputsofar:\n",
    "            print(ele,end=\" \")\n",
    "        print()\n",
    "        return\n",
    "            \n",
    "    small_out_inc=[]\n",
    "    for i in range(len(outputsofar)):\n",
    "        small_out_inc.append(outputsofar[i])\n",
    "    small_out_inc.append(arr[si])\n",
    "    \n",
    "    printSubsets(arr,si+1,ei,small_out_inc)\n",
    "    printSubsets(arr,si+1,ei,outputsofar)\n",
    "    \n",
    "\n",
    "n=3\n",
    "arr=[1,2,3]\n",
    "printSubsets(arr,0,n-1,[])"
   ]
  },
  {
   "cell_type": "markdown",
   "metadata": {},
   "source": [
    "### Approach 2"
   ]
  },
  {
   "cell_type": "code",
   "execution_count": 9,
   "metadata": {},
   "outputs": [
    {
     "name": "stdout",
     "output_type": "stream",
     "text": [
      "1 2 3 \n",
      "1 2 \n",
      "1 3 \n",
      "1 \n",
      "2 3 \n",
      "2 \n",
      "3 \n",
      "\n"
     ]
    }
   ],
   "source": [
    "def printSubsets1(arr,si,ei,output):\n",
    "    if si>ei:\n",
    "        print(output)\n",
    "        return\n",
    "    \n",
    "    smallOutput_inc=output+str(arr[si])+\" \"\n",
    "    ans_inc=printSubsets1(arr,si+1,ei,smallOutput_inc)\n",
    "    ans_exc=printSubsets1(arr,si+1,ei,output)\n",
    "\n",
    "n=3\n",
    "arr=[1,2,3]\n",
    "printSubsets1(arr,0,n-1,\"\")\n",
    "    \n",
    "    "
   ]
  }
 ],
 "metadata": {
  "kernelspec": {
   "display_name": "Python 3",
   "language": "python",
   "name": "python3"
  },
  "language_info": {
   "codemirror_mode": {
    "name": "ipython",
    "version": 3
   },
   "file_extension": ".py",
   "mimetype": "text/x-python",
   "name": "python",
   "nbconvert_exporter": "python",
   "pygments_lexer": "ipython3",
   "version": "3.7.4"
  }
 },
 "nbformat": 4,
 "nbformat_minor": 2
}
