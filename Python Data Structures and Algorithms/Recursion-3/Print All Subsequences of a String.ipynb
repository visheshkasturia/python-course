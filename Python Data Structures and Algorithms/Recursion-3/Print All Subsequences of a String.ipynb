{
 "cells": [
  {
   "cell_type": "code",
   "execution_count": 3,
   "metadata": {},
   "outputs": [
    {
     "name": "stdout",
     "output_type": "stream",
     "text": [
      "abc\n",
      "\n",
      "c\n",
      "b\n",
      "bc\n",
      "a\n",
      "ac\n",
      "ab\n",
      "abc\n"
     ]
    }
   ],
   "source": [
    "def printSS(ip,op):\n",
    "    if ip==\"\":\n",
    "        print(op)\n",
    "        return\n",
    "    \n",
    "    smallOut=ip[0]\n",
    "    smallIn=ip[1:]\n",
    "    printSS(ip[1:],op)\n",
    "    printSS(ip[1:],op+smallOut)\n",
    "    \n",
    "string=input().strip()\n",
    "printSS(string,\"\")"
   ]
  }
 ],
 "metadata": {
  "kernelspec": {
   "display_name": "Python 3",
   "language": "python",
   "name": "python3"
  },
  "language_info": {
   "codemirror_mode": {
    "name": "ipython",
    "version": 3
   },
   "file_extension": ".py",
   "mimetype": "text/x-python",
   "name": "python",
   "nbconvert_exporter": "python",
   "pygments_lexer": "ipython3",
   "version": "3.7.4"
  }
 },
 "nbformat": 4,
 "nbformat_minor": 2
}
