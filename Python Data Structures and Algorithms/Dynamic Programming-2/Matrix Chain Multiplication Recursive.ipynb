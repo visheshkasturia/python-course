{
 "cells": [
  {
   "cell_type": "markdown",
   "metadata": {},
   "source": [
    "### Recursive"
   ]
  },
  {
   "cell_type": "code",
   "execution_count": 14,
   "metadata": {},
   "outputs": [
    {
     "name": "stdout",
     "output_type": "stream",
     "text": [
      "124\n"
     ]
    }
   ],
   "source": [
    "import sys\n",
    "def MCM(p,i,j):\n",
    "    if i==j:\n",
    "        return 0\n",
    "    ans=sys.maxsize\n",
    "    currAns=sys.maxsize\n",
    "    for k in range(i,j):\n",
    "        additions=p[i-1]*p[k]*p[j]\n",
    "        rec_call=MCM(p,i,k)+MCM(p,k+1,j)\n",
    "        currAns=rec_call+additions\n",
    "        ans=min(currAns,ans)\n",
    "    \n",
    "    return ans\n",
    "\n",
    "\n",
    "p=[2,3,4,5,6]\n",
    "print(MCM(p,1,len(p)-1))"
   ]
  }
 ],
 "metadata": {
  "kernelspec": {
   "display_name": "Python 3",
   "language": "python",
   "name": "python3"
  },
  "language_info": {
   "codemirror_mode": {
    "name": "ipython",
    "version": 3
   },
   "file_extension": ".py",
   "mimetype": "text/x-python",
   "name": "python",
   "nbconvert_exporter": "python",
   "pygments_lexer": "ipython3",
   "version": "3.7.4"
  }
 },
 "nbformat": 4,
 "nbformat_minor": 2
}
