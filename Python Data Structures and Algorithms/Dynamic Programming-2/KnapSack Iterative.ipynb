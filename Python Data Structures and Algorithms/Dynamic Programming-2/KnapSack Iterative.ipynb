{
 "cells": [
  {
   "cell_type": "code",
   "execution_count": 4,
   "metadata": {},
   "outputs": [
    {
     "name": "stdout",
     "output_type": "stream",
     "text": [
      "16\n"
     ]
    }
   ],
   "source": [
    "def knapSack_iter(W,wt,val):\n",
    "    \n",
    "    n=len(val)\n",
    "    dp=[[0 for j in range(W+1)] for i in range(n+1)]\n",
    "    ans=0\n",
    "    for i in range(1,n+1):\n",
    "        for j in range(1,W+1):\n",
    "            if wt[i-1]>j:\n",
    "                ans=dp[i-1][j]\n",
    "            else:\n",
    "                ans1=val[i-1] + dp[i-1][j-wt[i-1]]\n",
    "                ans2=dp[i-1][j]\n",
    "                ans=max(ans1,ans2)\n",
    "            dp[i][j]=ans\n",
    "    \n",
    "    return dp[n][W]\n",
    "\n",
    "\n",
    "W=10\n",
    "val=[5,4,2,3,8]\n",
    "wt=[3,6,4,2,3]\n",
    "print(knapSack_iter(W,wt,val))"
   ]
  }
 ],
 "metadata": {
  "kernelspec": {
   "display_name": "Python 3",
   "language": "python",
   "name": "python3"
  },
  "language_info": {
   "codemirror_mode": {
    "name": "ipython",
    "version": 3
   },
   "file_extension": ".py",
   "mimetype": "text/x-python",
   "name": "python",
   "nbconvert_exporter": "python",
   "pygments_lexer": "ipython3",
   "version": "3.7.4"
  }
 },
 "nbformat": 4,
 "nbformat_minor": 2
}
