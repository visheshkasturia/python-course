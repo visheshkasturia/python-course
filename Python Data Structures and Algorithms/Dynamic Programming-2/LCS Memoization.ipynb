{
 "cells": [
  {
   "cell_type": "markdown",
   "metadata": {},
   "source": [
    "### Memoization"
   ]
  },
  {
   "cell_type": "code",
   "execution_count": 18,
   "metadata": {},
   "outputs": [
    {
     "name": "stdout",
     "output_type": "stream",
     "text": [
      "4\n"
     ]
    }
   ],
   "source": [
    "def lcs_mem(s1,s2,i,j,dp):\n",
    "    if i>=len(s1) or j>=len(s2):\n",
    "        return 0\n",
    "    \n",
    "    if s1[i]==s2[j]:\n",
    "        if dp[i+1][j+1]==-1:\n",
    "            shortAns=lcs_mem(s1,s2,i+1,j+1,dp)\n",
    "            dp[i+1][j+1]=shortAns\n",
    "        else:\n",
    "            shortAns=dp[i+1][j+1]\n",
    "        ans=1+shortAns\n",
    "    else:\n",
    "        ans1=0\n",
    "        ans2=0\n",
    "        if dp[i+1][j]==-1:\n",
    "            ans1=lcs_mem(s1,s2,i+1,j,dp)\n",
    "            dp[i+1][j]=ans1\n",
    "        else:\n",
    "            ans1=dp[i+1][j]\n",
    "            \n",
    "        if dp[i][j+1]==-1:\n",
    "            ans2=lcs_mem(s1,s2,i,j+1,dp)\n",
    "            dp[i][j+1]=ans2\n",
    "        else:\n",
    "            ans2=dp[i][j+1]\n",
    "        \n",
    "        ans=max(ans1,ans2)\n",
    "        \n",
    "    return ans\n",
    "\n",
    "s1=\"abdgec\"\n",
    "s2=\"bfdmgjc\"\n",
    "m=len(s1)\n",
    "n=len(s2)\n",
    "dp=[[-1 for j in range(n+1)] for i in range(m+1)]\n",
    "print(lcs_mem(s1,s2,0,0,dp))"
   ]
  }
 ],
 "metadata": {
  "kernelspec": {
   "display_name": "Python 3",
   "language": "python",
   "name": "python3"
  },
  "language_info": {
   "codemirror_mode": {
    "name": "ipython",
    "version": 3
   },
   "file_extension": ".py",
   "mimetype": "text/x-python",
   "name": "python",
   "nbconvert_exporter": "python",
   "pygments_lexer": "ipython3",
   "version": "3.7.4"
  }
 },
 "nbformat": 4,
 "nbformat_minor": 2
}
