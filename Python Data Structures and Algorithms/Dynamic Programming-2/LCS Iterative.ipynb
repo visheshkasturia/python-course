{
 "cells": [
  {
   "cell_type": "markdown",
   "metadata": {},
   "source": [
    "### Iterative"
   ]
  },
  {
   "cell_type": "code",
   "execution_count": 19,
   "metadata": {},
   "outputs": [
    {
     "name": "stdout",
     "output_type": "stream",
     "text": [
      "4\n"
     ]
    }
   ],
   "source": [
    "def lcs_iter(s1,s2):\n",
    "    m=len(s1)\n",
    "    n=len(s2)\n",
    "    dp=[[0 for j in range(n+1)] for i in range(m+1)]\n",
    "    \n",
    "#     dp[m]=[0 for j in range(n+1)]\n",
    "#     for i in range(m+1):\n",
    "#         dp[i][n]=0\n",
    "    for i in range(m-1,-1,-1):\n",
    "        for j in range(n-1,-1,-1):\n",
    "            if s1[i]==s2[j]:\n",
    "                dp[i][j]= 1+dp[i+1][j+1]\n",
    "            else:\n",
    "                dp[i][j]=max(dp[i+1][j],dp[i][j+1])\n",
    "            \n",
    "    return dp[0][0]\n",
    "                \n",
    "\n",
    "s1=\"abdgec\"\n",
    "s2=\"bfdmgjc\"\n",
    "print(lcs_iter(s1,s2))"
   ]
  }
 ],
 "metadata": {
  "kernelspec": {
   "display_name": "Python 3",
   "language": "python",
   "name": "python3"
  },
  "language_info": {
   "codemirror_mode": {
    "name": "ipython",
    "version": 3
   },
   "file_extension": ".py",
   "mimetype": "text/x-python",
   "name": "python",
   "nbconvert_exporter": "python",
   "pygments_lexer": "ipython3",
   "version": "3.7.4"
  }
 },
 "nbformat": 4,
 "nbformat_minor": 2
}
