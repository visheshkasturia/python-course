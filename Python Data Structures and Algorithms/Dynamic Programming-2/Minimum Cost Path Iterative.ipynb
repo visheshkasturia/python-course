{
 "cells": [
  {
   "cell_type": "markdown",
   "metadata": {},
   "source": [
    "### Iterative"
   ]
  },
  {
   "cell_type": "code",
   "execution_count": 6,
   "metadata": {},
   "outputs": [
    {
     "name": "stdout",
     "output_type": "stream",
     "text": [
      "3 4\n",
      "3 4 1 2\n",
      "2 1 8 9\n",
      "4 7 8 1\n",
      "13\n"
     ]
    }
   ],
   "source": [
    "def minCostPathIter(arr):\n",
    "    m = len(arr)\n",
    "    n=len(arr[0])\n",
    "    dp=[[-1 for j in range(n)] for i in range(m)]\n",
    "    \n",
    "     \n",
    "    for i in range(m-1,-1,-1):\n",
    "        for j in range(n-1,-1,-1):\n",
    "            if i==m-1 and j==n-1:\n",
    "                dp[m-1][n-1]=arr[m-1][n-1]\n",
    "            elif i==m-1:\n",
    "                    dp[i][j]=arr[i][j]+dp[i][j+1]\n",
    "            elif j==n-1:\n",
    "                    dp[i][j]=arr[i][j]+dp[i+1][j]\n",
    "            else:\n",
    "                dp[i][j]= arr[i][j]+ min(dp[i+1][j+1],dp[i+1][j],dp[i][j+1])\n",
    "            \n",
    "    return dp[0][0]\n",
    "\n",
    "    \n",
    "\n",
    "m,n=[int(i) for i in input().split()]    \n",
    "arr=[[int(j) for j in input().split()] for i in range(m)]\n",
    "print(minCostPathIter(arr))"
   ]
  }
 ],
 "metadata": {
  "kernelspec": {
   "display_name": "Python 3",
   "language": "python",
   "name": "python3"
  },
  "language_info": {
   "codemirror_mode": {
    "name": "ipython",
    "version": 3
   },
   "file_extension": ".py",
   "mimetype": "text/x-python",
   "name": "python",
   "nbconvert_exporter": "python",
   "pygments_lexer": "ipython3",
   "version": "3.7.4"
  }
 },
 "nbformat": 4,
 "nbformat_minor": 2
}
