{
 "cells": [
  {
   "cell_type": "code",
   "execution_count": 2,
   "metadata": {},
   "outputs": [
    {
     "name": "stdout",
     "output_type": "stream",
     "text": [
      "4\n",
      "2 40 2 40 5\n",
      "580\n"
     ]
    }
   ],
   "source": [
    "import sys\n",
    "def mcm(p,i,j,dp):\n",
    "    if i==j:\n",
    "        return 0\n",
    "    ans=sys.maxsize\n",
    "    currAns=sys.maxsize\n",
    "    for k in range(i,j):\n",
    "        additions=p[i-1]*p[k]*p[j]\n",
    "        if dp[i][k]==-1:\n",
    "            ans1=mcm(p,i,k,dp)\n",
    "        else:\n",
    "            ans1=dp[i][k]\n",
    "        \n",
    "        if dp[k+1][j]==-1:\n",
    "            ans2=mcm(p,k+1,j,dp)\n",
    "        else:\n",
    "            ans2=dp[k+1][j]\n",
    "            \n",
    "        currAns=ans1+ans2+additions\n",
    "        \n",
    "        ans=min(currAns,ans)\n",
    "        dp[i][j]=ans\n",
    "    return ans\n",
    "\n",
    "n=int(input())\n",
    "dp=[[-1 for j in range(n+1)] for i in range(n+1)]\n",
    "p=[int(x) for x in input().split()]\n",
    "print(mcm(p,1,n,dp))"
   ]
  }
 ],
 "metadata": {
  "kernelspec": {
   "display_name": "Python 3",
   "language": "python",
   "name": "python3"
  },
  "language_info": {
   "codemirror_mode": {
    "name": "ipython",
    "version": 3
   },
   "file_extension": ".py",
   "mimetype": "text/x-python",
   "name": "python",
   "nbconvert_exporter": "python",
   "pygments_lexer": "ipython3",
   "version": "3.7.4"
  }
 },
 "nbformat": 4,
 "nbformat_minor": 2
}
