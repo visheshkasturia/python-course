{
 "cells": [
  {
   "cell_type": "code",
   "execution_count": 5,
   "metadata": {},
   "outputs": [
    {
     "name": "stdout",
     "output_type": "stream",
     "text": [
      "10\n"
     ]
    }
   ],
   "source": [
    "def knapSack(W,wt,val,i):\n",
    "    if i>=len(wt):\n",
    "        return 0\n",
    "    \n",
    "    if wt[i]>W:\n",
    "        ans= knapSack(W,wt,val,i+1)\n",
    "    \n",
    "    else:\n",
    "        ans1=knapSack(W,wt,val,i+1)\n",
    "        ans2=val[i] + knapSack(W-wt[i],wt,val,i+1)\n",
    "        \n",
    "        ans= max(ans1,ans2)\n",
    "    \n",
    "    return ans\n",
    "\n",
    "\n",
    "\n",
    "W=10\n",
    "val=[5,4,2,3,8]\n",
    "wt=[3,6,4,2,9]\n",
    "print(knapSack(W,wt,val,0))"
   ]
  }
 ],
 "metadata": {
  "kernelspec": {
   "display_name": "Python 3",
   "language": "python",
   "name": "python3"
  },
  "language_info": {
   "codemirror_mode": {
    "name": "ipython",
    "version": 3
   },
   "file_extension": ".py",
   "mimetype": "text/x-python",
   "name": "python",
   "nbconvert_exporter": "python",
   "pygments_lexer": "ipython3",
   "version": "3.7.4"
  }
 },
 "nbformat": 4,
 "nbformat_minor": 2
}
