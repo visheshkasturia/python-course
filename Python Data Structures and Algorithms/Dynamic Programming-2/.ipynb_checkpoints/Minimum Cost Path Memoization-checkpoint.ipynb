{
 "cells": [
  {
   "cell_type": "markdown",
   "metadata": {},
   "source": [
    "### Memoization"
   ]
  },
  {
   "cell_type": "code",
   "execution_count": 26,
   "metadata": {},
   "outputs": [
    {
     "name": "stdout",
     "output_type": "stream",
     "text": [
      "3 4\n",
      "13\n"
     ]
    }
   ],
   "source": [
    "def minCostPathMem(arr,i,j,dp):\n",
    "    if i==len(arr)-1 and j==len(arr[0])-1:\n",
    "        return arr[i][j]\n",
    "    \n",
    "    ans1,ans2,ans3= sys.maxsize,sys.maxsize,sys.maxsize\n",
    "    \n",
    "    if i==len(arr)-1:\n",
    "        if dp[i][j+1]==-1:\n",
    "            ans2= minCostPathMem(arr,i,j+1,dp)\n",
    "            dp[i][j+1]=ans2\n",
    "        else:\n",
    "            ans2=dp[i][j+1]\n",
    "            \n",
    "    elif j==len(arr[0])-1:\n",
    "        if dp[i+1][j]==-1:\n",
    "            ans1= minCostPathMem(arr,i+1,j,dp)\n",
    "            dp[i+1][j]=ans1\n",
    "        else:\n",
    "            ans1=dp[i+1][j]\n",
    "    else:\n",
    "        if dp[i+1][j]==-1:\n",
    "            ans1= minCostPathMem(arr,i+1,j,dp)\n",
    "            dp[i+1][j]=ans1\n",
    "        else:\n",
    "            ans1=dp[i+1][j]\n",
    "    \n",
    "        if dp[i][j+1]==-1:\n",
    "            ans2= minCostPathMem(arr,i,j+1,dp)\n",
    "            dp[i][j+1]=ans2\n",
    "        else:\n",
    "            ans2=dp[i][j+1]\n",
    "        \n",
    "        \n",
    "        if dp[i+1][j+1]==-1:\n",
    "            ans3= minCostPathMem(arr,i+1,j+1,dp)\n",
    "            dp[i+1][j+1]=ans3\n",
    "        else:\n",
    "            ans3=dp[i+1][j+1]\n",
    "    \n",
    "    return arr[i][j] + min(ans1, ans2, ans3)\n",
    "    \n",
    "    \n",
    "    \n",
    "m,n=[int(i) for i in input().split()]    \n",
    "arr=[[int(j) for j in input().split()] for i in range(m)]\n",
    "dp=[[-1 for j in range(n)] for i in range(m)]\n",
    "print(minCostPathMem(arr,0,0,dp))"
   ]
  },
  {
   "cell_type": "code",
   "execution_count": null,
   "metadata": {},
   "outputs": [],
   "source": [
    "3 4\n",
    "3 4 1 2\n",
    "2 1 8 9\n",
    "4 7 8 1"
   ]
  }
 ],
 "metadata": {
  "kernelspec": {
   "display_name": "Python 3",
   "language": "python",
   "name": "python3"
  },
  "language_info": {
   "codemirror_mode": {
    "name": "ipython",
    "version": 3
   },
   "file_extension": ".py",
   "mimetype": "text/x-python",
   "name": "python",
   "nbconvert_exporter": "python",
   "pygments_lexer": "ipython3",
   "version": "3.7.4"
  }
 },
 "nbformat": 4,
 "nbformat_minor": 2
}
