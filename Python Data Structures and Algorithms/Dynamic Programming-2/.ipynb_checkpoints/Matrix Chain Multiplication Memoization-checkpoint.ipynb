{
 "cells": [
  {
   "cell_type": "code",
   "execution_count": 1,
   "metadata": {},
   "outputs": [
    {
     "name": "stdout",
     "output_type": "stream",
     "text": [
      "4\n",
      "2 3 4 5 6\n",
      "124\n"
     ]
    }
   ],
   "source": [
    "import sys\n",
    "def MCM(p,i,j,dp):\n",
    "    if i==j:\n",
    "        return 0\n",
    "    ans=sys.maxsize\n",
    "    currAns=sys.maxsize\n",
    "    for k in range(i,j):\n",
    "        additions=p[i-1]*p[k]*p[j]\n",
    "        if dp[i][k]==sys.maxsize:\n",
    "            rec_call1=MCM(p,i,k,dp)\n",
    "#             dp[i][k]=rec_call1\n",
    "        else:\n",
    "            rec_call1=dp[i][k]\n",
    "        \n",
    "        if dp[k+1][j]==sys.maxsize:\n",
    "            rec_call2=MCM(p,k+1,j,dp)\n",
    "#             dp[k+1][j]=rec_call2\n",
    "        else:\n",
    "            rec_call2=dp[k+1][j]\n",
    "            \n",
    "        currAns=rec_call1+rec_call2+additions\n",
    "        \n",
    "        ans=min(currAns,ans)\n",
    "        dp[i][j]=ans\n",
    "    return ans\n",
    "\n",
    "n=int(input())\n",
    "dp=[[0 if i==j else sys.maxsize for j in range(n+1)] for i in range(n+1)]\n",
    "p=[int(x) for x in input().split()]\n",
    "print(MCM(p,1,n,dp))"
   ]
  }
 ],
 "metadata": {
  "kernelspec": {
   "display_name": "Python 3",
   "language": "python",
   "name": "python3"
  },
  "language_info": {
   "codemirror_mode": {
    "name": "ipython",
    "version": 3
   },
   "file_extension": ".py",
   "mimetype": "text/x-python",
   "name": "python",
   "nbconvert_exporter": "python",
   "pygments_lexer": "ipython3",
   "version": "3.7.4"
  }
 },
 "nbformat": 4,
 "nbformat_minor": 2
}
