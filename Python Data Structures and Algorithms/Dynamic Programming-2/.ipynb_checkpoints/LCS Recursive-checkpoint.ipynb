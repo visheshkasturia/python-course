{
 "cells": [
  {
   "cell_type": "markdown",
   "metadata": {},
   "source": [
    "### Recursive"
   ]
  },
  {
   "cell_type": "code",
   "execution_count": 2,
   "metadata": {},
   "outputs": [
    {
     "name": "stdout",
     "output_type": "stream",
     "text": [
      "4\n"
     ]
    }
   ],
   "source": [
    "def lcs_rec(s1,s2,i,j):\n",
    "    if i>=len(s1) or j>=len(s2):\n",
    "        return 0\n",
    "    if s1[i]==s2[j]:\n",
    "        ans=1+ lcs_rec(s1,s2,i+1,j+1)\n",
    "    else:\n",
    "        ans1=lcs_rec(s1,s2,i+1,j)\n",
    "        ans2=lcs_rec(s1,s2,i,j+1)\n",
    "        ans=max(ans1,ans2)\n",
    "        \n",
    "    return ans\n",
    "\n",
    "s1=\"abdgec\"\n",
    "s2=\"bfdmgjc\"\n",
    "print(lcs_rec(s1,s2,0,0))"
   ]
  }
 ],
 "metadata": {
  "kernelspec": {
   "display_name": "Python 3",
   "language": "python",
   "name": "python3"
  },
  "language_info": {
   "codemirror_mode": {
    "name": "ipython",
    "version": 3
   },
   "file_extension": ".py",
   "mimetype": "text/x-python",
   "name": "python",
   "nbconvert_exporter": "python",
   "pygments_lexer": "ipython3",
   "version": "3.7.4"
  }
 },
 "nbformat": 4,
 "nbformat_minor": 2
}
