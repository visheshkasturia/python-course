{
 "cells": [
  {
   "cell_type": "markdown",
   "metadata": {},
   "source": [
    "### Recursive"
   ]
  },
  {
   "cell_type": "code",
   "execution_count": 1,
   "metadata": {},
   "outputs": [
    {
     "name": "stdout",
     "output_type": "stream",
     "text": [
      "3 4\n",
      "3 4 1 2\n",
      "2 1 8 9\n",
      "4 7 8 1\n",
      "13\n"
     ]
    }
   ],
   "source": [
    "import sys\n",
    "def minCostPath(arr,i,j):\n",
    "    if i==len(arr)-1 and j==len(arr[0])-1:\n",
    "        return arr[i][j]\n",
    "    \n",
    "    ans1,ans2,ans3= sys.maxsize,sys.maxsize,sys.maxsize\n",
    "    if i==len(arr)-1:\n",
    "        ans2= minCostPath(arr,i,j+1)\n",
    "    elif j==len(arr[0])-1:\n",
    "        ans1= minCostPath(arr,i+1,j)\n",
    "    else:\n",
    "        ans1= minCostPath(arr,i+1,j)\n",
    "        ans2= minCostPath(arr,i,j+1)\n",
    "        ans3= minCostPath(arr,i+1,j+1)\n",
    "    \n",
    "    return arr[i][j] + min(ans1, ans2, ans3)\n",
    "\n",
    "m,n=[int(i) for i in input().split()]\n",
    "arr=[[int(j) for j in input().split()] for i in range(m)]\n",
    "ans=minCostPath(arr,0,0)\n",
    "print(ans)"
   ]
  }
 ],
 "metadata": {
  "kernelspec": {
   "display_name": "Python 3",
   "language": "python",
   "name": "python3"
  },
  "language_info": {
   "codemirror_mode": {
    "name": "ipython",
    "version": 3
   },
   "file_extension": ".py",
   "mimetype": "text/x-python",
   "name": "python",
   "nbconvert_exporter": "python",
   "pygments_lexer": "ipython3",
   "version": "3.7.4"
  }
 },
 "nbformat": 4,
 "nbformat_minor": 2
}
