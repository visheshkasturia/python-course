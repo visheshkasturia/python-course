{
 "cells": [
  {
   "cell_type": "code",
   "execution_count": 9,
   "metadata": {},
   "outputs": [
    {
     "name": "stdout",
     "output_type": "stream",
     "text": [
      "27 18 11 5 15 9 7 1 21 56 32\n",
      "[56, 32, 27, 21, 18, 15, 11, 9, 7, 5, 1]\n"
     ]
    }
   ],
   "source": [
    "def downHeapify(li,i,n):\n",
    "    parentIndex=i\n",
    "    lci=2*parentIndex+1\n",
    "    rci=2*parentIndex+2\n",
    "    \n",
    "    while lci<n:\n",
    "        minIndex=parentIndex\n",
    "        if li[lci]<li[minIndex]:\n",
    "            minIndex=lci\n",
    "        if rci<n and li[rci]<li[minIndex]:\n",
    "            minIndex=rci\n",
    "        \n",
    "        if minIndex==parentIndex:\n",
    "            return\n",
    "        else:\n",
    "            li[parentIndex],li[minIndex]=li[minIndex],li[parentIndex]\n",
    "            parentIndex=minIndex\n",
    "            lci=2*parentIndex+1\n",
    "            rci=2*parentIndex+2\n",
    "\n",
    "def heapSort(li):\n",
    "    n=len(li)\n",
    "    #Build Heap in O(n)\n",
    "    for i in range(n//2-1,-1,-1):\n",
    "        downHeapify(li,i,n)\n",
    "    \n",
    "    #Remove n elements\n",
    "    for i in range(n-1,0,-1):\n",
    "        li[0],li[i]=li[i],li[0]\n",
    "        downHeapify(li,0,i)\n",
    "    return\n",
    "\n",
    "li=[int(x) for x in input().strip().split()]\n",
    "heapSort(li)\n",
    "print(li)"
   ]
  }
 ],
 "metadata": {
  "kernelspec": {
   "display_name": "Python 3",
   "language": "python",
   "name": "python3"
  },
  "language_info": {
   "codemirror_mode": {
    "name": "ipython",
    "version": 3
   },
   "file_extension": ".py",
   "mimetype": "text/x-python",
   "name": "python",
   "nbconvert_exporter": "python",
   "pygments_lexer": "ipython3",
   "version": "3.7.4"
  }
 },
 "nbformat": 4,
 "nbformat_minor": 2
}
