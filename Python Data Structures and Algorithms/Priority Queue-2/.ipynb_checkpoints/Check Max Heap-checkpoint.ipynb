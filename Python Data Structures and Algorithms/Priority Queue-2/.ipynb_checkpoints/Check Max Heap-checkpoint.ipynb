{
 "cells": [
  {
   "cell_type": "code",
   "execution_count": 7,
   "metadata": {},
   "outputs": [
    {
     "name": "stdout",
     "output_type": "stream",
     "text": [
      "10\n",
      "98404 77913 46653 55811 70118 44019 9465 18138 11969 90209\n",
      "false\n"
     ]
    }
   ],
   "source": [
    "import heapq\n",
    "\n",
    "def checkMaxHeap(lst):\n",
    "    \n",
    "    for i in range(len(lst)):\n",
    "        pi=i\n",
    "        lci=2*pi+1\n",
    "        rci=2*pi+2\n",
    "        \n",
    "        if lci < len(lst) and lst[pi]<lst[lci]:\n",
    "            return False\n",
    "        \n",
    "            if rci<len(lst) and lst[pi]<lst[lci]:\n",
    "                return False\n",
    "        \n",
    "    return True\n",
    "    \n",
    "\n",
    "# Main Code\n",
    "n=int(input())\n",
    "lst=list(int(i) for i in input().strip().split(' '))\n",
    "print('true') if checkMaxHeap(lst) else print('false')\n"
   ]
  }
 ],
 "metadata": {
  "kernelspec": {
   "display_name": "Python 3",
   "language": "python",
   "name": "python3"
  },
  "language_info": {
   "codemirror_mode": {
    "name": "ipython",
    "version": 3
   },
   "file_extension": ".py",
   "mimetype": "text/x-python",
   "name": "python",
   "nbconvert_exporter": "python",
   "pygments_lexer": "ipython3",
   "version": "3.7.4"
  }
 },
 "nbformat": 4,
 "nbformat_minor": 2
}
