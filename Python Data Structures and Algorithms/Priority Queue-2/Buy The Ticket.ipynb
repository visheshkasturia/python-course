{
 "cells": [
  {
   "cell_type": "code",
   "execution_count": 16,
   "metadata": {},
   "outputs": [
    {
     "name": "stdout",
     "output_type": "stream",
     "text": [
      "5\n",
      "2 3 2 2 4\n",
      "3\n",
      "4\n"
     ]
    }
   ],
   "source": [
    "import heapq\n",
    "import queue\n",
    "\n",
    "def timeTaken(li,my_index):\n",
    "    \n",
    "    q=queue.Queue()\n",
    "    time=0\n",
    "    li2=li[:]\n",
    "    for i in range(len(li)):\n",
    "        q.put(i)\n",
    "    \n",
    "    heapq._heapify_max(li)\n",
    "    flag=False\n",
    "    \n",
    "    while flag is False:\n",
    "        front=q.get()\n",
    "        if li2[front]==li[0]:\n",
    "            heapq._heappop_max(li)\n",
    "            time+=1\n",
    "            if front==my_index:\n",
    "                flag=True\n",
    "        else:\n",
    "            q.put(front)\n",
    "\n",
    "    return time\n",
    "    \n",
    "    \n",
    "n=int(input())\n",
    "li=[int(x) for x in input().strip().split()]\n",
    "my_index=int(input())\n",
    "\n",
    "ans= timeTaken(li,my_index)\n",
    "print(ans)"
   ]
  },
  {
   "cell_type": "code",
   "execution_count": null,
   "metadata": {},
   "outputs": [],
   "source": []
  }
 ],
 "metadata": {
  "kernelspec": {
   "display_name": "Python 3",
   "language": "python",
   "name": "python3"
  },
  "language_info": {
   "codemirror_mode": {
    "name": "ipython",
    "version": 3
   },
   "file_extension": ".py",
   "mimetype": "text/x-python",
   "name": "python",
   "nbconvert_exporter": "python",
   "pygments_lexer": "ipython3",
   "version": "3.7.4"
  }
 },
 "nbformat": 4,
 "nbformat_minor": 2
}
