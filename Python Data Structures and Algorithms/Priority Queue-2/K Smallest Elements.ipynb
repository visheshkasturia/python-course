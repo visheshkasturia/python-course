{
 "cells": [
  {
   "cell_type": "code",
   "execution_count": 5,
   "metadata": {},
   "outputs": [
    {
     "name": "stdout",
     "output_type": "stream",
     "text": [
      "13\n",
      "2 12 9 16 10 5 3 20 25 11 1 8 6 \n",
      "4\n",
      "5 2 3 1\n"
     ]
    }
   ],
   "source": [
    "import heapq\n",
    "def kSmallest(lst, k):\n",
    "    \n",
    "    arr=lst[:k]\n",
    "#     for i in range(0,k):\n",
    "#         arr.append(lst[i])\n",
    "    \n",
    "    heapq._heapify_max(arr)\n",
    "    \n",
    "    for i in range(k,len(lst)):\n",
    "        if lst[i]<arr[0]:\n",
    "            heapq._heapreplace_max(arr,lst[i])\n",
    "    \n",
    "#     for ele in arr:\n",
    "#         print(ele)\n",
    "    return arr\n",
    "    \n",
    "    \n",
    "\n",
    "# Main\n",
    "n=int(input())\n",
    "lst=list(int(i) for i in input().strip().split(' '))\n",
    "k=int(input())\n",
    "ans=kSmallest(lst, k)\n",
    "print(*ans)\n"
   ]
  }
 ],
 "metadata": {
  "kernelspec": {
   "display_name": "Python 3",
   "language": "python",
   "name": "python3"
  },
  "language_info": {
   "codemirror_mode": {
    "name": "ipython",
    "version": 3
   },
   "file_extension": ".py",
   "mimetype": "text/x-python",
   "name": "python",
   "nbconvert_exporter": "python",
   "pygments_lexer": "ipython3",
   "version": "3.7.4"
  }
 },
 "nbformat": 4,
 "nbformat_minor": 2
}
