{
 "cells": [
  {
   "cell_type": "code",
   "execution_count": 10,
   "metadata": {},
   "outputs": [
    {
     "name": "stdout",
     "output_type": "stream",
     "text": [
      "100000\n",
      "18\n"
     ]
    }
   ],
   "source": [
    "def minStepsTo1DP(n):\n",
    "    dp=[-1 for i in range(n+1)]\n",
    "    \n",
    "    dp[1]=0\n",
    "    i=2\n",
    "    while i<=n:\n",
    "        ans1=sys.maxsize\n",
    "        if i%3==0:\n",
    "            ans1= 1+ dp[i//3]\n",
    "        \n",
    "        ans2= sys.maxsize\n",
    "        if i%2==0:\n",
    "            ans2= 1+ dp[i//2]\n",
    "        \n",
    "        ans3= 1+ dp[i-1]\n",
    "        \n",
    "        dp[i]=min(ans1,ans2,ans3)\n",
    "        i+=1\n",
    "    \n",
    "    return dp[n]\n",
    "\n",
    "# Main\n",
    "n=int(input())\n",
    "print(minStepsTo1DP(n))\n"
   ]
  },
  {
   "cell_type": "code",
   "execution_count": 9,
   "metadata": {},
   "outputs": [
    {
     "name": "stdout",
     "output_type": "stream",
     "text": [
      "7\n",
      "3\n"
     ]
    }
   ],
   "source": [
    "def minSteps(n,dp):\n",
    "    if n==1:\n",
    "        return 0\n",
    "\n",
    "    ans3=100000\n",
    "    if n%3==0:\n",
    "        if dp[n//3]==-1:\n",
    "            ans3= minSteps(n//3,dp)\n",
    "            dp[n//3]=ans3\n",
    "        else:\n",
    "            ans3=dp[n//3]\n",
    "    \n",
    "    ans2=100000\n",
    "    if n%2==0:\n",
    "        if dp[n//2]==-1:\n",
    "            ans2= minSteps(n//2,dp)\n",
    "            dp[n//2]=ans2\n",
    "        else:\n",
    "            ans2=dp[n//2]\n",
    "            \n",
    "    ans1=10000        \n",
    "    if dp[n-1]==-1:\n",
    "        ans1= minSteps(n-1,dp)\n",
    "        dp[n-1]=ans1\n",
    "    else:\n",
    "        ans1=dp[n-1]\n",
    "    \n",
    "    \n",
    "\n",
    "    \n",
    "    myAns= 1+ min(ans1,ans2,ans3)\n",
    "    return myAns\n",
    "\n",
    "\n",
    "n=int(input())\n",
    "dp=[-1 for i in range(n+1)]\n",
    "ans=minSteps(n,dp)\n",
    "print(ans)"
   ]
  },
  {
   "cell_type": "code",
   "execution_count": 7,
   "metadata": {},
   "outputs": [
    {
     "data": {
      "text/plain": [
       "9223372036854775807"
      ]
     },
     "execution_count": 7,
     "metadata": {},
     "output_type": "execute_result"
    }
   ],
   "source": [
    "import sys\n",
    "sys.maxsize"
   ]
  }
 ],
 "metadata": {
  "kernelspec": {
   "display_name": "Python 3",
   "language": "python",
   "name": "python3"
  },
  "language_info": {
   "codemirror_mode": {
    "name": "ipython",
    "version": 3
   },
   "file_extension": ".py",
   "mimetype": "text/x-python",
   "name": "python",
   "nbconvert_exporter": "python",
   "pygments_lexer": "ipython3",
   "version": "3.7.4"
  }
 },
 "nbformat": 4,
 "nbformat_minor": 2
}
