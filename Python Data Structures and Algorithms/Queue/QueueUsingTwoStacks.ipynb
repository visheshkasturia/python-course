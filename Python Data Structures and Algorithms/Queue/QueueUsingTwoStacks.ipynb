{
 "cells": [
  {
   "cell_type": "code",
   "execution_count": 13,
   "metadata": {},
   "outputs": [
    {
     "name": "stdout",
     "output_type": "stream",
     "text": [
      "[5]\n",
      "[10, 5]\n"
     ]
    },
    {
     "data": {
      "text/plain": [
       "10"
      ]
     },
     "execution_count": 13,
     "metadata": {},
     "output_type": "execute_result"
    }
   ],
   "source": [
    "class QueueUsingTwoStacks:\n",
    "    \n",
    "    def __init__(self):\n",
    "        self.__s1=[]\n",
    "        self.__s2=[]\n",
    "        self.__size=0\n",
    "    \n",
    "    def enque(self,data):\n",
    "        #O(n) operation\n",
    "        if self.__size==0:\n",
    "            self.__s1.append(data)\n",
    "        else:\n",
    "            while len(self.__s1)!=0:\n",
    "                self.__s2.append(self.__s1.pop())\n",
    "\n",
    "            self.__s1.append(data)\n",
    "            while len(self.__s2)!=0:\n",
    "                self.__s1.append(self.__s2.pop())\n",
    "        print(self.__s1)\n",
    "        self.__size+=1\n",
    "    \n",
    "    def deque(self):\n",
    "        if self.__size==0:\n",
    "            return -1\n",
    "        self.__size-=1\n",
    "        return self.__s1.pop()\n",
    "    \n",
    "    def front(self):\n",
    "        return self.__s1[-1]\n",
    "    \n",
    "    def getSize(self):\n",
    "        return self.__size\n",
    "    \n",
    "\n",
    "q=QueueUsingTwoStacks()     "
   ]
  }
 ],
 "metadata": {
  "kernelspec": {
   "display_name": "Python 3",
   "language": "python",
   "name": "python3"
  },
  "language_info": {
   "codemirror_mode": {
    "name": "ipython",
    "version": 3
   },
   "file_extension": ".py",
   "mimetype": "text/x-python",
   "name": "python",
   "nbconvert_exporter": "python",
   "pygments_lexer": "ipython3",
   "version": "3.7.4"
  }
 },
 "nbformat": 4,
 "nbformat_minor": 2
}
