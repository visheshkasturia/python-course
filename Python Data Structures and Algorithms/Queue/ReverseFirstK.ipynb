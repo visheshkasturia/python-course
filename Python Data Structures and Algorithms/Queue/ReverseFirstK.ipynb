{
 "cells": [
  {
   "cell_type": "code",
   "execution_count": 2,
   "metadata": {},
   "outputs": [
    {
     "name": "stdout",
     "output_type": "stream",
     "text": [
      "5\n",
      "1 2 3 4 5\n",
      "3\n",
      "3\n",
      "2\n",
      "1\n",
      "4\n",
      "5\n"
     ]
    }
   ],
   "source": [
    "\n",
    "import queue\n",
    "\n",
    "\n",
    "  \n",
    "def reverseFirstK(q,k):\n",
    "    if k==0:\n",
    "        return\n",
    "    \n",
    "    newBack=q.get()\n",
    "    reverseFirstK(q,k-1)\n",
    "    q.put(newBack)\n",
    "\n",
    "        \n",
    "from sys import setrecursionlimit\n",
    "setrecursionlimit(11000)\n",
    "n = int(input())\n",
    "li = [int(ele) for ele in input().split()]\n",
    "q = queue.Queue()\n",
    "for ele in li:\n",
    "    q.put(ele)\n",
    "k = int(input())\n",
    "reverseFirstK(q,k)\n",
    "for i in range(n-k):\n",
    "    q.put(q.get())\n",
    "while(q.qsize()>0):\n",
    "    print(q.get())\n",
    "    n-=1"
   ]
  }
 ],
 "metadata": {
  "kernelspec": {
   "display_name": "Python 3",
   "language": "python",
   "name": "python3"
  },
  "language_info": {
   "codemirror_mode": {
    "name": "ipython",
    "version": 3
   },
   "file_extension": ".py",
   "mimetype": "text/x-python",
   "name": "python",
   "nbconvert_exporter": "python",
   "pygments_lexer": "ipython3",
   "version": "3.7.4"
  }
 },
 "nbformat": 4,
 "nbformat_minor": 2
}
