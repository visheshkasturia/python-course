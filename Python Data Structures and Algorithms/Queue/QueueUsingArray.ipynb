{
 "cells": [
  {
   "cell_type": "code",
   "execution_count": 21,
   "metadata": {},
   "outputs": [],
   "source": [
    "class QueueUsingArray:\n",
    "    \n",
    "    def __init__(self):\n",
    "        self.__arr=[]\n",
    "        self.__front= None\n",
    "        self.__count= 0\n",
    "    \n",
    "    def enque(self,data):\n",
    "        if self.__front is None:\n",
    "            self.__front=0\n",
    "        self.__arr.append(data)\n",
    "        self.__count+=1\n",
    "        \n",
    "    def deque(self):\n",
    "        if self.__count==0:\n",
    "            print(\"Queue is Empty\")\n",
    "        else:\n",
    "            ele=self.__arr[self.__front]\n",
    "            self.__front+=1\n",
    "            self.__count-=1\n",
    "            return ele\n",
    "    \n",
    "    def getSize(self):\n",
    "        return self.__count\n",
    "    \n",
    "    def isEmpty(self):\n",
    "        return self.__count==0\n",
    "    \n",
    "    def front(self):\n",
    "        if self.__count==0:\n",
    "            return -1\n",
    "        else:\n",
    "            return self.__arr[self.__front]\n",
    "    \n",
    "    def printQueue(self):\n",
    "        if not self.isEmpty():\n",
    "            print(self.__arr[self.__front:])\n",
    "        else:\n",
    "            print(\"Queue is EMpty\")\n",
    "\n"
   ]
  },
  {
   "cell_type": "code",
   "execution_count": 20,
   "metadata": {},
   "outputs": [
    {
     "name": "stdout",
     "output_type": "stream",
     "text": [
      "Queue is EMpty\n",
      "[15, 16, 17, 18, 19]\n",
      "[16, 17, 18, 19]\n",
      "16\n",
      "[17, 18, 19]\n",
      "17\n",
      "[18, 19]\n",
      "18\n",
      "[19]\n",
      "19\n",
      "Queue is EMpty\n",
      "Queue is Empty\n",
      "None\n",
      "Queue is EMpty\n"
     ]
    }
   ],
   "source": [
    "q= QueueUsingArray()\n",
    "q.printQueue()\n",
    "for i in range(15,20):\n",
    "    q.enque(i)\n",
    "\n",
    "q.printQueue()\n",
    "q.deque()\n",
    "q.printQueue()\n",
    "for i in range(5):\n",
    "    print(q.deque())\n",
    "    q.printQueue()\n",
    "    "
   ]
  }
 ],
 "metadata": {
  "kernelspec": {
   "display_name": "Python 3",
   "language": "python",
   "name": "python3"
  },
  "language_info": {
   "codemirror_mode": {
    "name": "ipython",
    "version": 3
   },
   "file_extension": ".py",
   "mimetype": "text/x-python",
   "name": "python",
   "nbconvert_exporter": "python",
   "pygments_lexer": "ipython3",
   "version": "3.7.4"
  }
 },
 "nbformat": 4,
 "nbformat_minor": 2
}
