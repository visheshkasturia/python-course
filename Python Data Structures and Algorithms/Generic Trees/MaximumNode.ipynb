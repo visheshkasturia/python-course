{
 "cells": [
  {
   "cell_type": "code",
   "execution_count": 7,
   "metadata": {},
   "outputs": [
    {
     "name": "stdout",
     "output_type": "stream",
     "text": [
      "Enter Root Data\n",
      "15\n",
      "Enter Number of Children for  15\n",
      "2\n",
      "Enter Root Data\n",
      "19\n",
      "Enter Number of Children for  19\n",
      "1\n",
      "Enter Root Data\n",
      "20\n",
      "Enter Number of Children for  20\n",
      "0\n",
      "Enter Root Data\n",
      "12\n",
      "Enter Number of Children for  12\n",
      "0\n",
      "15 :19 ,12 ,\n",
      "19 :20 ,\n",
      "20 :\n",
      "12 :\n",
      "20\n"
     ]
    }
   ],
   "source": [
    "class TreeNode:\n",
    "    def __init__(self,data):\n",
    "        self.data=data\n",
    "        self.children = list()\n",
    "\n",
    "def takeTreeInput():\n",
    "    print(\"Enter Root Data\")\n",
    "    rootData=int(input())\n",
    "    if rootData==-1:\n",
    "        return None\n",
    "    \n",
    "    root=TreeNode(rootData)\n",
    "    \n",
    "    print(\"Enter Number of Children for \",rootData)\n",
    "    childrenCount=int(input())\n",
    "    for i in range(childrenCount):\n",
    "        child=takeTreeInput()\n",
    "        root.children.append(child)\n",
    "    return root\n",
    "\n",
    "def getMaxNode(root):\n",
    "    if root is None:\n",
    "        return\n",
    "    \n",
    "    if root.children==[]:\n",
    "        return root\n",
    "    \n",
    "    maximum=-10000\n",
    "    maxNode=None\n",
    "    \n",
    "    for child in root.children:\n",
    "        a=getMaxNode(child)\n",
    "        if a.data>maximum:\n",
    "            maximum=a.data\n",
    "            maxNode=a\n",
    "    \n",
    "    if root.data>maxNode.data:\n",
    "        return root\n",
    "    else:\n",
    "        return maxNode\n",
    "\n",
    "def printTreeDetailed(root):\n",
    "    if root is None:\n",
    "        return\n",
    "    \n",
    "    print(root.data,\":\",end=\"\")\n",
    "    for child in root.children:\n",
    "        print(child.data,\",\",end=\"\")\n",
    "    print()\n",
    "    for child in root.children:\n",
    "        printTreeDetailed(child)\n",
    "\n",
    "root=takeTreeInput()\n",
    "printTreeDetailed(root)\n",
    "\n",
    "print(getMaxNode(root).data)"
   ]
  },
  {
   "cell_type": "code",
   "execution_count": null,
   "metadata": {},
   "outputs": [],
   "source": []
  }
 ],
 "metadata": {
  "kernelspec": {
   "display_name": "Python 3",
   "language": "python",
   "name": "python3"
  },
  "language_info": {
   "codemirror_mode": {
    "name": "ipython",
    "version": 3
   },
   "file_extension": ".py",
   "mimetype": "text/x-python",
   "name": "python",
   "nbconvert_exporter": "python",
   "pygments_lexer": "ipython3",
   "version": "3.7.4"
  }
 },
 "nbformat": 4,
 "nbformat_minor": 2
}
