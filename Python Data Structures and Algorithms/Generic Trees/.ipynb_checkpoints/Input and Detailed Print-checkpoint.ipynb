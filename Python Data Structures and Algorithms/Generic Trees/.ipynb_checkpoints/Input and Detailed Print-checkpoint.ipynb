{
 "cells": [
  {
   "cell_type": "code",
   "execution_count": 2,
   "metadata": {},
   "outputs": [
    {
     "name": "stdout",
     "output_type": "stream",
     "text": [
      "Enter Root Data\n",
      "5\n",
      "Enter Number of Children for  5\n",
      "4\n",
      "Enter Root Data\n",
      "10\n",
      "Enter Number of Children for  10\n",
      "0\n",
      "Enter Root Data\n",
      "15\n",
      "Enter Number of Children for  15\n",
      "2\n",
      "Enter Root Data\n",
      "19\n",
      "Enter Number of Children for  19\n",
      "0\n",
      "Enter Root Data\n",
      "12\n",
      "Enter Number of Children for  12\n",
      "0\n",
      "Enter Root Data\n",
      "13\n",
      "Enter Number of Children for  13\n",
      "0\n",
      "Enter Root Data\n",
      "2\n",
      "Enter Number of Children for  2\n",
      "0\n",
      "5 :10 ,15 ,13 ,2 ,\n",
      "10 :\n",
      "15 :19 ,12 ,\n",
      "19 :\n",
      "12 :\n",
      "13 :\n",
      "2 :\n"
     ]
    }
   ],
   "source": [
    "class TreeNode:\n",
    "    def __init__(self,data):\n",
    "        self.data=data\n",
    "        self.children = list()\n",
    "\n",
    "def takeTreeInput():\n",
    "    print(\"Enter Root Data\")\n",
    "    rootData=int(input())\n",
    "    if rootData==-1:\n",
    "        return None\n",
    "    \n",
    "    root=TreeNode(rootData)\n",
    "    \n",
    "    print(\"Enter Number of Children for \",rootData)\n",
    "    childrenCount=int(input())\n",
    "    for i in range(childrenCount):\n",
    "        child=takeTreeInput()\n",
    "        root.children.append(child)\n",
    "    \n",
    "    return root\n",
    "\n",
    "def printTreeDetailed(root):\n",
    "    if root is None:\n",
    "        return\n",
    "    \n",
    "    print(root.data,\":\",end=\"\")\n",
    "    for child in root.children:\n",
    "        print(child.data,\",\",end=\"\")\n",
    "    print()\n",
    "    for child in root.children:\n",
    "        printTreeDetailed(child)\n",
    "\n",
    "root=takeTreeInput()\n",
    "printTreeDetailed(root)"
   ]
  }
 ],
 "metadata": {
  "kernelspec": {
   "display_name": "Python 3",
   "language": "python",
   "name": "python3"
  },
  "language_info": {
   "codemirror_mode": {
    "name": "ipython",
    "version": 3
   },
   "file_extension": ".py",
   "mimetype": "text/x-python",
   "name": "python",
   "nbconvert_exporter": "python",
   "pygments_lexer": "ipython3",
   "version": "3.7.4"
  }
 },
 "nbformat": 4,
 "nbformat_minor": 2
}
