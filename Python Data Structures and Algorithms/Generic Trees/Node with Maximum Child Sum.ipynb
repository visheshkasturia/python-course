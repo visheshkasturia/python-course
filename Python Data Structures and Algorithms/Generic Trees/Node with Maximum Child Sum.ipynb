{
 "cells": [
  {
   "cell_type": "code",
   "execution_count": 2,
   "metadata": {},
   "outputs": [
    {
     "name": "stdout",
     "output_type": "stream",
     "text": [
      "1 1 2 2 30 4 1 5 1 60 1 70 1 8 1 9 1 100 0 0\n",
      "1 :2 ,\n",
      "2 :30 ,4 ,\n",
      "30 :5 ,\n",
      "5 :70 ,\n",
      "70 :9 ,\n",
      "9 :\n",
      "4 :60 ,\n",
      "60 :8 ,\n",
      "8 :100 ,\n",
      "100 :\n"
     ]
    }
   ],
   "source": [
    "class treeNode:\n",
    "    def __init__(self, data):\n",
    "        self.data = data\n",
    "        self.children = []\n",
    "\n",
    "def maxSumNodeHelper(tree):\n",
    "    if tree is None:\n",
    "        return \n",
    "    \n",
    "    s=0\n",
    "    for child in tree.children:\n",
    "        s=s+child.data\n",
    "    \n",
    "    maxSum=s\n",
    "    maxSumNode=tree\n",
    "    \n",
    "    for child in tree.children:\n",
    "        childSum,childNode=maxSumNodeHelper(child)\n",
    "        if childSum>maxSum:\n",
    "            maxSum=childSum\n",
    "            maxSumNode=childNode\n",
    "    \n",
    "    return maxSum,maxSumNode\n",
    "\n",
    "def maxSumNode(tree):\n",
    "    maxSum,maxSumNode=maxSumNodeHelper(tree)\n",
    "    return maxSumNode,maxSum\n",
    "    \n",
    "\n",
    "def createLevelWiseTree(arr):\n",
    "    root = treeNode(int(arr[0]))\n",
    "    q = [root]\n",
    "    size = len(arr)\n",
    "    i = 1\n",
    "    while i<size:\n",
    "        parent = q.pop(0)\n",
    "        childCount = int(arr[i])\n",
    "        i += 1\n",
    "        for j in range(0,childCount):\n",
    "            temp = treeNode(int(arr[i+j]))\n",
    "            parent.children.append(temp)\n",
    "            q.append(temp)\n",
    "        i += childCount\n",
    "    return root\n",
    "\n",
    "def printTreeDetailed(root):\n",
    "    if root is None:\n",
    "        return\n",
    "    \n",
    "    print(root.data,\":\",end=\"\")\n",
    "    for child in root.children:\n",
    "        print(child.data,\",\",end=\"\")\n",
    "    print()\n",
    "    for child in root.children:\n",
    "        printTreeDetailed(child)\n",
    "\n",
    "# Main\n",
    "arr = list(int(x) for x in input().strip().split(' '))\n",
    "tree = createLevelWiseTree(arr)\n",
    "printTreeDetailed(tree)\n",
    "temp, tempSum = maxSumNode(tree)\n",
    "print(temp.data)\n"
   ]
  }
 ],
 "metadata": {
  "kernelspec": {
   "display_name": "Python 3",
   "language": "python",
   "name": "python3"
  },
  "language_info": {
   "codemirror_mode": {
    "name": "ipython",
    "version": 3
   },
   "file_extension": ".py",
   "mimetype": "text/x-python",
   "name": "python",
   "nbconvert_exporter": "python",
   "pygments_lexer": "ipython3",
   "version": "3.7.4"
  }
 },
 "nbformat": 4,
 "nbformat_minor": 2
}
