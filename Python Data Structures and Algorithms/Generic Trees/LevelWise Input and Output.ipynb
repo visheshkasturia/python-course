{
 "cells": [
  {
   "cell_type": "code",
   "execution_count": 3,
   "metadata": {},
   "outputs": [
    {
     "name": "stdout",
     "output_type": "stream",
     "text": [
      "5 2 19 12 1 20 0 0 0\n",
      "5 :19 ,12 ,\n",
      "19 :20 ,\n",
      "20 :\n",
      "12 :\n",
      "5 \n",
      "19 12 \n",
      "20 "
     ]
    }
   ],
   "source": [
    "import queue\n",
    "class TreeNode:\n",
    "    def __init__(self, data):\n",
    "        self.data = data\n",
    "        self.children = []\n",
    "    def __str__(self):\n",
    "        return str(self.data)\n",
    "\n",
    "\n",
    "def levelWiseTreeInput():\n",
    "    li=[int(x) for x in input().strip().split()]\n",
    "    rootData=li[0]\n",
    "    root=TreeNode(rootData)\n",
    "    q=queue.Queue()\n",
    "    q.put(root)\n",
    "    i=1\n",
    "    while(not(q.empty())):\n",
    "        childCount=li[i]\n",
    "        currentNode=q.get()\n",
    "        for j in range(childCount):\n",
    "            i+=1\n",
    "            childData=li[i]\n",
    "            childNode=TreeNode(childData)\n",
    "            currentNode.children.append(childNode)\n",
    "            q.put(childNode)\n",
    "        i+=1\n",
    "    return root\n",
    "        \n",
    "def printTreeDetailed(root):\n",
    "    if root is None:\n",
    "        return\n",
    "    \n",
    "    print(root.data,\":\",end=\"\")\n",
    "    for child in root.children:\n",
    "        print(child.data,\",\",end=\"\")\n",
    "    print()\n",
    "    for child in root.children:\n",
    "        printTreeDetailed(child)\n",
    "    \n",
    "def printTreeLevelWise(root):\n",
    "    q=queue.Queue()\n",
    "    q.put(root)\n",
    "    q.put(None)\n",
    "    while(not(q.empty())):\n",
    "        currentNode=q.get()\n",
    "        if currentNode!=None:\n",
    "            print(currentNode.data,end=\" \")\n",
    "            for child in currentNode.children:\n",
    "                q.put(child)\n",
    "        else:\n",
    "            if not(q.empty()):\n",
    "                print()\n",
    "                q.put(None)\n",
    "    \n",
    "        \n",
    "root=levelWiseTreeInput()\n",
    "printTreeDetailed(root)\n",
    "printTreeLevelWise(root)\n",
    "        "
   ]
  },
  {
   "cell_type": "code",
   "execution_count": null,
   "metadata": {},
   "outputs": [],
   "source": []
  }
 ],
 "metadata": {
  "kernelspec": {
   "display_name": "Python 3",
   "language": "python",
   "name": "python3"
  },
  "language_info": {
   "codemirror_mode": {
    "name": "ipython",
    "version": 3
   },
   "file_extension": ".py",
   "mimetype": "text/x-python",
   "name": "python",
   "nbconvert_exporter": "python",
   "pygments_lexer": "ipython3",
   "version": "3.7.4"
  }
 },
 "nbformat": 4,
 "nbformat_minor": 2
}
