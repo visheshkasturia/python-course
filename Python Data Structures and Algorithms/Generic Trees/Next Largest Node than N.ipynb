{
 "cells": [
  {
   "cell_type": "code",
   "execution_count": null,
   "metadata": {},
   "outputs": [],
   "source": [
    "class treeNode:\n",
    "    def __init__(self, data):\n",
    "        self.data = data\n",
    "        self.children = []\n",
    "\n",
    "def nextLargest(tree, n):\n",
    "    if tree is None:\n",
    "        return\n",
    "    \n",
    "    minDiff=tree.data-n\n",
    "    if minDiff<=0:\n",
    "        minDiff=100000\n",
    "    minDiffNode=tree\n",
    "    \n",
    "    for child in tree.children:\n",
    "        minChild=nextLargest(child, n)\n",
    "        if minChild==None:\n",
    "            continue\n",
    "        if minChild.data-n<minDiff:\n",
    "            minDiff=minChild.data-n\n",
    "            minDiffNode=minChild\n",
    "    \n",
    "    if minDiff=100000\n",
    "        return None\n",
    "    \n",
    "    return minDiffNode\n",
    "\n",
    "def createLevelWiseTree(arr):\n",
    "    root = treeNode(int(arr[0]))\n",
    "    q = [root]\n",
    "    size = len(arr)\n",
    "    i = 1\n",
    "    while i<size:\n",
    "        parent = q.pop(0)\n",
    "        childCount = int(arr[i])\n",
    "        i += 1\n",
    "        for j in range(0,childCount):\n",
    "            temp = treeNode(int(arr[i+j]))\n",
    "            parent.children.append(temp)\n",
    "            q.append(temp)\n",
    "        i += childCount\n",
    "    return root\n",
    "\n",
    "# Main\n",
    "n = int(input())\n",
    "arr = list(int(x) for x in input().strip().split(' '))\n",
    "tree = createLevelWiseTree(arr)\n",
    "print(nextLargest(tree, n).data)\n"
   ]
  }
 ],
 "metadata": {
  "kernelspec": {
   "display_name": "Python 3",
   "language": "python",
   "name": "python3"
  },
  "language_info": {
   "codemirror_mode": {
    "name": "ipython",
    "version": 3
   },
   "file_extension": ".py",
   "mimetype": "text/x-python",
   "name": "python",
   "nbconvert_exporter": "python",
   "pygments_lexer": "ipython3",
   "version": "3.7.4"
  }
 },
 "nbformat": 4,
 "nbformat_minor": 2
}
