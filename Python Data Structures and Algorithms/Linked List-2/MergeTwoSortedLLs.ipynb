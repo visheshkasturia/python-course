{
 "cells": [
  {
   "cell_type": "code",
   "execution_count": 5,
   "metadata": {},
   "outputs": [
    {
     "name": "stdout",
     "output_type": "stream",
     "text": [
      "1 5 20 22 30 -1\n",
      "2 3 6 11 -1\n",
      "1->2->3->5->6->11->20->22->30->None\n"
     ]
    }
   ],
   "source": [
    "class Node:\n",
    "    def __init__(self,data):\n",
    "        self.data=data\n",
    "        self.next=None\n",
    "\n",
    "def takeInput():\n",
    "    inputList=[int(x) for x in input().split()]\n",
    "    \n",
    "    head=None\n",
    "    tail=None\n",
    "    \n",
    "    for currData in inputList:\n",
    "        if currData==-1:\n",
    "            break\n",
    "        newNode=Node(currData)\n",
    "        if head is None:\n",
    "            head =newNode\n",
    "            tail=head\n",
    "        else:\n",
    "            tail.next=newNode\n",
    "            tail=newNode\n",
    "    return head\n",
    "\n",
    "def mergeTwoSortedLL(head1,head2):\n",
    "    fH=None\n",
    "    fT=None\n",
    "    if head1.data<=head2.data:\n",
    "        fH=head1\n",
    "        fT=head1\n",
    "        head1=head1.next\n",
    "    else:\n",
    "        fH=head2\n",
    "        fT=head2\n",
    "        head2=head2.next\n",
    "    \n",
    "    while head1 is not None and head2 is not None:\n",
    "        if head1.data<=head2.data:\n",
    "            fT.next=head1\n",
    "            fT=head1\n",
    "            head1=head1.next\n",
    "        else:\n",
    "            fT.next=head2\n",
    "            fT=head2\n",
    "            head2=head2.next\n",
    "    \n",
    "    while head1 is not None:\n",
    "        fT.next=head1\n",
    "        fT=head1\n",
    "        head1=head1.next\n",
    "    while head2 is not None:\n",
    "        fT.next=head2\n",
    "        fT=head2\n",
    "        head2=head2.next\n",
    "        \n",
    "    return fH\n",
    "\n",
    "def printLL(head):\n",
    "    while head is not None:\n",
    "        print(str(head.data)+\"->\",end=\"\")\n",
    "        head=head.next\n",
    "    print(\"None\")\n",
    "\n",
    "head1=takeInput()\n",
    "head2=takeInput()\n",
    "fH=mergeTwoSortedLL(head1,head2)\n",
    "printLL(fH)"
   ]
  }
 ],
 "metadata": {
  "kernelspec": {
   "display_name": "Python 3",
   "language": "python",
   "name": "python3"
  },
  "language_info": {
   "codemirror_mode": {
    "name": "ipython",
    "version": 3
   },
   "file_extension": ".py",
   "mimetype": "text/x-python",
   "name": "python",
   "nbconvert_exporter": "python",
   "pygments_lexer": "ipython3",
   "version": "3.7.4"
  }
 },
 "nbformat": 4,
 "nbformat_minor": 2
}
