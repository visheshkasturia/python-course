{
 "cells": [
  {
   "cell_type": "code",
   "execution_count": 13,
   "metadata": {},
   "outputs": [
    {
     "name": "stdout",
     "output_type": "stream",
     "text": [
      "37\n",
      "Time Taken by DP fib rec=  0.00016498565673828125\n",
      "Answer=  24157817\n",
      "Time Taken by DP fib iter=  0.00014400482177734375\n",
      "Answer=  24157817\n",
      "Time Taken by normal recursive fib=  10.795428037643433\n",
      "Answer=  24157817\n"
     ]
    }
   ],
   "source": [
    "import time\n",
    "import sys\n",
    "def fib_mem(n,dp):\n",
    "    if n==0 or n==1:\n",
    "        return n\n",
    "    \n",
    "    if dp[n-1]==-1:\n",
    "        ans1= fib_mem(n-1,dp)\n",
    "        dp[n-1]=ans1\n",
    "    else:\n",
    "        ans1=dp[n-1]\n",
    "    \n",
    "    if dp[n-2]==-1:\n",
    "        ans2= fib_mem(n-2,dp)\n",
    "        dp[n-2]=ans2\n",
    "    else:\n",
    "        ans2=dp[n-2]\n",
    "    \n",
    "    myAns=ans1 + ans2\n",
    "    return myAns\n",
    "\n",
    "def fib_iter(n):\n",
    "    dp1=[-1 for i in range(n+1)]\n",
    "    dp[0]=0\n",
    "    dp[1]=1\n",
    "    i=2\n",
    "    while i<=n:\n",
    "        dp[i]= dp[i-1]+dp[i-2]\n",
    "        i+=1\n",
    "    \n",
    "    return dp[n]\n",
    "\n",
    "def fib_normal(n):\n",
    "    if n==0 or n==1:\n",
    "        return n\n",
    "    \n",
    "    ans1= fib_normal(n-1)\n",
    "    ans2= fib_normal(n-2)\n",
    "    myAns=ans1 + ans2\n",
    "    \n",
    "    return myAns\n",
    "\n",
    "\n",
    "sys.setrecursionlimit(12000)\n",
    "n=int(input())\n",
    "dp=[-1 for x in range(n+1)]\n",
    "\n",
    "start=time.time()\n",
    "ans=fib_mem(n,dp)\n",
    "end=time.time()\n",
    "tt= end-start\n",
    "print(\"Time Taken by DP fib rec= \",tt)\n",
    "print(\"Answer= \",ans)\n",
    "\n",
    "start=time.time()\n",
    "ans=fib_iter(n)\n",
    "end=time.time()\n",
    "tt= end-start\n",
    "print(\"Time Taken by DP fib iter= \",tt)\n",
    "print(\"Answer= \",ans)\n",
    "\n",
    "start=time.time()\n",
    "ans=fib_normal(n)\n",
    "end=time.time()\n",
    "tt= end-start\n",
    "print(\"Time Taken by normal recursive fib= \",tt)\n",
    "print(\"Answer= \",ans)\n",
    "\n",
    "\n",
    "\n"
   ]
  }
 ],
 "metadata": {
  "kernelspec": {
   "display_name": "Python 3",
   "language": "python",
   "name": "python3"
  },
  "language_info": {
   "codemirror_mode": {
    "name": "ipython",
    "version": 3
   },
   "file_extension": ".py",
   "mimetype": "text/x-python",
   "name": "python",
   "nbconvert_exporter": "python",
   "pygments_lexer": "ipython3",
   "version": "3.7.4"
  }
 },
 "nbformat": 4,
 "nbformat_minor": 2
}
