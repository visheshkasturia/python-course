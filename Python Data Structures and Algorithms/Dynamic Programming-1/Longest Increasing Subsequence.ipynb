{
 "cells": [
  {
   "cell_type": "markdown",
   "metadata": {},
   "source": [
    "### Recursive"
   ]
  },
  {
   "cell_type": "code",
   "execution_count": 16,
   "metadata": {},
   "outputs": [
    {
     "name": "stdout",
     "output_type": "stream",
     "text": [
      "6 3 1 2 7 0 9\n",
      "4\n"
     ]
    }
   ],
   "source": [
    "def longestInreasingSubsequence(arr,si,ei):\n",
    "    if si==ei:\n",
    "        return 1,1\n",
    "    \n",
    "    ans_inc_si=1\n",
    "    \n",
    "    i=si+1\n",
    "    while i<=ei:\n",
    "        if arr[i]>=arr[si]:\n",
    "            further_ans_inc_si=longestInreasingSubsequence(arr,i,ei)[0]\n",
    "            ans_inc_si= max(ans_inc_si,1+further_ans_inc_si)\n",
    "        i+=1\n",
    "    ans_exc_si=longestInreasingSubsequence(arr,si+1,ei)[1]\n",
    "    overall_max=max(ans_inc_si,ans_exc_si)\n",
    "    return ans_inc_si,overall_max\n",
    "    \n",
    "arr=[int(x) for x in input().split()]\n",
    "ans=longestInreasingSubsequence(arr,0,len(arr)-1)[1]\n",
    "print(ans)\n",
    "    "
   ]
  },
  {
   "cell_type": "markdown",
   "metadata": {},
   "source": [
    "### Memoization"
   ]
  },
  {
   "cell_type": "code",
   "execution_count": 28,
   "metadata": {},
   "outputs": [
    {
     "name": "stdout",
     "output_type": "stream",
     "text": [
      "6 3 1 2 7 0 9\n",
      "4\n"
     ]
    }
   ],
   "source": [
    "def lis_mem(arr,si,ei,dp):\n",
    "    if si==ei:\n",
    "        return 1,1\n",
    "    \n",
    "    ans_inc_si=1\n",
    "    \n",
    "    i=si+1\n",
    "    while i<=ei:\n",
    "        if arr[i]>=arr[si]:\n",
    "            further_ans_inc_si=None\n",
    "            if dp[i]==-1:\n",
    "                ans=lis_mem(arr,i,ei,dp)\n",
    "                dp[i]=ans\n",
    "                further_ans_inc_si=ans[0]\n",
    "            else:\n",
    "                further_ans_inc_si=dp[i][0]\n",
    "            ans_inc_si= max(ans_inc_si,1+further_ans_inc_si)\n",
    "        i+=1\n",
    "        \n",
    "    ans_exc_si=None\n",
    "    if dp[si+1]==-1:\n",
    "        ans=lis_mem(arr,si+1,ei,dp)\n",
    "        dp[si+1]=ans\n",
    "        ans_exc_si=ans[1]\n",
    "    else:\n",
    "        ans_exc_si=dp[si+1][1]\n",
    "    overall_max=max(ans_inc_si,ans_exc_si)\n",
    "    return ans_inc_si,overall_max\n",
    "\n",
    "n=int(input())\n",
    "arr=[int(x) for x in input().split()]\n",
    "dp=[-1 for x in range(n)]\n",
    "ans=lis_mem(arr,0,len(arr)-1,dp)[1]\n",
    "print(ans)"
   ]
  },
  {
   "cell_type": "markdown",
   "metadata": {},
   "source": [
    "### Iterative"
   ]
  },
  {
   "cell_type": "code",
   "execution_count": 33,
   "metadata": {},
   "outputs": [
    {
     "name": "stdout",
     "output_type": "stream",
     "text": [
      "7\n",
      "6 3 1 2 7 0 9\n",
      "4\n"
     ]
    }
   ],
   "source": [
    "def lis_iter(arr):\n",
    "    dp=[[-1 for i in range(2)] for x in range(len(arr))]\n",
    "    dp[len(arr)-1]=[1,1]\n",
    "    \n",
    "    for i in range(len(arr)-2,-1,-1):\n",
    "        ans_inc=1\n",
    "        ans_exc=0\n",
    "        for j in range(i+1,len(arr)):\n",
    "            if arr[j]>arr[i]:\n",
    "                currAns_inc=dp[j][0]\n",
    "                ans_inc=max(ans_inc,currAns_inc+1)\n",
    "        ans_exc=dp[i+1][1]\n",
    "        overall_max=max(ans_inc,ans_exc)\n",
    "        dp[i][0],dp[i][1]=ans_inc,overall_max\n",
    "    \n",
    "    return dp[0][1]\n",
    "\n",
    "n=int(input())\n",
    "arr=[int(x) for x in input().split()]\n",
    "ans=lis_iter(arr)\n",
    "print(ans)"
   ]
  }
 ],
 "metadata": {
  "kernelspec": {
   "display_name": "Python 3",
   "language": "python",
   "name": "python3"
  },
  "language_info": {
   "codemirror_mode": {
    "name": "ipython",
    "version": 3
   },
   "file_extension": ".py",
   "mimetype": "text/x-python",
   "name": "python",
   "nbconvert_exporter": "python",
   "pygments_lexer": "ipython3",
   "version": "3.7.4"
  }
 },
 "nbformat": 4,
 "nbformat_minor": 2
}
