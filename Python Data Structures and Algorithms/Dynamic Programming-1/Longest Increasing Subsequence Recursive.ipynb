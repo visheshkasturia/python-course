{
 "cells": [
  {
   "cell_type": "markdown",
   "metadata": {},
   "source": [
    "### Recursive"
   ]
  },
  {
   "cell_type": "code",
   "execution_count": 1,
   "metadata": {},
   "outputs": [
    {
     "name": "stdout",
     "output_type": "stream",
     "text": [
      "6 3 1 2 7 0 9\n",
      "4\n"
     ]
    }
   ],
   "source": [
    "def longestInreasingSubsequence(arr,si,ei):\n",
    "    if si==ei:\n",
    "        return 1,1\n",
    "    \n",
    "    ans_inc_si=1\n",
    "    \n",
    "    i=si+1\n",
    "    while i<=ei:\n",
    "        if arr[i]>=arr[si]:\n",
    "            further_ans_inc_si=longestInreasingSubsequence(arr,i,ei)[0]\n",
    "            ans_inc_si= max(ans_inc_si,1+further_ans_inc_si)\n",
    "        i+=1\n",
    "    ans_exc_si=longestInreasingSubsequence(arr,si+1,ei)[1]\n",
    "    overall_max=max(ans_inc_si,ans_exc_si)\n",
    "    return ans_inc_si,overall_max\n",
    "    \n",
    "arr=[int(x) for x in input().split()]\n",
    "ans=longestInreasingSubsequence(arr,0,len(arr)-1)[1]\n",
    "print(ans)"
   ]
  }
 ],
 "metadata": {
  "kernelspec": {
   "display_name": "Python 3",
   "language": "python",
   "name": "python3"
  },
  "language_info": {
   "codemirror_mode": {
    "name": "ipython",
    "version": 3
   },
   "file_extension": ".py",
   "mimetype": "text/x-python",
   "name": "python",
   "nbconvert_exporter": "python",
   "pygments_lexer": "ipython3",
   "version": "3.7.4"
  }
 },
 "nbformat": 4,
 "nbformat_minor": 2
}
