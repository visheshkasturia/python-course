{
 "cells": [
  {
   "cell_type": "markdown",
   "metadata": {},
   "source": [
    "### Iterative"
   ]
  },
  {
   "cell_type": "code",
   "execution_count": 9,
   "metadata": {},
   "outputs": [
    {
     "name": "stdout",
     "output_type": "stream",
     "text": [
      "41\n",
      "2\n"
     ]
    }
   ],
   "source": [
    "import sys\n",
    "def minSquares(n):\n",
    "    dp=[sys.maxsize for x in range(n+1)]\n",
    "    \n",
    "    dp[0]=0\n",
    "    i=1\n",
    "    while i<=n:\n",
    "        j=1\n",
    "        while j*j <= i:\n",
    "            dp[i]=min(dp[i-j*j],dp[i])\n",
    "            j+=1\n",
    "        dp[i]=1+dp[i]\n",
    "        i+=1\n",
    "    return dp[n]\n",
    "\n",
    "n = int(input())\n",
    "ans = minSquares(n)\n",
    "print(ans)\n",
    "\n",
    "\n",
    "\n",
    "\n",
    "\n"
   ]
  }
 ],
 "metadata": {
  "kernelspec": {
   "display_name": "Python 3",
   "language": "python",
   "name": "python3"
  },
  "language_info": {
   "codemirror_mode": {
    "name": "ipython",
    "version": 3
   },
   "file_extension": ".py",
   "mimetype": "text/x-python",
   "name": "python",
   "nbconvert_exporter": "python",
   "pygments_lexer": "ipython3",
   "version": "3.7.4"
  }
 },
 "nbformat": 4,
 "nbformat_minor": 2
}
