{
 "cells": [
  {
   "cell_type": "markdown",
   "metadata": {},
   "source": [
    "### Memoization"
   ]
  },
  {
   "cell_type": "code",
   "execution_count": 2,
   "metadata": {},
   "outputs": [
    {
     "name": "stdout",
     "output_type": "stream",
     "text": [
      "14\n",
      "3\n"
     ]
    }
   ],
   "source": [
    "import sys\n",
    "def minSquares(n,dp):\n",
    "    if n==0:\n",
    "        return 0\n",
    "    \n",
    "    i=1\n",
    "    ans=sys.maxsize\n",
    "    while i*i<=n:\n",
    "        if dp[n-i*i]==-1:\n",
    "            currans=minSquares(n-i*i,dp)\n",
    "            dp[n-i*i]=currans\n",
    "            ans=min(ans,currans)\n",
    "            \n",
    "        else:\n",
    "            currans=dp[n-i*i]\n",
    "            ans=min(ans,currans)\n",
    "        i+=1\n",
    "    return 1+ans\n",
    "\n",
    "    \n",
    "n = int(input())\n",
    "dp=[-1 for x in range(n+1)]\n",
    "ans = minSquares(n,dp)\n",
    "print(ans)\n"
   ]
  }
 ],
 "metadata": {
  "kernelspec": {
   "display_name": "Python 3",
   "language": "python",
   "name": "python3"
  },
  "language_info": {
   "codemirror_mode": {
    "name": "ipython",
    "version": 3
   },
   "file_extension": ".py",
   "mimetype": "text/x-python",
   "name": "python",
   "nbconvert_exporter": "python",
   "pygments_lexer": "ipython3",
   "version": "3.7.4"
  }
 },
 "nbformat": 4,
 "nbformat_minor": 2
}
