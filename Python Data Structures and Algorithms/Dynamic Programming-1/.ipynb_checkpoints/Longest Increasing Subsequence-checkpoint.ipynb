{
 "cells": [
  {
   "cell_type": "code",
   "execution_count": null,
   "metadata": {},
   "outputs": [],
   "source": [
    "def longestInreasingSubsequence(arr,si,ei):\n",
    "    if si==ei:\n",
    "        return 1,0\n",
    "    \n",
    "    ans_inc_si,ans_exc_si= longestInreasingSubsequence(arr,si+1,ei)\n",
    "    \n",
    "    \n",
    "    return ans_inc_si+1, \n",
    "    "
   ]
  }
 ],
 "metadata": {
  "kernelspec": {
   "display_name": "Python 3",
   "language": "python",
   "name": "python3"
  },
  "language_info": {
   "codemirror_mode": {
    "name": "ipython",
    "version": 3
   },
   "file_extension": ".py",
   "mimetype": "text/x-python",
   "name": "python",
   "nbconvert_exporter": "python",
   "pygments_lexer": "ipython3",
   "version": "3.7.4"
  }
 },
 "nbformat": 4,
 "nbformat_minor": 2
}
