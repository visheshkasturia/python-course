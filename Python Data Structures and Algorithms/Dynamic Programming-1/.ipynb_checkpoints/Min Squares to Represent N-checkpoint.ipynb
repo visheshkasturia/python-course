{
 "cells": [
  {
   "cell_type": "markdown",
   "metadata": {},
   "source": [
    "### Iterative"
   ]
  },
  {
   "cell_type": "code",
   "execution_count": 9,
   "metadata": {},
   "outputs": [
    {
     "name": "stdout",
     "output_type": "stream",
     "text": [
      "41\n",
      "2\n"
     ]
    }
   ],
   "source": [
    "import sys\n",
    "def minSquares(n):\n",
    "    dp=[sys.maxsize for x in range(n+1)]\n",
    "    \n",
    "    dp[0]=0\n",
    "    i=1\n",
    "    while i<=n:\n",
    "        j=1\n",
    "        while j*j <= i:\n",
    "            dp[i]=min(dp[i-j*j],dp[i])\n",
    "            j+=1\n",
    "        dp[i]=1+dp[i]\n",
    "        i+=1\n",
    "    return dp[n]\n",
    "\n",
    "n = int(input())\n",
    "ans = minSquares(n)\n",
    "print(ans)\n",
    "\n",
    "\n",
    "\n",
    "\n",
    "\n"
   ]
  },
  {
   "cell_type": "markdown",
   "metadata": {},
   "source": [
    "### Memoization"
   ]
  },
  {
   "cell_type": "code",
   "execution_count": 6,
   "metadata": {},
   "outputs": [
    {
     "name": "stdout",
     "output_type": "stream",
     "text": [
      "14\n",
      "3\n"
     ]
    }
   ],
   "source": [
    "import sys\n",
    "def minSquares(n,dp):\n",
    "    if n==0:\n",
    "        return 0\n",
    "    \n",
    "    i=1\n",
    "    ans=sys.maxsize\n",
    "    while i*i<=n:\n",
    "        if dp[n-i*i]==-1:\n",
    "            currans=minSquares(n-i*i,dp)\n",
    "            dp[n-i*i]=currans\n",
    "            ans=min(ans,currans)\n",
    "            \n",
    "        else:\n",
    "            currans=dp[n-i*i]\n",
    "            ans=min(ans,currans)\n",
    "        i+=1\n",
    "    return 1+ans\n",
    "\n",
    "    \n",
    "n = int(input())\n",
    "dp=[-1 for x in range(n+1)]\n",
    "ans = minSquares(n,dp)\n",
    "print(ans)\n",
    "\n",
    "\n",
    "\n",
    "\n",
    "\n"
   ]
  }
 ],
 "metadata": {
  "kernelspec": {
   "display_name": "Python 3",
   "language": "python",
   "name": "python3"
  },
  "language_info": {
   "codemirror_mode": {
    "name": "ipython",
    "version": 3
   },
   "file_extension": ".py",
   "mimetype": "text/x-python",
   "name": "python",
   "nbconvert_exporter": "python",
   "pygments_lexer": "ipython3",
   "version": "3.7.4"
  }
 },
 "nbformat": 4,
 "nbformat_minor": 2
}
