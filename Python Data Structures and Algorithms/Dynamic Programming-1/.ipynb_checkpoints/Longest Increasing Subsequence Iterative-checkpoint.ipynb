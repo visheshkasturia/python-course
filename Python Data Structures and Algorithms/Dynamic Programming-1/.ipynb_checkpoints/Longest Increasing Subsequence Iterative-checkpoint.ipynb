{
 "cells": [
  {
   "cell_type": "markdown",
   "metadata": {},
   "source": [
    "### Iterative"
   ]
  },
  {
   "cell_type": "code",
   "execution_count": 33,
   "metadata": {},
   "outputs": [
    {
     "name": "stdout",
     "output_type": "stream",
     "text": [
      "7\n",
      "6 3 1 2 7 0 9\n",
      "4\n"
     ]
    }
   ],
   "source": [
    "def lis_iter(arr):\n",
    "    dp=[[-1 for i in range(2)] for x in range(len(arr))]\n",
    "    dp[len(arr)-1]=[1,1]\n",
    "    \n",
    "    for i in range(len(arr)-2,-1,-1):\n",
    "        ans_inc=1\n",
    "        ans_exc=0\n",
    "        for j in range(i+1,len(arr)):\n",
    "            if arr[j]>arr[i]:\n",
    "                currAns_inc=dp[j][0]\n",
    "                ans_inc=max(ans_inc,currAns_inc+1)\n",
    "        ans_exc=dp[i+1][1]\n",
    "        overall_max=max(ans_inc,ans_exc)\n",
    "        dp[i][0],dp[i][1]=ans_inc,overall_max\n",
    "    \n",
    "    return dp[0][1]\n",
    "\n",
    "n=int(input())\n",
    "arr=[int(x) for x in input().split()]\n",
    "ans=lis_iter(arr)\n",
    "print(ans)"
   ]
  }
 ],
 "metadata": {
  "kernelspec": {
   "display_name": "Python 3",
   "language": "python",
   "name": "python3"
  },
  "language_info": {
   "codemirror_mode": {
    "name": "ipython",
    "version": 3
   },
   "file_extension": ".py",
   "mimetype": "text/x-python",
   "name": "python",
   "nbconvert_exporter": "python",
   "pygments_lexer": "ipython3",
   "version": "3.7.4"
  }
 },
 "nbformat": 4,
 "nbformat_minor": 2
}
