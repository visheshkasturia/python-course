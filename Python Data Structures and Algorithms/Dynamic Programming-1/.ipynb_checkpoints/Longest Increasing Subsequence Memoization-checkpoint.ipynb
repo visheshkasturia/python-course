{
 "cells": [
  {
   "cell_type": "markdown",
   "metadata": {},
   "source": [
    "### Memoization"
   ]
  },
  {
   "cell_type": "code",
   "execution_count": 2,
   "metadata": {},
   "outputs": [
    {
     "name": "stdout",
     "output_type": "stream",
     "text": [
      "7\n",
      "6 3 1 2 7 0 9\n",
      "4\n"
     ]
    }
   ],
   "source": [
    "def lis_mem(arr,si,ei,dp):\n",
    "    if si==ei:\n",
    "        return 1,1\n",
    "    \n",
    "    ans_inc_si=1\n",
    "    \n",
    "    i=si+1\n",
    "    while i<=ei:\n",
    "        if arr[i]>=arr[si]:\n",
    "            further_ans_inc_si=None\n",
    "            if dp[i]==-1:\n",
    "                ans=lis_mem(arr,i,ei,dp)\n",
    "                dp[i]=ans\n",
    "                further_ans_inc_si=ans[0]\n",
    "            else:\n",
    "                further_ans_inc_si=dp[i][0]\n",
    "            ans_inc_si= max(ans_inc_si,1+further_ans_inc_si)\n",
    "        i+=1\n",
    "        \n",
    "    ans_exc_si=None\n",
    "    if dp[si+1]==-1:\n",
    "        ans=lis_mem(arr,si+1,ei,dp)\n",
    "        dp[si+1]=ans\n",
    "        ans_exc_si=ans[1]\n",
    "    else:\n",
    "        ans_exc_si=dp[si+1][1]\n",
    "    overall_max=max(ans_inc_si,ans_exc_si)\n",
    "    return ans_inc_si,overall_max\n",
    "\n",
    "n=int(input())\n",
    "arr=[int(x) for x in input().split()]\n",
    "dp=[-1 for x in range(n)]\n",
    "ans=lis_mem(arr,0,len(arr)-1,dp)[1]\n",
    "print(ans)"
   ]
  }
 ],
 "metadata": {
  "kernelspec": {
   "display_name": "Python 3",
   "language": "python",
   "name": "python3"
  },
  "language_info": {
   "codemirror_mode": {
    "name": "ipython",
    "version": 3
   },
   "file_extension": ".py",
   "mimetype": "text/x-python",
   "name": "python",
   "nbconvert_exporter": "python",
   "pygments_lexer": "ipython3",
   "version": "3.7.4"
  }
 },
 "nbformat": 4,
 "nbformat_minor": 2
}
