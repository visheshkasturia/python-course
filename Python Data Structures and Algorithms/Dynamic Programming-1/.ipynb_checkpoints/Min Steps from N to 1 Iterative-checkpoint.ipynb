{
 "cells": [
  {
   "cell_type": "markdown",
   "metadata": {},
   "source": [
    "### Iterative"
   ]
  },
  {
   "cell_type": "code",
   "execution_count": 10,
   "metadata": {},
   "outputs": [
    {
     "name": "stdout",
     "output_type": "stream",
     "text": [
      "100000\n",
      "18\n"
     ]
    }
   ],
   "source": [
    "def minStepsTo1DP(n):\n",
    "    dp=[-1 for i in range(n+1)]\n",
    "    \n",
    "    dp[1]=0\n",
    "    i=2\n",
    "    while i<=n:\n",
    "        ans1=sys.maxsize\n",
    "        if i%3==0:\n",
    "            ans1= 1+ dp[i//3]\n",
    "        \n",
    "        ans2= sys.maxsize\n",
    "        if i%2==0:\n",
    "            ans2= 1+ dp[i//2]\n",
    "        \n",
    "        ans3= 1+ dp[i-1]\n",
    "        \n",
    "        dp[i]=min(ans1,ans2,ans3)\n",
    "        i+=1\n",
    "    \n",
    "    return dp[n]\n",
    "\n",
    "# Main\n",
    "n=int(input())\n",
    "print(minStepsTo1DP(n))\n"
   ]
  }
 ],
 "metadata": {
  "kernelspec": {
   "display_name": "Python 3",
   "language": "python",
   "name": "python3"
  },
  "language_info": {
   "codemirror_mode": {
    "name": "ipython",
    "version": 3
   },
   "file_extension": ".py",
   "mimetype": "text/x-python",
   "name": "python",
   "nbconvert_exporter": "python",
   "pygments_lexer": "ipython3",
   "version": "3.7.4"
  }
 },
 "nbformat": 4,
 "nbformat_minor": 2
}
