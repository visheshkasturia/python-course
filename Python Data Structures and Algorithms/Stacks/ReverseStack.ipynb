{
 "cells": [
  {
   "cell_type": "code",
   "execution_count": 3,
   "metadata": {},
   "outputs": [
    {
     "name": "stdout",
     "output_type": "stream",
     "text": [
      "4\n",
      "1 2 3 4\n",
      "1 2 3 4 "
     ]
    }
   ],
   "source": [
    "def reverseStack(s1,s2):\n",
    "    \n",
    "    if len(s1)<=1:\n",
    "        return\n",
    "    \n",
    "    while len(s1)!=1:\n",
    "        ele=s1.pop()\n",
    "        s2.append(ele)\n",
    "    \n",
    "    lastele=s1.pop()\n",
    "    \n",
    "    while len(s2)!=0:\n",
    "        ele=s2.pop()\n",
    "        s1.append(ele)\n",
    "    reverseStack(s1,s2)\n",
    "    s1.append(lastele)\n",
    "    \n",
    "\n",
    "    \n",
    "    \n",
    "\n",
    "from sys import setrecursionlimit\n",
    "setrecursionlimit(11000)\n",
    "n = int(input())\n",
    "s1 = [int(ele) for ele in input().split()]\n",
    "s2 = []\n",
    "reverseStack(s1,s2)\n",
    "while(len(s1) !=0):\n",
    "    print(s1.pop(),end= ' ')\n",
    "\n"
   ]
  },
  {
   "cell_type": "code",
   "execution_count": 7,
   "metadata": {},
   "outputs": [],
   "source": []
  }
 ],
 "metadata": {
  "kernelspec": {
   "display_name": "Python 3",
   "language": "python",
   "name": "python3"
  },
  "language_info": {
   "codemirror_mode": {
    "name": "ipython",
    "version": 3
   },
   "file_extension": ".py",
   "mimetype": "text/x-python",
   "name": "python",
   "nbconvert_exporter": "python",
   "pygments_lexer": "ipython3",
   "version": "3.7.4"
  }
 },
 "nbformat": 4,
 "nbformat_minor": 2
}
