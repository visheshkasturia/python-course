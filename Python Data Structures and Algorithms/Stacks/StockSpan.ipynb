{
 "cells": [
  {
   "cell_type": "code",
   "execution_count": 21,
   "metadata": {},
   "outputs": [
    {
     "name": "stdout",
     "output_type": "stream",
     "text": [
      "4\n",
      "5 3 8 7 10 7 7 12 16\n",
      "1 1 3 1 5 1 1 8 9 "
     ]
    }
   ],
   "source": [
    "def stockSpan(price,n):\n",
    "    li=[0]\n",
    "    spans=[1]\n",
    "    for i in range(1,len(price)):\n",
    "        while len(li)>0 and price[i]>price[li[-1]]:\n",
    "            li.pop()\n",
    "        \n",
    "        if len(li)<=0:\n",
    "            spans.append(i+1)\n",
    "        else:\n",
    "            spans.append(i-li[-1])\n",
    "        \n",
    "        li.append(i)\n",
    "    return spans\n",
    "\n",
    "\n",
    "n = int(input())\n",
    "price = [int(ele) for ele in input().split()]\n",
    "spans = stockSpan(price,n)\n",
    "for ele in spans:\n",
    "    print(ele,end= ' ')\n",
    "    "
   ]
  }
 ],
 "metadata": {
  "kernelspec": {
   "display_name": "Python 3",
   "language": "python",
   "name": "python3"
  },
  "language_info": {
   "codemirror_mode": {
    "name": "ipython",
    "version": 3
   },
   "file_extension": ".py",
   "mimetype": "text/x-python",
   "name": "python",
   "nbconvert_exporter": "python",
   "pygments_lexer": "ipython3",
   "version": "3.7.4"
  }
 },
 "nbformat": 4,
 "nbformat_minor": 2
}
