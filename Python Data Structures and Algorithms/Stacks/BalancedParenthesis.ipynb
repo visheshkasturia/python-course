{
 "cells": [
  {
   "cell_type": "markdown",
   "metadata": {},
   "source": [
    "### Better Code"
   ]
  },
  {
   "cell_type": "code",
   "execution_count": 1,
   "metadata": {},
   "outputs": [
    {
     "name": "stdout",
     "output_type": "stream",
     "text": [
      "{ a + [ b+ (c + d)] + (e + f) }\n",
      "true\n"
     ]
    }
   ],
   "source": [
    "def checkBalanced(expr):\n",
    "    li=[]\n",
    "    \n",
    "    for i in expr:\n",
    "        if i in '([{':\n",
    "            li.append(i)\n",
    "    \n",
    "        elif i == ')':\n",
    "            if (not li or li[-1]!='('):\n",
    "                return False\n",
    "            li.pop()\n",
    "        elif i == ']':\n",
    "            if (not li or li[-1]!='['):\n",
    "                return False\n",
    "            li.pop()\n",
    "        elif i == '}':\n",
    "            if (not li or li[-1]!='{'):\n",
    "                return False\n",
    "            li.pop()\n",
    "        \n",
    "    if not li:\n",
    "        return True\n",
    "    return False\n",
    "\n",
    "exp=input()\n",
    "if checkBalanced(exp):\n",
    "    print('true')\n",
    "else:\n",
    "    print('false')\n"
   ]
  },
  {
   "cell_type": "markdown",
   "metadata": {},
   "source": [
    "### Earlier code"
   ]
  },
  {
   "cell_type": "code",
   "execution_count": null,
   "metadata": {},
   "outputs": [],
   "source": [
    "\n",
    "def checkBalanced(expr):\n",
    "    li=[]\n",
    "    \n",
    "    for i in expr:\n",
    "        if i in '([{':\n",
    "            li.append(i)\n",
    "        \n",
    "        if i == ')':\n",
    "            if li==[]:\n",
    "                return False\n",
    "            ele=li.pop()\n",
    "            if ele!= '(':\n",
    "                print(\"here\")\n",
    "                print(i)\n",
    "                return False\n",
    "        if i==']':\n",
    "            if li==[]:\n",
    "                return False\n",
    "            ele=li.pop()\n",
    "            if ele!='[':\n",
    "                return False\n",
    "        if i=='}':\n",
    "            if li==[]:\n",
    "                return False\n",
    "            ele=li.pop()\n",
    "            if ele!='{':\n",
    "                return False\n",
    "    \n",
    "    if li==[]:\n",
    "        return True\n",
    "    else:\n",
    "        return False\n",
    "    \n",
    "exp=input()\n",
    "if checkBalanced(exp):\n",
    "    print('true')\n",
    "else:\n",
    "    print('false')\n",
    "\n"
   ]
  },
  {
   "cell_type": "code",
   "execution_count": null,
   "metadata": {},
   "outputs": [],
   "source": [
    "arr=[1,2]\n",
    "x=arr.pop()\n",
    "arr\n",
    "x"
   ]
  }
 ],
 "metadata": {
  "kernelspec": {
   "display_name": "Python 3",
   "language": "python",
   "name": "python3"
  },
  "language_info": {
   "codemirror_mode": {
    "name": "ipython",
    "version": 3
   },
   "file_extension": ".py",
   "mimetype": "text/x-python",
   "name": "python",
   "nbconvert_exporter": "python",
   "pygments_lexer": "ipython3",
   "version": "3.7.4"
  }
 },
 "nbformat": 4,
 "nbformat_minor": 2
}
