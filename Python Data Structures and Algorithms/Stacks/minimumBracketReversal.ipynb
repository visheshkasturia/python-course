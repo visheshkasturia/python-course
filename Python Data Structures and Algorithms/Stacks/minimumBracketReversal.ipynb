{
 "cells": [
  {
   "cell_type": "code",
   "execution_count": 5,
   "metadata": {},
   "outputs": [
    {
     "name": "stdout",
     "output_type": "stream",
     "text": [
      "}}}{\n",
      "['}', '}', '}', '{']\n",
      "3\n"
     ]
    }
   ],
   "source": [
    "def minBracket(expr):\n",
    "    li=[]\n",
    "    \n",
    "    if ((len(expr))%2!=0):\n",
    "        return -1\n",
    "    for char in expr:\n",
    "        if char == \"{\":\n",
    "                li.append(char)\n",
    "        elif char ==\"}\":\n",
    "            if len(li)<=0 or li[-1]==\"}\":\n",
    "                li.append(char)\n",
    "            else:\n",
    "                li.pop()\n",
    "    count=0\n",
    "    while len(li)>0:\n",
    "        c1=li.pop()\n",
    "        c2=li.pop()\n",
    "        if c1==c2:\n",
    "            count+=1\n",
    "        else:\n",
    "            count+=2\n",
    "\n",
    "    return count\n",
    "\n",
    "expr=input()\n",
    "x=minBracket(expr)\n",
    "print(x)"
   ]
  },
  {
   "cell_type": "code",
   "execution_count": 12,
   "metadata": {},
   "outputs": [
    {
     "data": {
      "text/plain": [
       "True"
      ]
     },
     "execution_count": 12,
     "metadata": {},
     "output_type": "execute_result"
    }
   ],
   "source": [
    "x=\"\"\n",
    "not x"
   ]
  },
  {
   "cell_type": "code",
   "execution_count": null,
   "metadata": {},
   "outputs": [],
   "source": []
  }
 ],
 "metadata": {
  "kernelspec": {
   "display_name": "Python 3",
   "language": "python",
   "name": "python3"
  },
  "language_info": {
   "codemirror_mode": {
    "name": "ipython",
    "version": 3
   },
   "file_extension": ".py",
   "mimetype": "text/x-python",
   "name": "python",
   "nbconvert_exporter": "python",
   "pygments_lexer": "ipython3",
   "version": "3.7.4"
  }
 },
 "nbformat": 4,
 "nbformat_minor": 2
}
