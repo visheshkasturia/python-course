{
 "cells": [
  {
   "cell_type": "code",
   "execution_count": 22,
   "metadata": {},
   "outputs": [
    {
     "name": "stdout",
     "output_type": "stream",
     "text": [
      "(a+b)\n",
      "false\n"
     ]
    }
   ],
   "source": [
    "def checkRedundant(string):\n",
    "    \n",
    "    li=[]\n",
    "    \n",
    "    for char in string:\n",
    "        if char == '(':\n",
    "            li.append(char)\n",
    "        elif char in '*+-/':\n",
    "            if not li:\n",
    "                li.append(char)\n",
    "            else:\n",
    "                li.pop()\n",
    "    \n",
    "    for ele in li:\n",
    "        if ele in '*+-/':\n",
    "            li.pop()\n",
    "    if not li:\n",
    "        return False\n",
    "    return True\n",
    "    \n",
    "\n",
    "string = input()\n",
    "ans = checkRedundant(string)\n",
    "if ans is True:\n",
    "    print('true')\n",
    "else:\n",
    "    print('false')\n"
   ]
  },
  {
   "cell_type": "code",
   "execution_count": 3,
   "metadata": {},
   "outputs": [
    {
     "name": "stdout",
     "output_type": "stream",
     "text": [
      "(ab)\n",
      "false\n"
     ]
    }
   ],
   "source": [
    "def checkRedundant(string):\n",
    "    \n",
    "    li=[]\n",
    "    \n",
    "    for char in string:\n",
    "        if char != \")\":\n",
    "            li.append(char)\n",
    "        else:    \n",
    "            top=li.pop()\n",
    "            count=0\n",
    "            while top !=\"(\":\n",
    "                count+=1\n",
    "                top=li.pop()\n",
    "            if count==0:\n",
    "                return True\n",
    "     \n",
    "    return False\n",
    "    \n",
    "    \n",
    "\n",
    "string = input()\n",
    "ans = checkRedundant(string)\n",
    "if ans is True:\n",
    "    print('true')\n",
    "else:\n",
    "    print('false')\n"
   ]
  }
 ],
 "metadata": {
  "kernelspec": {
   "display_name": "Python 3",
   "language": "python",
   "name": "python3"
  },
  "language_info": {
   "codemirror_mode": {
    "name": "ipython",
    "version": 3
   },
   "file_extension": ".py",
   "mimetype": "text/x-python",
   "name": "python",
   "nbconvert_exporter": "python",
   "pygments_lexer": "ipython3",
   "version": "3.7.4"
  }
 },
 "nbformat": 4,
 "nbformat_minor": 2
}
