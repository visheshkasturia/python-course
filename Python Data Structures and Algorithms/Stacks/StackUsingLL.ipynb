{
 "cells": [
  {
   "cell_type": "code",
   "execution_count": 9,
   "metadata": {},
   "outputs": [],
   "source": [
    "class Node:\n",
    "    def __init__(self,data):\n",
    "        self.data=data\n",
    "        self.next=None\n",
    "\n",
    "class StackUsingLL:\n",
    "    def __init__(self):\n",
    "        self.__head=None\n",
    "        self.__size=0\n",
    "    \n",
    "    \n",
    "    def push(self,data):\n",
    "        newNode=Node(data)\n",
    "        \n",
    "        if self.__head is None:\n",
    "            self.__head=newNode\n",
    "        else:\n",
    "            newNode.next=self.__head\n",
    "            self.__head=newNode\n",
    "        \n",
    "        self.__size+=1\n",
    "    \n",
    "        return\n",
    "    \n",
    "    def pop(self):\n",
    "        \n",
    "        if self.__size==0:\n",
    "            return -10000\n",
    "        \n",
    "        ele=self.__head.data\n",
    "        self.__head=self.__head.next\n",
    "        self.__size-=1\n",
    "        \n",
    "        return ele\n",
    "    \n",
    "    def top(self):\n",
    "        if self.__size==0:\n",
    "            return -10000\n",
    "        \n",
    "        return self.__head.data\n",
    "    \n",
    "    def getSize(self):\n",
    "        return self.__size\n",
    "    \n",
    "    def isEmpty(self):\n",
    "        return self.__size==0\n",
    "\n"
   ]
  },
  {
   "cell_type": "code",
   "execution_count": 13,
   "metadata": {},
   "outputs": [
    {
     "name": "stdout",
     "output_type": "stream",
     "text": [
      "True\n",
      "False\n",
      "5\n",
      "9\n",
      "9\n",
      "8\n",
      "7\n",
      "6\n",
      "5\n"
     ]
    }
   ],
   "source": [
    "s=StackUsingLL()\n",
    "print (s.isEmpty())\n",
    "for i in range(5,10):\n",
    "    s.push(i)\n",
    "\n",
    "print (s.isEmpty())\n",
    "print(s.size())\n",
    "\n",
    "print(s.top())\n",
    "\n",
    "while s.isEmpty() is not True:\n",
    "    print(s.pop())"
   ]
  }
 ],
 "metadata": {
  "kernelspec": {
   "display_name": "Python 3",
   "language": "python",
   "name": "python3"
  },
  "language_info": {
   "codemirror_mode": {
    "name": "ipython",
    "version": 3
   },
   "file_extension": ".py",
   "mimetype": "text/x-python",
   "name": "python",
   "nbconvert_exporter": "python",
   "pygments_lexer": "ipython3",
   "version": "3.7.4"
  }
 },
 "nbformat": 4,
 "nbformat_minor": 2
}
