{
 "cells": [
  {
   "cell_type": "code",
   "execution_count": null,
   "metadata": {},
   "outputs": [],
   "source": [
    "import queue\n",
    "class BinaryTreeNode:\n",
    "    def __init__(self, data):\n",
    "        self.data = data\n",
    "        self.left = None\n",
    "        self.right = None\n",
    "\n",
    "def buildTreePostOrder(postorder, inorder):\n",
    "    if postorder==[]:\n",
    "        return None\n",
    "    rootData = postrder[-1]\n",
    "    root=BinaryTreeNode(rootData)\n",
    "    i=0\n",
    "    while inorder[i]!=rootData:\n",
    "        i+=1\n",
    "    root.left=buildTreePostOrder(postorder[:i], inorder[:i])\n",
    "    root.right=buildTreePostOrder(postorder[i:-1], inorder[i+1:])\n",
    "    \n",
    "    return root\n",
    "\n",
    "def printLevelATNewLine(root):\n",
    "    # Given a binary tree, print the level order traversal. Make sure each level\n",
    "    # start in new line.\n",
    "    if root==None:\n",
    "        return\n",
    "    inputQ = queue.Queue()\n",
    "    outputQ = queue.Queue()\n",
    "    inputQ.put(root)\n",
    "    while not inputQ.empty():\n",
    "        while not inputQ.empty():\n",
    "            curr = inputQ.get()\n",
    "            print(curr.data, end=' ')\n",
    "            if curr.left!=None:\n",
    "                outputQ.put(curr.left)\n",
    "            if curr.right!=None:\n",
    "                outputQ.put(curr.right)\n",
    "        print()\n",
    "        inputQ, outputQ = outputQ, inputQ\n",
    "\n",
    "# Main\n",
    "n=int(input())\n",
    "postOrder = [int(i) for i in input().strip().split()]\n",
    "inorder = [int(i) for i in input().strip().split()]\n",
    "root = buildTreePostOrder(postOrder, inorder)\n",
    "printLevelATNewLine(root)\n"
   ]
  }
 ],
 "metadata": {
  "kernelspec": {
   "display_name": "Python 3",
   "language": "python",
   "name": "python3"
  },
  "language_info": {
   "codemirror_mode": {
    "name": "ipython",
    "version": 3
   },
   "file_extension": ".py",
   "mimetype": "text/x-python",
   "name": "python",
   "nbconvert_exporter": "python",
   "pygments_lexer": "ipython3",
   "version": "3.7.4"
  }
 },
 "nbformat": 4,
 "nbformat_minor": 2
}
