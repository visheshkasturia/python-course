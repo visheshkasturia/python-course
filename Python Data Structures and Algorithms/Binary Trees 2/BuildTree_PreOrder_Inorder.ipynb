{
 "cells": [
  {
   "cell_type": "code",
   "execution_count": 6,
   "metadata": {},
   "outputs": [
    {
     "name": "stdout",
     "output_type": "stream",
     "text": [
      "12\n",
      "1 2 3 4 15 5 6 7 8 10 9 12\n",
      "4 15 3 2 5 1 6 10 8 7 9 12\n",
      "1 \n",
      "2 6 \n",
      "3 5 7 \n",
      "4 8 9 \n",
      "15 10 12 \n"
     ]
    }
   ],
   "source": [
    "import queue\n",
    "class BinaryTreeNode:\n",
    "    def __init__(self, data):\n",
    "        self.data = data\n",
    "        self.left = None\n",
    "        self.right = None\n",
    "\n",
    "def buildTreePreOrder(preorder, inorder):\n",
    "    if preorder==[]:\n",
    "        return None\n",
    "    rootData = preorder[0]\n",
    "    root=BinaryTreeNode(rootData)\n",
    "    i=0\n",
    "    while inorder[i]!=rootData:\n",
    "        i+=1\n",
    "    root.left=buildTreePreOrder(preorder[1:i+1], inorder[:i])\n",
    "    root.right=buildTreePreOrder(preorder[i+1:], inorder[i+1:])\n",
    "    \n",
    "    return root\n",
    "    \n",
    "    \n",
    "    \n",
    "\n",
    "def printLevelATNewLine(root):\n",
    "    # Given a binary tree, print the level order traversal. Make sure each level\n",
    "    # start in new line.\n",
    "    if root==None:\n",
    "        return\n",
    "    inputQ = queue.Queue()\n",
    "    outputQ = queue.Queue()\n",
    "    inputQ.put(root)\n",
    "    while not inputQ.empty():\n",
    "        while not inputQ.empty():\n",
    "            curr = inputQ.get()\n",
    "            print(curr.data, end=' ')\n",
    "            if curr.left!=None:\n",
    "                outputQ.put(curr.left)\n",
    "            if curr.right!=None:\n",
    "                outputQ.put(curr.right)\n",
    "        print()\n",
    "        inputQ, outputQ = outputQ, inputQ\n",
    "\n",
    "# Main\n",
    "n=int(input())\n",
    "preorder = [int(i) for i in input().strip().split()]\n",
    "inorder = [int(i) for i in input().strip().split()]\n",
    "root = buildTreePreOrder(preorder, inorder)\n",
    "printLevelATNewLine(root)\n"
   ]
  },
  {
   "cell_type": "code",
   "execution_count": null,
   "metadata": {},
   "outputs": [],
   "source": [
    "12\n",
    "1 2 3 4 15 5 6 7 8 10 9 12\n",
    "4 15 3 2 5 1 6 10 8 7 9 12"
   ]
  }
 ],
 "metadata": {
  "kernelspec": {
   "display_name": "Python 3",
   "language": "python",
   "name": "python3"
  },
  "language_info": {
   "codemirror_mode": {
    "name": "ipython",
    "version": 3
   },
   "file_extension": ".py",
   "mimetype": "text/x-python",
   "name": "python",
   "nbconvert_exporter": "python",
   "pygments_lexer": "ipython3",
   "version": "3.7.4"
  }
 },
 "nbformat": 4,
 "nbformat_minor": 2
}
