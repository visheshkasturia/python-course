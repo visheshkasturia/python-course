{
 "cells": [
  {
   "cell_type": "code",
   "execution_count": 8,
   "metadata": {},
   "outputs": [
    {
     "name": "stdout",
     "output_type": "stream",
     "text": [
      "5\n",
      "1 2 2 5 6\n",
      "6\n",
      "1 1 2 3 4 5\n",
      "1\n",
      "2\n",
      "5\n"
     ]
    }
   ],
   "source": [
    "def merge(a1,a2,a):\n",
    "    i=0\n",
    "    j=0\n",
    "    k=0\n",
    "    while i<len(a1) and j<len(a2):\n",
    "        if a1[i]<=a2[j]:\n",
    "            a[k]=a1[i]\n",
    "            i=i+1\n",
    "            k=k+1\n",
    "        else:\n",
    "            a[k]=a2[j]\n",
    "            j=j+1\n",
    "            k=k+1\n",
    "    \n",
    "    while i<len(a1):\n",
    "        a[k]=a1[i]\n",
    "        i=i+1\n",
    "        k=k+1\n",
    "    \n",
    "    while j<len(a2):\n",
    "        a[k]=a2[j]\n",
    "        k=k+1\n",
    "        j=j+1\n",
    "\n",
    "def mergeSort(a):\n",
    "    if len(a)==0 or len(a)==1:\n",
    "        return\n",
    "    \n",
    "    mid=len(a)//2\n",
    "    a1=a[0:mid]\n",
    "    a2=a[mid:]\n",
    "    mergeSort(a1)\n",
    "    mergeSort(a2)\n",
    "    merge(a1,a2,a)\n",
    "\n",
    "\n",
    "def intersection(arr1, arr2):\n",
    "    j=0\n",
    "    i=0\n",
    "    while i<len(arr1) and j<len(arr2):\n",
    "        if arr1[i]==arr2[j]:\n",
    "            print(arr1[i])\n",
    "            i=i+1\n",
    "            j=j+1\n",
    "        elif arr2[j]<arr1[i]:\n",
    "            j=j+1\n",
    "        else:\n",
    "            i=i+1\n",
    "        \n",
    "   \n",
    "\n",
    "\n",
    "# Main\n",
    "n1=int(input())\n",
    "arr1=list(int(i) for i in input().strip().split(' '))\n",
    "n2=int(input())\n",
    "arr2=list(int(i) for i in input().strip().split(' '))\n",
    "mergeSort(arr1)\n",
    "mergeSort(arr2)\n",
    "intersection(arr1, arr2)\n",
    "\n"
   ]
  }
 ],
 "metadata": {
  "kernelspec": {
   "display_name": "Python 3",
   "language": "python",
   "name": "python3"
  },
  "language_info": {
   "codemirror_mode": {
    "name": "ipython",
    "version": 3
   },
   "file_extension": ".py",
   "mimetype": "text/x-python",
   "name": "python",
   "nbconvert_exporter": "python",
   "pygments_lexer": "ipython3",
   "version": "3.7.4"
  }
 },
 "nbformat": 4,
 "nbformat_minor": 2
}
