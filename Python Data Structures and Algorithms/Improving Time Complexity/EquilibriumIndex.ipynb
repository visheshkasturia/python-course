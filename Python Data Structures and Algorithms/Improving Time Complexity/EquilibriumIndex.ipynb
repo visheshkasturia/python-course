{
 "cells": [
  {
   "cell_type": "code",
   "execution_count": 21,
   "metadata": {},
   "outputs": [
    {
     "name": "stdout",
     "output_type": "stream",
     "text": [
      "1\n",
      "1 2 4 4 2 12  1 -2 -4 18 \n",
      "5\n"
     ]
    }
   ],
   "source": [
    "def equiarrbriumIndex(arr):\n",
    "    right_sum=0\n",
    "    left_sum=arr[0]\n",
    "    i=2\n",
    "    while i<len(arr):\n",
    "        right_sum=right_sum+arr[i]\n",
    "        i=i+1\n",
    "\n",
    "    i=1\n",
    "    while i<len(arr):\n",
    "        if left_sum==right_sum:\n",
    "            return i\n",
    "        else:\n",
    "            i=i+1\n",
    "            left_sum+=arr[i-1]\n",
    "            right_sum-=arr[i]\n",
    "    return -1\n",
    "\n",
    "# Main\n",
    "n = int(input())\n",
    "arr = [int(i) for i in input().strip().split()]\n",
    "print(equiarrbriumIndex(arr))"
   ]
  }
 ],
 "metadata": {
  "kernelspec": {
   "display_name": "Python 3",
   "language": "python",
   "name": "python3"
  },
  "language_info": {
   "codemirror_mode": {
    "name": "ipython",
    "version": 3
   },
   "file_extension": ".py",
   "mimetype": "text/x-python",
   "name": "python",
   "nbconvert_exporter": "python",
   "pygments_lexer": "ipython3",
   "version": "3.7.4"
  }
 },
 "nbformat": 4,
 "nbformat_minor": 2
}
