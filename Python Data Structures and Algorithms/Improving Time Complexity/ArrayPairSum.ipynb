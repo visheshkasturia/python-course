{
 "cells": [
  {
   "cell_type": "code",
   "execution_count": 40,
   "metadata": {},
   "outputs": [
    {
     "name": "stdout",
     "output_type": "stream",
     "text": [
      "7\n",
      "1 3 6 2 5 4 3 2 4\n",
      "6\n",
      "1   5\n",
      "2   4\n",
      "2   4\n",
      "2   4\n",
      "2   4\n",
      "3   3\n"
     ]
    }
   ],
   "source": [
    "def pairSum(arr, x):\n",
    "        arr.sort()\n",
    "        i=0\n",
    "        j=len(arr)-1\n",
    "        \n",
    "        while i<j:\n",
    "            s=arr[i]+arr[j]\n",
    "            if s==x:\n",
    "                if arr[i]==arr[j]:\n",
    "                    count=j-i+1\n",
    "                    p=count*(count-1)//2\n",
    " \n",
    "                    for w in range(p):\n",
    "                        print(arr[i],\" \",arr[j])\n",
    "                    i=j\n",
    "                else:\n",
    "                    count_r=1\n",
    "                    count_l=1\n",
    "                    while arr[j-1]==arr[j]:\n",
    "                        j-=1\n",
    "                        count_r+=1\n",
    "                    while arr[i+1]==arr[i]:   \n",
    "                        i+=1\n",
    "                        count_l+=1\n",
    "                    p=count_r*count_l\n",
    "                    for w in range(p):\n",
    "                        print(arr[i],\" \",arr[j])\n",
    "                    i+=1\n",
    "                    j-=1\n",
    "            elif s>x:\n",
    "                j-=1\n",
    "            else:\n",
    "                i+=1\n",
    "            \n",
    "\n",
    "# Main\n",
    "n=int(input())\n",
    "arr=list(int(i) for i in input().strip().split(' '))\n",
    "sum=int(input())\n",
    "pairSum(arr, sum)\n"
   ]
  }
 ],
 "metadata": {
  "kernelspec": {
   "display_name": "Python 3",
   "language": "python",
   "name": "python3"
  },
  "language_info": {
   "codemirror_mode": {
    "name": "ipython",
    "version": 3
   },
   "file_extension": ".py",
   "mimetype": "text/x-python",
   "name": "python",
   "nbconvert_exporter": "python",
   "pygments_lexer": "ipython3",
   "version": "3.7.4"
  }
 },
 "nbformat": 4,
 "nbformat_minor": 2
}
