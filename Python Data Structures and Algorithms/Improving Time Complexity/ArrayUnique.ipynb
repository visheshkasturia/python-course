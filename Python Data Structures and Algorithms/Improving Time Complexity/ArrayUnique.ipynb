{
 "cells": [
  {
   "cell_type": "markdown",
   "metadata": {},
   "source": [
    "### Using Dictionary"
   ]
  },
  {
   "cell_type": "code",
   "execution_count": 1,
   "metadata": {},
   "outputs": [
    {
     "name": "stdout",
     "output_type": "stream",
     "text": [
      "5\n",
      "2 3 1 3 2 5 5\n",
      "1\n"
     ]
    }
   ],
   "source": [
    "def FindUnique(arr):\n",
    "    d={}\n",
    "    for i in arr:\n",
    "        d[i]=d.get(i,0)+1\n",
    "    \n",
    "    for i in d:\n",
    "        if d[i]==1:\n",
    "            return d[i]\n",
    "\n",
    "# Main\n",
    "n=int(input())\n",
    "arr=list(int(i) for i in input().strip().split(' '))\n",
    "unique=FindUnique(arr)\n",
    "print(unique)"
   ]
  },
  {
   "cell_type": "code",
   "execution_count": 5,
   "metadata": {},
   "outputs": [
    {
     "name": "stdout",
     "output_type": "stream",
     "text": [
      "4\n",
      "4 3 1 3 4 2 2\n",
      "1\n"
     ]
    }
   ],
   "source": [
    "def FindUnique(arr):\n",
    "    arr.sort()\n",
    "    flag=True\n",
    "    i=0\n",
    "    while i<len(arr)-2:\n",
    "        if arr[i+1]==arr[i]:\n",
    "            i=i+2\n",
    "        else:\n",
    "            break\n",
    "    return arr[i]\n",
    "    \n",
    "            \n",
    "\n",
    "# Main\n",
    "n=int(input())\n",
    "arr=list(int(i) for i in input().strip().split(' '))\n",
    "unique=FindUnique(arr)\n",
    "print(unique)"
   ]
  }
 ],
 "metadata": {
  "kernelspec": {
   "display_name": "Python 3",
   "language": "python",
   "name": "python3"
  },
  "language_info": {
   "codemirror_mode": {
    "name": "ipython",
    "version": 3
   },
   "file_extension": ".py",
   "mimetype": "text/x-python",
   "name": "python",
   "nbconvert_exporter": "python",
   "pygments_lexer": "ipython3",
   "version": "3.7.4"
  }
 },
 "nbformat": 4,
 "nbformat_minor": 2
}
