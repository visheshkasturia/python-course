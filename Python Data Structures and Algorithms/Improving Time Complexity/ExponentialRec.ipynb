{
 "cells": [
  {
   "cell_type": "code",
   "execution_count": 9,
   "metadata": {},
   "outputs": [
    {
     "name": "stdout",
     "output_type": "stream",
     "text": [
      "1.2181758880615234\n",
      "\n",
      "3.7819180488586426\n"
     ]
    }
   ],
   "source": [
    "import time\n",
    "def power(x,n):\n",
    "    if n==0:\n",
    "        return 1\n",
    "    smallpower=power(x,n//2)\n",
    "    if n%2==0:\n",
    "        return smallpower*smallpower\n",
    "    else:\n",
    "        return x*smallpower*smallpower\n",
    "\n",
    "def pow(x,n):\n",
    "    if n==0:\n",
    "        return 1\n",
    "    #smallpower=power(x,n/2)\n",
    "    if n%2==0:\n",
    "        return pow(x,n//2)*pow(x,n//2)\n",
    "    else:\n",
    "        return x*pow(x,n//2)*pow(x,n//2)\n",
    "\n",
    "start=time.time()\n",
    "power(345,1000000)\n",
    "end=time.time()\n",
    "print(end-start)\n",
    "print()\n",
    "start=time.time()\n",
    "pow(345,1000000)\n",
    "end=time.time()\n",
    "print(end-start)\n",
    "\n"
   ]
  },
  {
   "cell_type": "code",
   "execution_count": null,
   "metadata": {},
   "outputs": [],
   "source": []
  }
 ],
 "metadata": {
  "kernelspec": {
   "display_name": "Python 3",
   "language": "python",
   "name": "python3"
  },
  "language_info": {
   "codemirror_mode": {
    "name": "ipython",
    "version": 3
   },
   "file_extension": ".py",
   "mimetype": "text/x-python",
   "name": "python",
   "nbconvert_exporter": "python",
   "pygments_lexer": "ipython3",
   "version": "3.7.4"
  }
 },
 "nbformat": 4,
 "nbformat_minor": 2
}
