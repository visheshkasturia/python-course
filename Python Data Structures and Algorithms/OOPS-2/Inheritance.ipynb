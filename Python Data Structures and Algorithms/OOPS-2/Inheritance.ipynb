{
 "cells": [
  {
   "cell_type": "code",
   "execution_count": 10,
   "metadata": {},
   "outputs": [
    {
     "name": "stdout",
     "output_type": "stream",
     "text": [
      "Color:  Blue\n",
      "MaxSpeed:  60\n",
      "No. of Gears:  6\n",
      "isConvertible:  False\n"
     ]
    }
   ],
   "source": [
    "class Vehicle:\n",
    "    def __init__(self,color,maxSpeed):\n",
    "        self.color=color\n",
    "        self.__maxSpeed=maxSpeed\n",
    "    \n",
    "    def setMaxSpeed(self,maxSpeed):\n",
    "        self.__maxSpeed=maxSpeed\n",
    "    \n",
    "    def getMaxSpeed(self):\n",
    "        return self.__maxSpeed\n",
    "    \n",
    "    def print(self):\n",
    "        print(\"Color: \",self.color)\n",
    "        print(\"MaxSpeed: \",self.__maxSpeed)        \n",
    "        \n",
    "class Car(Vehicle):\n",
    "    def __init__(self,color,maxSpeed,numGears,isConvertible):\n",
    "        super().__init__(color,maxSpeed)\n",
    "        self.numGears=numGears\n",
    "        self.isConvertible=isConvertible\n",
    "    \n",
    "    def printCar(self):\n",
    "        super().print()\n",
    "        print(\"No. of Gears: \",self.numGears)\n",
    "        print(\"isConvertible: \",self.isConvertible)\n",
    "\n",
    "c1=Car(\"Blue\",60,6,False)\n",
    "c1.printCar()"
   ]
  }
 ],
 "metadata": {
  "kernelspec": {
   "display_name": "Python 3",
   "language": "python",
   "name": "python3"
  },
  "language_info": {
   "codemirror_mode": {
    "name": "ipython",
    "version": 3
   },
   "file_extension": ".py",
   "mimetype": "text/x-python",
   "name": "python",
   "nbconvert_exporter": "python",
   "pygments_lexer": "ipython3",
   "version": "3.7.4"
  }
 },
 "nbformat": 4,
 "nbformat_minor": 2
}
